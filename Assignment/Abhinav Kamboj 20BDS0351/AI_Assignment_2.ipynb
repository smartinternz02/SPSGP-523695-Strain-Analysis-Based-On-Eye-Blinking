{
  "nbformat": 4,
  "nbformat_minor": 0,
  "metadata": {
    "colab": {
      "provenance": []
    },
    "kernelspec": {
      "name": "python3",
      "display_name": "Python 3"
    },
    "language_info": {
      "name": "python"
    }
  },
  "cells": [
    {
      "cell_type": "markdown",
      "source": [
        "# ABHINAV KAMBOJ\n",
        "\n",
        "## AI Assignment 2"
      ],
      "metadata": {
        "id": "Lz-HqIpltXRq"
      }
    },
    {
      "cell_type": "markdown",
      "source": [
        "Build an ANN model for Drug classification.\n",
        "This project aims to analyze the relationship between various medical parameters and drug effectiveness. The dataset consists of patient information,\n",
        "including age, sex, blood pressure levels (BP), cholesterol levels, sodium-to-potassium ratio (Na_to_K), drug type, and corresponding labels. The goal is to\n",
        "develop a model that can accurately predict the class or category of a given drug based on its features.\n",
        "Dataset Link: https://www.kaggle.com/datasets/prathamtripathi/drug-classification"
      ],
      "metadata": {
        "id": "JV8ut790tolH"
      }
    },
    {
      "cell_type": "markdown",
      "source": [
        "## Task 1: Read the dataset and do data pre-processing\n"
      ],
      "metadata": {
        "id": "hBaGJh7rtv4S"
      }
    },
    {
      "cell_type": "code",
      "source": [
        "import pandas as pd\n",
        "import numpy as np\n",
        "import matplotlib.pyplot as plt\n",
        "import seaborn and sns"
      ],
      "metadata": {
        "id": "rhrCrSKptxHl"
      },
      "execution_count": null,
      "outputs": []
    },
    {
      "cell_type": "code",
      "source": [
        "df = pd.read_csv(\"/content/drug200.csv\")\n",
        "df.head()"
      ],
      "metadata": {
        "colab": {
          "base_uri": "https://localhost:8080/",
          "height": 206
        },
        "id": "rUXzZRifuZP-",
        "outputId": "7b6f1f93-5fb5-499c-a2e6-9b79d66bf0f4"
      },
      "execution_count": null,
      "outputs": [
        {
          "output_type": "execute_result",
          "data": {
            "text/plain": [
              "   Age Sex      BP Cholesterol  Na_to_K   Drug\n",
              "0   23   F    HIGH        HIGH   25.355  DrugY\n",
              "1   47   M     LOW        HIGH   13.093  drugC\n",
              "2   47   M     LOW        HIGH   10.114  drugC\n",
              "3   28   F  NORMAL        HIGH    7.798  drugX\n",
              "4   61   F     LOW        HIGH   18.043  DrugY"
            ],
            "text/html": [
              "\n",
              "  <div id=\"df-3cb51721-7cf4-4aef-9fc3-ed44219266d2\">\n",
              "    <div class=\"colab-df-container\">\n",
              "      <div>\n",
              "<style scoped>\n",
              "    .dataframe tbody tr th:only-of-type {\n",
              "        vertical-align: middle;\n",
              "    }\n",
              "\n",
              "    .dataframe tbody tr th {\n",
              "        vertical-align: top;\n",
              "    }\n",
              "\n",
              "    .dataframe thead th {\n",
              "        text-align: right;\n",
              "    }\n",
              "</style>\n",
              "<table border=\"1\" class=\"dataframe\">\n",
              "  <thead>\n",
              "    <tr style=\"text-align: right;\">\n",
              "      <th></th>\n",
              "      <th>Age</th>\n",
              "      <th>Sex</th>\n",
              "      <th>BP</th>\n",
              "      <th>Cholesterol</th>\n",
              "      <th>Na_to_K</th>\n",
              "      <th>Drug</th>\n",
              "    </tr>\n",
              "  </thead>\n",
              "  <tbody>\n",
              "    <tr>\n",
              "      <th>0</th>\n",
              "      <td>23</td>\n",
              "      <td>F</td>\n",
              "      <td>HIGH</td>\n",
              "      <td>HIGH</td>\n",
              "      <td>25.355</td>\n",
              "      <td>DrugY</td>\n",
              "    </tr>\n",
              "    <tr>\n",
              "      <th>1</th>\n",
              "      <td>47</td>\n",
              "      <td>M</td>\n",
              "      <td>LOW</td>\n",
              "      <td>HIGH</td>\n",
              "      <td>13.093</td>\n",
              "      <td>drugC</td>\n",
              "    </tr>\n",
              "    <tr>\n",
              "      <th>2</th>\n",
              "      <td>47</td>\n",
              "      <td>M</td>\n",
              "      <td>LOW</td>\n",
              "      <td>HIGH</td>\n",
              "      <td>10.114</td>\n",
              "      <td>drugC</td>\n",
              "    </tr>\n",
              "    <tr>\n",
              "      <th>3</th>\n",
              "      <td>28</td>\n",
              "      <td>F</td>\n",
              "      <td>NORMAL</td>\n",
              "      <td>HIGH</td>\n",
              "      <td>7.798</td>\n",
              "      <td>drugX</td>\n",
              "    </tr>\n",
              "    <tr>\n",
              "      <th>4</th>\n",
              "      <td>61</td>\n",
              "      <td>F</td>\n",
              "      <td>LOW</td>\n",
              "      <td>HIGH</td>\n",
              "      <td>18.043</td>\n",
              "      <td>DrugY</td>\n",
              "    </tr>\n",
              "  </tbody>\n",
              "</table>\n",
              "</div>\n",
              "      <button class=\"colab-df-convert\" onclick=\"convertToInteractive('df-3cb51721-7cf4-4aef-9fc3-ed44219266d2')\"\n",
              "              title=\"Convert this dataframe to an interactive table.\"\n",
              "              style=\"display:none;\">\n",
              "        \n",
              "  <svg xmlns=\"http://www.w3.org/2000/svg\" height=\"24px\"viewBox=\"0 0 24 24\"\n",
              "       width=\"24px\">\n",
              "    <path d=\"M0 0h24v24H0V0z\" fill=\"none\"/>\n",
              "    <path d=\"M18.56 5.44l.94 2.06.94-2.06 2.06-.94-2.06-.94-.94-2.06-.94 2.06-2.06.94zm-11 1L8.5 8.5l.94-2.06 2.06-.94-2.06-.94L8.5 2.5l-.94 2.06-2.06.94zm10 10l.94 2.06.94-2.06 2.06-.94-2.06-.94-.94-2.06-.94 2.06-2.06.94z\"/><path d=\"M17.41 7.96l-1.37-1.37c-.4-.4-.92-.59-1.43-.59-.52 0-1.04.2-1.43.59L10.3 9.45l-7.72 7.72c-.78.78-.78 2.05 0 2.83L4 21.41c.39.39.9.59 1.41.59.51 0 1.02-.2 1.41-.59l7.78-7.78 2.81-2.81c.8-.78.8-2.07 0-2.86zM5.41 20L4 18.59l7.72-7.72 1.47 1.35L5.41 20z\"/>\n",
              "  </svg>\n",
              "      </button>\n",
              "      \n",
              "  <style>\n",
              "    .colab-df-container {\n",
              "      display:flex;\n",
              "      flex-wrap:wrap;\n",
              "      gap: 12px;\n",
              "    }\n",
              "\n",
              "    .colab-df-convert {\n",
              "      background-color: #E8F0FE;\n",
              "      border: none;\n",
              "      border-radius: 50%;\n",
              "      cursor: pointer;\n",
              "      display: none;\n",
              "      fill: #1967D2;\n",
              "      height: 32px;\n",
              "      padding: 0 0 0 0;\n",
              "      width: 32px;\n",
              "    }\n",
              "\n",
              "    .colab-df-convert:hover {\n",
              "      background-color: #E2EBFA;\n",
              "      box-shadow: 0px 1px 2px rgba(60, 64, 67, 0.3), 0px 1px 3px 1px rgba(60, 64, 67, 0.15);\n",
              "      fill: #174EA6;\n",
              "    }\n",
              "\n",
              "    [theme=dark] .colab-df-convert {\n",
              "      background-color: #3B4455;\n",
              "      fill: #D2E3FC;\n",
              "    }\n",
              "\n",
              "    [theme=dark] .colab-df-convert:hover {\n",
              "      background-color: #434B5C;\n",
              "      box-shadow: 0px 1px 3px 1px rgba(0, 0, 0, 0.15);\n",
              "      filter: drop-shadow(0px 1px 2px rgba(0, 0, 0, 0.3));\n",
              "      fill: #FFFFFF;\n",
              "    }\n",
              "  </style>\n",
              "\n",
              "      <script>\n",
              "        const buttonEl =\n",
              "          document.querySelector('#df-3cb51721-7cf4-4aef-9fc3-ed44219266d2 button.colab-df-convert');\n",
              "        buttonEl.style.display =\n",
              "          google.colab.kernel.accessAllowed ? 'block' : 'none';\n",
              "\n",
              "        async function convertToInteractive(key) {\n",
              "          const element = document.querySelector('#df-3cb51721-7cf4-4aef-9fc3-ed44219266d2');\n",
              "          const dataTable =\n",
              "            await google.colab.kernel.invokeFunction('convertToInteractive',\n",
              "                                                     [key], {});\n",
              "          if (!dataTable) return;\n",
              "\n",
              "          const docLinkHtml = 'Like what you see? Visit the ' +\n",
              "            '<a target=\"_blank\" href=https://colab.research.google.com/notebooks/data_table.ipynb>data table notebook</a>'\n",
              "            + ' to learn more about interactive tables.';\n",
              "          element.innerHTML = '';\n",
              "          dataTable['output_type'] = 'display_data';\n",
              "          await google.colab.output.renderOutput(dataTable, element);\n",
              "          const docLink = document.createElement('div');\n",
              "          docLink.innerHTML = docLinkHtml;\n",
              "          element.appendChild(docLink);\n",
              "        }\n",
              "      </script>\n",
              "    </div>\n",
              "  </div>\n",
              "  "
            ]
          },
          "metadata": {},
          "execution_count": 2
        }
      ]
    },
    {
      "cell_type": "code",
      "source": [
        "df.describe(include='all')"
      ],
      "metadata": {
        "colab": {
          "base_uri": "https://localhost:8080/",
          "height": 394
        },
        "id": "2PAsY9OMwd-d",
        "outputId": "0336fb9b-4600-4c2d-c253-0316687aa7ef"
      },
      "execution_count": null,
      "outputs": [
        {
          "output_type": "execute_result",
          "data": {
            "text/plain": [
              "               Age  Sex    BP Cholesterol     Na_to_K   Drug\n",
              "count   200.000000  200   200         200  200.000000    200\n",
              "unique         NaN    2     3           2         NaN      5\n",
              "top            NaN    M  HIGH        HIGH         NaN  DrugY\n",
              "freq           NaN  104    77         103         NaN     91\n",
              "mean     44.315000  NaN   NaN         NaN   16.084485    NaN\n",
              "std      16.544315  NaN   NaN         NaN    7.223956    NaN\n",
              "min      15.000000  NaN   NaN         NaN    6.269000    NaN\n",
              "25%      31.000000  NaN   NaN         NaN   10.445500    NaN\n",
              "50%      45.000000  NaN   NaN         NaN   13.936500    NaN\n",
              "75%      58.000000  NaN   NaN         NaN   19.380000    NaN\n",
              "max      74.000000  NaN   NaN         NaN   38.247000    NaN"
            ],
            "text/html": [
              "\n",
              "  <div id=\"df-5264b7ce-28c4-4e6e-ae4d-595c5dcc3585\">\n",
              "    <div class=\"colab-df-container\">\n",
              "      <div>\n",
              "<style scoped>\n",
              "    .dataframe tbody tr th:only-of-type {\n",
              "        vertical-align: middle;\n",
              "    }\n",
              "\n",
              "    .dataframe tbody tr th {\n",
              "        vertical-align: top;\n",
              "    }\n",
              "\n",
              "    .dataframe thead th {\n",
              "        text-align: right;\n",
              "    }\n",
              "</style>\n",
              "<table border=\"1\" class=\"dataframe\">\n",
              "  <thead>\n",
              "    <tr style=\"text-align: right;\">\n",
              "      <th></th>\n",
              "      <th>Age</th>\n",
              "      <th>Sex</th>\n",
              "      <th>BP</th>\n",
              "      <th>Cholesterol</th>\n",
              "      <th>Na_to_K</th>\n",
              "      <th>Drug</th>\n",
              "    </tr>\n",
              "  </thead>\n",
              "  <tbody>\n",
              "    <tr>\n",
              "      <th>count</th>\n",
              "      <td>200.000000</td>\n",
              "      <td>200</td>\n",
              "      <td>200</td>\n",
              "      <td>200</td>\n",
              "      <td>200.000000</td>\n",
              "      <td>200</td>\n",
              "    </tr>\n",
              "    <tr>\n",
              "      <th>unique</th>\n",
              "      <td>NaN</td>\n",
              "      <td>2</td>\n",
              "      <td>3</td>\n",
              "      <td>2</td>\n",
              "      <td>NaN</td>\n",
              "      <td>5</td>\n",
              "    </tr>\n",
              "    <tr>\n",
              "      <th>top</th>\n",
              "      <td>NaN</td>\n",
              "      <td>M</td>\n",
              "      <td>HIGH</td>\n",
              "      <td>HIGH</td>\n",
              "      <td>NaN</td>\n",
              "      <td>DrugY</td>\n",
              "    </tr>\n",
              "    <tr>\n",
              "      <th>freq</th>\n",
              "      <td>NaN</td>\n",
              "      <td>104</td>\n",
              "      <td>77</td>\n",
              "      <td>103</td>\n",
              "      <td>NaN</td>\n",
              "      <td>91</td>\n",
              "    </tr>\n",
              "    <tr>\n",
              "      <th>mean</th>\n",
              "      <td>44.315000</td>\n",
              "      <td>NaN</td>\n",
              "      <td>NaN</td>\n",
              "      <td>NaN</td>\n",
              "      <td>16.084485</td>\n",
              "      <td>NaN</td>\n",
              "    </tr>\n",
              "    <tr>\n",
              "      <th>std</th>\n",
              "      <td>16.544315</td>\n",
              "      <td>NaN</td>\n",
              "      <td>NaN</td>\n",
              "      <td>NaN</td>\n",
              "      <td>7.223956</td>\n",
              "      <td>NaN</td>\n",
              "    </tr>\n",
              "    <tr>\n",
              "      <th>min</th>\n",
              "      <td>15.000000</td>\n",
              "      <td>NaN</td>\n",
              "      <td>NaN</td>\n",
              "      <td>NaN</td>\n",
              "      <td>6.269000</td>\n",
              "      <td>NaN</td>\n",
              "    </tr>\n",
              "    <tr>\n",
              "      <th>25%</th>\n",
              "      <td>31.000000</td>\n",
              "      <td>NaN</td>\n",
              "      <td>NaN</td>\n",
              "      <td>NaN</td>\n",
              "      <td>10.445500</td>\n",
              "      <td>NaN</td>\n",
              "    </tr>\n",
              "    <tr>\n",
              "      <th>50%</th>\n",
              "      <td>45.000000</td>\n",
              "      <td>NaN</td>\n",
              "      <td>NaN</td>\n",
              "      <td>NaN</td>\n",
              "      <td>13.936500</td>\n",
              "      <td>NaN</td>\n",
              "    </tr>\n",
              "    <tr>\n",
              "      <th>75%</th>\n",
              "      <td>58.000000</td>\n",
              "      <td>NaN</td>\n",
              "      <td>NaN</td>\n",
              "      <td>NaN</td>\n",
              "      <td>19.380000</td>\n",
              "      <td>NaN</td>\n",
              "    </tr>\n",
              "    <tr>\n",
              "      <th>max</th>\n",
              "      <td>74.000000</td>\n",
              "      <td>NaN</td>\n",
              "      <td>NaN</td>\n",
              "      <td>NaN</td>\n",
              "      <td>38.247000</td>\n",
              "      <td>NaN</td>\n",
              "    </tr>\n",
              "  </tbody>\n",
              "</table>\n",
              "</div>\n",
              "      <button class=\"colab-df-convert\" onclick=\"convertToInteractive('df-5264b7ce-28c4-4e6e-ae4d-595c5dcc3585')\"\n",
              "              title=\"Convert this dataframe to an interactive table.\"\n",
              "              style=\"display:none;\">\n",
              "        \n",
              "  <svg xmlns=\"http://www.w3.org/2000/svg\" height=\"24px\"viewBox=\"0 0 24 24\"\n",
              "       width=\"24px\">\n",
              "    <path d=\"M0 0h24v24H0V0z\" fill=\"none\"/>\n",
              "    <path d=\"M18.56 5.44l.94 2.06.94-2.06 2.06-.94-2.06-.94-.94-2.06-.94 2.06-2.06.94zm-11 1L8.5 8.5l.94-2.06 2.06-.94-2.06-.94L8.5 2.5l-.94 2.06-2.06.94zm10 10l.94 2.06.94-2.06 2.06-.94-2.06-.94-.94-2.06-.94 2.06-2.06.94z\"/><path d=\"M17.41 7.96l-1.37-1.37c-.4-.4-.92-.59-1.43-.59-.52 0-1.04.2-1.43.59L10.3 9.45l-7.72 7.72c-.78.78-.78 2.05 0 2.83L4 21.41c.39.39.9.59 1.41.59.51 0 1.02-.2 1.41-.59l7.78-7.78 2.81-2.81c.8-.78.8-2.07 0-2.86zM5.41 20L4 18.59l7.72-7.72 1.47 1.35L5.41 20z\"/>\n",
              "  </svg>\n",
              "      </button>\n",
              "      \n",
              "  <style>\n",
              "    .colab-df-container {\n",
              "      display:flex;\n",
              "      flex-wrap:wrap;\n",
              "      gap: 12px;\n",
              "    }\n",
              "\n",
              "    .colab-df-convert {\n",
              "      background-color: #E8F0FE;\n",
              "      border: none;\n",
              "      border-radius: 50%;\n",
              "      cursor: pointer;\n",
              "      display: none;\n",
              "      fill: #1967D2;\n",
              "      height: 32px;\n",
              "      padding: 0 0 0 0;\n",
              "      width: 32px;\n",
              "    }\n",
              "\n",
              "    .colab-df-convert:hover {\n",
              "      background-color: #E2EBFA;\n",
              "      box-shadow: 0px 1px 2px rgba(60, 64, 67, 0.3), 0px 1px 3px 1px rgba(60, 64, 67, 0.15);\n",
              "      fill: #174EA6;\n",
              "    }\n",
              "\n",
              "    [theme=dark] .colab-df-convert {\n",
              "      background-color: #3B4455;\n",
              "      fill: #D2E3FC;\n",
              "    }\n",
              "\n",
              "    [theme=dark] .colab-df-convert:hover {\n",
              "      background-color: #434B5C;\n",
              "      box-shadow: 0px 1px 3px 1px rgba(0, 0, 0, 0.15);\n",
              "      filter: drop-shadow(0px 1px 2px rgba(0, 0, 0, 0.3));\n",
              "      fill: #FFFFFF;\n",
              "    }\n",
              "  </style>\n",
              "\n",
              "      <script>\n",
              "        const buttonEl =\n",
              "          document.querySelector('#df-5264b7ce-28c4-4e6e-ae4d-595c5dcc3585 button.colab-df-convert');\n",
              "        buttonEl.style.display =\n",
              "          google.colab.kernel.accessAllowed ? 'block' : 'none';\n",
              "\n",
              "        async function convertToInteractive(key) {\n",
              "          const element = document.querySelector('#df-5264b7ce-28c4-4e6e-ae4d-595c5dcc3585');\n",
              "          const dataTable =\n",
              "            await google.colab.kernel.invokeFunction('convertToInteractive',\n",
              "                                                     [key], {});\n",
              "          if (!dataTable) return;\n",
              "\n",
              "          const docLinkHtml = 'Like what you see? Visit the ' +\n",
              "            '<a target=\"_blank\" href=https://colab.research.google.com/notebooks/data_table.ipynb>data table notebook</a>'\n",
              "            + ' to learn more about interactive tables.';\n",
              "          element.innerHTML = '';\n",
              "          dataTable['output_type'] = 'display_data';\n",
              "          await google.colab.output.renderOutput(dataTable, element);\n",
              "          const docLink = document.createElement('div');\n",
              "          docLink.innerHTML = docLinkHtml;\n",
              "          element.appendChild(docLink);\n",
              "        }\n",
              "      </script>\n",
              "    </div>\n",
              "  </div>\n",
              "  "
            ]
          },
          "metadata": {},
          "execution_count": 3
        }
      ]
    },
    {
      "cell_type": "code",
      "source": [
        "df.info()"
      ],
      "metadata": {
        "colab": {
          "base_uri": "https://localhost:8080/"
        },
        "id": "0lf4JpMFxh82",
        "outputId": "51760c52-87dc-4ad7-c048-43cbba69f80b"
      },
      "execution_count": null,
      "outputs": [
        {
          "output_type": "stream",
          "name": "stdout",
          "text": [
            "<class 'pandas.core.frame.DataFrame'>\n",
            "RangeIndex: 200 entries, 0 to 199\n",
            "Data columns (total 6 columns):\n",
            " #   Column       Non-Null Count  Dtype  \n",
            "---  ------       --------------  -----  \n",
            " 0   Age          200 non-null    int64  \n",
            " 1   Sex          200 non-null    object \n",
            " 2   BP           200 non-null    object \n",
            " 3   Cholesterol  200 non-null    object \n",
            " 4   Na_to_K      200 non-null    float64\n",
            " 5   Drug         200 non-null    object \n",
            "dtypes: float64(1), int64(1), object(4)\n",
            "memory usage: 9.5+ KB\n"
          ]
        }
      ]
    },
    {
      "cell_type": "code",
      "source": [
        "df.isnull().sum() # find total missing values for each attribute"
      ],
      "metadata": {
        "colab": {
          "base_uri": "https://localhost:8080/"
        },
        "id": "s8CNk9bnugzh",
        "outputId": "51e81bf1-fcfb-4acc-b23d-e6c42ffccece"
      },
      "execution_count": null,
      "outputs": [
        {
          "output_type": "execute_result",
          "data": {
            "text/plain": [
              "Age            0\n",
              "Sex            0\n",
              "BP             0\n",
              "Cholesterol    0\n",
              "Na_to_K        0\n",
              "Drug           0\n",
              "dtype: int64"
            ]
          },
          "metadata": {},
          "execution_count": 5
        }
      ]
    },
    {
      "cell_type": "code",
      "source": [
        "df.shape"
      ],
      "metadata": {
        "colab": {
          "base_uri": "https://localhost:8080/"
        },
        "id": "fcFB4Cc6xyS-",
        "outputId": "d061de07-1e56-436a-877e-0a5128948e72"
      },
      "execution_count": null,
      "outputs": [
        {
          "output_type": "execute_result",
          "data": {
            "text/plain": [
              "(200, 6)"
            ]
          },
          "metadata": {},
          "execution_count": 6
        }
      ]
    },
    {
      "cell_type": "code",
      "source": [
        "df['Drug'].unique()"
      ],
      "metadata": {
        "colab": {
          "base_uri": "https://localhost:8080/"
        },
        "id": "BuoLtPXYuqJw",
        "outputId": "20ffa740-6a51-4e38-fe13-0591256f98c4"
      },
      "execution_count": null,
      "outputs": [
        {
          "output_type": "execute_result",
          "data": {
            "text/plain": [
              "array(['DrugY', 'drugC', 'drugX', 'drugA', 'drugB'], dtype=object)"
            ]
          },
          "metadata": {},
          "execution_count": 7
        }
      ]
    },
    {
      "cell_type": "code",
      "source": [
        "# encoding the data\n",
        "from sklearn.preprocessing import LabelEncoder\n",
        "\n",
        "le = LabelEncoder()\n",
        "df['Sex'] = le.fit_transform(df['Sex'])\n",
        "df['BP'] = le.fit_transform(df['BP'])\n",
        "df['Cholesterol'] = le.fit_transform(df['Cholesterol'])"
      ],
      "metadata": {
        "id": "49b8AsQqu7tE"
      },
      "execution_count": null,
      "outputs": []
    },
    {
      "cell_type": "code",
      "source": [
        "df.head()"
      ],
      "metadata": {
        "colab": {
          "base_uri": "https://localhost:8080/",
          "height": 206
        },
        "id": "XJSpg8Fkvr3b",
        "outputId": "160b5442-9740-476b-878a-61700b3f7402"
      },
      "execution_count": null,
      "outputs": [
        {
          "output_type": "execute_result",
          "data": {
            "text/plain": [
              "   Age  Sex  BP  Cholesterol  Na_to_K   Drug\n",
              "0   23    0   0            0   25.355  DrugY\n",
              "1   47    1   1            0   13.093  drugC\n",
              "2   47    1   1            0   10.114  drugC\n",
              "3   28    0   2            0    7.798  drugX\n",
              "4   61    0   1            0   18.043  DrugY"
            ],
            "text/html": [
              "\n",
              "  <div id=\"df-90581a8c-63f4-4a96-b6d2-0ec07e29ef32\">\n",
              "    <div class=\"colab-df-container\">\n",
              "      <div>\n",
              "<style scoped>\n",
              "    .dataframe tbody tr th:only-of-type {\n",
              "        vertical-align: middle;\n",
              "    }\n",
              "\n",
              "    .dataframe tbody tr th {\n",
              "        vertical-align: top;\n",
              "    }\n",
              "\n",
              "    .dataframe thead th {\n",
              "        text-align: right;\n",
              "    }\n",
              "</style>\n",
              "<table border=\"1\" class=\"dataframe\">\n",
              "  <thead>\n",
              "    <tr style=\"text-align: right;\">\n",
              "      <th></th>\n",
              "      <th>Age</th>\n",
              "      <th>Sex</th>\n",
              "      <th>BP</th>\n",
              "      <th>Cholesterol</th>\n",
              "      <th>Na_to_K</th>\n",
              "      <th>Drug</th>\n",
              "    </tr>\n",
              "  </thead>\n",
              "  <tbody>\n",
              "    <tr>\n",
              "      <th>0</th>\n",
              "      <td>23</td>\n",
              "      <td>0</td>\n",
              "      <td>0</td>\n",
              "      <td>0</td>\n",
              "      <td>25.355</td>\n",
              "      <td>DrugY</td>\n",
              "    </tr>\n",
              "    <tr>\n",
              "      <th>1</th>\n",
              "      <td>47</td>\n",
              "      <td>1</td>\n",
              "      <td>1</td>\n",
              "      <td>0</td>\n",
              "      <td>13.093</td>\n",
              "      <td>drugC</td>\n",
              "    </tr>\n",
              "    <tr>\n",
              "      <th>2</th>\n",
              "      <td>47</td>\n",
              "      <td>1</td>\n",
              "      <td>1</td>\n",
              "      <td>0</td>\n",
              "      <td>10.114</td>\n",
              "      <td>drugC</td>\n",
              "    </tr>\n",
              "    <tr>\n",
              "      <th>3</th>\n",
              "      <td>28</td>\n",
              "      <td>0</td>\n",
              "      <td>2</td>\n",
              "      <td>0</td>\n",
              "      <td>7.798</td>\n",
              "      <td>drugX</td>\n",
              "    </tr>\n",
              "    <tr>\n",
              "      <th>4</th>\n",
              "      <td>61</td>\n",
              "      <td>0</td>\n",
              "      <td>1</td>\n",
              "      <td>0</td>\n",
              "      <td>18.043</td>\n",
              "      <td>DrugY</td>\n",
              "    </tr>\n",
              "  </tbody>\n",
              "</table>\n",
              "</div>\n",
              "      <button class=\"colab-df-convert\" onclick=\"convertToInteractive('df-90581a8c-63f4-4a96-b6d2-0ec07e29ef32')\"\n",
              "              title=\"Convert this dataframe to an interactive table.\"\n",
              "              style=\"display:none;\">\n",
              "        \n",
              "  <svg xmlns=\"http://www.w3.org/2000/svg\" height=\"24px\"viewBox=\"0 0 24 24\"\n",
              "       width=\"24px\">\n",
              "    <path d=\"M0 0h24v24H0V0z\" fill=\"none\"/>\n",
              "    <path d=\"M18.56 5.44l.94 2.06.94-2.06 2.06-.94-2.06-.94-.94-2.06-.94 2.06-2.06.94zm-11 1L8.5 8.5l.94-2.06 2.06-.94-2.06-.94L8.5 2.5l-.94 2.06-2.06.94zm10 10l.94 2.06.94-2.06 2.06-.94-2.06-.94-.94-2.06-.94 2.06-2.06.94z\"/><path d=\"M17.41 7.96l-1.37-1.37c-.4-.4-.92-.59-1.43-.59-.52 0-1.04.2-1.43.59L10.3 9.45l-7.72 7.72c-.78.78-.78 2.05 0 2.83L4 21.41c.39.39.9.59 1.41.59.51 0 1.02-.2 1.41-.59l7.78-7.78 2.81-2.81c.8-.78.8-2.07 0-2.86zM5.41 20L4 18.59l7.72-7.72 1.47 1.35L5.41 20z\"/>\n",
              "  </svg>\n",
              "      </button>\n",
              "      \n",
              "  <style>\n",
              "    .colab-df-container {\n",
              "      display:flex;\n",
              "      flex-wrap:wrap;\n",
              "      gap: 12px;\n",
              "    }\n",
              "\n",
              "    .colab-df-convert {\n",
              "      background-color: #E8F0FE;\n",
              "      border: none;\n",
              "      border-radius: 50%;\n",
              "      cursor: pointer;\n",
              "      display: none;\n",
              "      fill: #1967D2;\n",
              "      height: 32px;\n",
              "      padding: 0 0 0 0;\n",
              "      width: 32px;\n",
              "    }\n",
              "\n",
              "    .colab-df-convert:hover {\n",
              "      background-color: #E2EBFA;\n",
              "      box-shadow: 0px 1px 2px rgba(60, 64, 67, 0.3), 0px 1px 3px 1px rgba(60, 64, 67, 0.15);\n",
              "      fill: #174EA6;\n",
              "    }\n",
              "\n",
              "    [theme=dark] .colab-df-convert {\n",
              "      background-color: #3B4455;\n",
              "      fill: #D2E3FC;\n",
              "    }\n",
              "\n",
              "    [theme=dark] .colab-df-convert:hover {\n",
              "      background-color: #434B5C;\n",
              "      box-shadow: 0px 1px 3px 1px rgba(0, 0, 0, 0.15);\n",
              "      filter: drop-shadow(0px 1px 2px rgba(0, 0, 0, 0.3));\n",
              "      fill: #FFFFFF;\n",
              "    }\n",
              "  </style>\n",
              "\n",
              "      <script>\n",
              "        const buttonEl =\n",
              "          document.querySelector('#df-90581a8c-63f4-4a96-b6d2-0ec07e29ef32 button.colab-df-convert');\n",
              "        buttonEl.style.display =\n",
              "          google.colab.kernel.accessAllowed ? 'block' : 'none';\n",
              "\n",
              "        async function convertToInteractive(key) {\n",
              "          const element = document.querySelector('#df-90581a8c-63f4-4a96-b6d2-0ec07e29ef32');\n",
              "          const dataTable =\n",
              "            await google.colab.kernel.invokeFunction('convertToInteractive',\n",
              "                                                     [key], {});\n",
              "          if (!dataTable) return;\n",
              "\n",
              "          const docLinkHtml = 'Like what you see? Visit the ' +\n",
              "            '<a target=\"_blank\" href=https://colab.research.google.com/notebooks/data_table.ipynb>data table notebook</a>'\n",
              "            + ' to learn more about interactive tables.';\n",
              "          element.innerHTML = '';\n",
              "          dataTable['output_type'] = 'display_data';\n",
              "          await google.colab.output.renderOutput(dataTable, element);\n",
              "          const docLink = document.createElement('div');\n",
              "          docLink.innerHTML = docLinkHtml;\n",
              "          element.appendChild(docLink);\n",
              "        }\n",
              "      </script>\n",
              "    </div>\n",
              "  </div>\n",
              "  "
            ]
          },
          "metadata": {},
          "execution_count": 9
        }
      ]
    },
    {
      "cell_type": "code",
      "source": [
        "col = ['Age','Na_to_K']\n",
        "\n",
        "for i,j in enumerate(col):\n",
        "  plt.figure(figsize=(6,12))\n",
        "  plt.subplot(2,1,i+1)\n",
        "  sns.boxplot(df[j])"
      ],
      "metadata": {
        "colab": {
          "base_uri": "https://localhost:8080/",
          "height": 943
        },
        "id": "xGsU-gSiwCxs",
        "outputId": "b8896ec7-3f46-41d8-fe7c-44fa3cc5e382"
      },
      "execution_count": null,
      "outputs": [
        {
          "output_type": "display_data",
          "data": {
            "text/plain": [
              "<Figure size 600x1200 with 1 Axes>"
            ],
            "image/png": "[encoded data removed]"
          },
          "metadata": {}
        },
        {
          "output_type": "display_data",
          "data": {
            "text/plain": [
              "<Figure size 600x1200 with 1 Axes>"
            ],
            "image/png": "[encoded data removed]"
          },
          "metadata": {}
        }
      ]
    },
    {
      "cell_type": "code",
      "source": [
        "# There are outliers for Na_to_K so lets remove outliers\n",
        "\n",
        "q1 = df['Na_to_K'].quantile(.25)\n",
        "q3 = df['Na_to_K'].quantile(.75)\n",
        "IQR = q3-q1\n",
        "upper_limit = q3+1.5*IQR\n",
        "lower_limit = q1-1.5*IQR\n",
        "\n",
        "df=df[df['Na_to_K']<upper_limit]\n"
      ],
      "metadata": {
        "id": "ZJz45bs-xq1R"
      },
      "execution_count": null,
      "outputs": []
    },
    {
      "cell_type": "code",
      "source": [
        "sns.boxplot(df['Na_to_K']) # outliers imputed with mean value"
      ],
      "metadata": {
        "colab": {
          "base_uri": "https://localhost:8080/",
          "height": 447
        },
        "id": "W6iJis3b0ES9",
        "outputId": "4c1af501-72df-46f3-f1d3-fbb73ce43e9e"
      },
      "execution_count": null,
      "outputs": [
        {
          "output_type": "execute_result",
          "data": {
            "text/plain": [
              "<Axes: >"
            ]
          },
          "metadata": {},
          "execution_count": 12
        },
        {
          "output_type": "display_data",
          "data": {
            "text/plain": [
              "<Figure size 640x480 with 1 Axes>"
            ],
            "image/png": "[encoded data removed]"
          },
          "metadata": {}
        }
      ]
    },
    {
      "cell_type": "code",
      "source": [
        "df['Drug'].unique()"
      ],
      "metadata": {
        "colab": {
          "base_uri": "https://localhost:8080/"
        },
        "id": "C_dM1AvH7rmk",
        "outputId": "cd8a5cc7-30a1-4a5d-ddce-07ab65ae638a"
      },
      "execution_count": null,
      "outputs": [
        {
          "output_type": "execute_result",
          "data": {
            "text/plain": [
              "array(['DrugY', 'drugC', 'drugX', 'drugA', 'drugB'], dtype=object)"
            ]
          },
          "metadata": {},
          "execution_count": 13
        }
      ]
    },
    {
      "cell_type": "code",
      "source": [
        "# Splitting the data into training and testing\n",
        "X = df.iloc[:,:5].values\n",
        "y = pd.get_dummies(df['Drug']).values"
      ],
      "metadata": {
        "id": "Ijbh4lw_1N8_"
      },
      "execution_count": null,
      "outputs": []
    },
    {
      "cell_type": "code",
      "source": [
        "from sklearn.model_selection import train_test_split\n",
        "\n",
        "X_train, X_test, y_train, y_test = train_test_split(X,y,test_size = 0.25, random_state = 12)"
      ],
      "metadata": {
        "id": "d6WYLZld13Ld"
      },
      "execution_count": null,
      "outputs": []
    },
    {
      "cell_type": "markdown",
      "source": [
        "## Task 2: Build the ANN model with (input layer, min 3 hidden layers & output layer)\n"
      ],
      "metadata": {
        "id": "8-esp-hA2v10"
      }
    },
    {
      "cell_type": "code",
      "source": [
        "from tensorflow.keras.models import Sequential\n",
        "from tensorflow.keras.layers import Dense"
      ],
      "metadata": {
        "id": "_TXbCUU12lVx"
      },
      "execution_count": null,
      "outputs": []
    },
    {
      "cell_type": "code",
      "source": [
        "# Let us initialize the sequential model\n",
        "model = Sequential()\n",
        "\n",
        "#Input layer\n",
        "model.add(Dense(5,input_dim=5,activation = 'relu'))\n",
        "\n",
        "#1st hidden layer\n",
        "model.add(Dense(32,activation='relu'))\n",
        "\n",
        "#2nd hidden layer\n",
        "model.add(Dense(16,activation='relu'))\n",
        "\n",
        "#3rd hidden layer\n",
        "model.add(Dense(8,activation='relu'))\n",
        "\n",
        "#Output layer\n",
        "model.add(Dense(5,activation='softmax'))"
      ],
      "metadata": {
        "id": "u09_-T3P2m-J"
      },
      "execution_count": null,
      "outputs": []
    },
    {
      "cell_type": "code",
      "source": [
        "model.compile(optimizer='adam',loss='categorical_crossentropy',metrics=['accuracy'])"
      ],
      "metadata": {
        "id": "g5eX0HTE4m0n"
      },
      "execution_count": null,
      "outputs": []
    },
    {
      "cell_type": "code",
      "source": [
        "model.summary()"
      ],
      "metadata": {
        "colab": {
          "base_uri": "https://localhost:8080/"
        },
        "id": "-h26C0q35BYa",
        "outputId": "11825336-fd1e-422c-ea36-3afed0dbb99f"
      },
      "execution_count": null,
      "outputs": [
        {
          "output_type": "stream",
          "name": "stdout",
          "text": [
            "Model: \"sequential\"\n",
            "_________________________________________________________________\n",
            " Layer (type)                Output Shape              Param #   \n",
            "=================================================================\n",
            " dense (Dense)               (None, 5)                 30        \n",
            "                                                                 \n",
            " dense_1 (Dense)             (None, 32)                192       \n",
            "                                                                 \n",
            " dense_2 (Dense)             (None, 16)                528       \n",
            "                                                                 \n",
            " dense_3 (Dense)             (None, 8)                 136       \n",
            "                                                                 \n",
            " dense_4 (Dense)             (None, 5)                 45        \n",
            "                                                                 \n",
            "=================================================================\n",
            "Total params: 931\n",
            "Trainable params: 931\n",
            "Non-trainable params: 0\n",
            "_________________________________________________________________\n"
          ]
        }
      ]
    },
    {
      "cell_type": "code",
      "source": [
        "model.fit(X_train,y_train,epochs=150,batch_size=5,validation_data=(X_test,y_test))"
      ],
      "metadata": {
        "colab": {
          "base_uri": "https://localhost:8080/"
        },
        "id": "DulzVJh75IrR",
        "outputId": "95d07530-1a91-4fe1-979e-1f2b16ef9f1a"
      },
      "execution_count": null,
      "outputs": [
        {
          "output_type": "stream",
          "name": "stdout",
          "text": [
            "Epoch 1/150\n",
            "29/29 [==============================] - 2s 13ms/step - loss: 5.0424 - accuracy: 0.4167 - val_loss: 2.1116 - val_accuracy: 0.4792\n",
            "Epoch 2/150\n",
            "29/29 [==============================] - 0s 4ms/step - loss: 1.6286 - accuracy: 0.5625 - val_loss: 1.1974 - val_accuracy: 0.5208\n",
            "Epoch 3/150\n",
            "29/29 [==============================] - 0s 4ms/step - loss: 1.2159 - accuracy: 0.5903 - val_loss: 1.1529 - val_accuracy: 0.5208\n",
            "Epoch 4/150\n",
            "29/29 [==============================] - 0s 4ms/step - loss: 1.1727 - accuracy: 0.5556 - val_loss: 1.1409 - val_accuracy: 0.5208\n",
            "Epoch 5/150\n",
            "29/29 [==============================] - 0s 4ms/step - loss: 1.1723 - accuracy: 0.5556 - val_loss: 1.1869 - val_accuracy: 0.5208\n",
            "Epoch 6/150\n",
            "29/29 [==============================] - 0s 3ms/step - loss: 1.1496 - accuracy: 0.5903 - val_loss: 1.1211 - val_accuracy: 0.5417\n",
            "Epoch 7/150\n",
            "29/29 [==============================] - 0s 4ms/step - loss: 1.1103 - accuracy: 0.5694 - val_loss: 1.1309 - val_accuracy: 0.5208\n",
            "Epoch 8/150\n",
            "29/29 [==============================] - 0s 4ms/step - loss: 1.1044 - accuracy: 0.5694 - val_loss: 1.1174 - val_accuracy: 0.5417\n",
            "Epoch 9/150\n",
            "29/29 [==============================] - 0s 4ms/step - loss: 1.0942 - accuracy: 0.5833 - val_loss: 1.1024 - val_accuracy: 0.5208\n",
            "Epoch 10/150\n",
            "29/29 [==============================] - 0s 5ms/step - loss: 1.0865 - accuracy: 0.5903 - val_loss: 1.0901 - val_accuracy: 0.5000\n",
            "Epoch 11/150\n",
            "29/29 [==============================] - 0s 4ms/step - loss: 1.0812 - accuracy: 0.5903 - val_loss: 1.1089 - val_accuracy: 0.5417\n",
            "Epoch 12/150\n",
            "29/29 [==============================] - 0s 5ms/step - loss: 1.0599 - accuracy: 0.5764 - val_loss: 1.1357 - val_accuracy: 0.5417\n",
            "Epoch 13/150\n",
            "29/29 [==============================] - 0s 7ms/step - loss: 1.0506 - accuracy: 0.5972 - val_loss: 1.1409 - val_accuracy: 0.5417\n",
            "Epoch 14/150\n",
            "29/29 [==============================] - 0s 7ms/step - loss: 1.0643 - accuracy: 0.6042 - val_loss: 1.0815 - val_accuracy: 0.5000\n",
            "Epoch 15/150\n",
            "29/29 [==============================] - 0s 10ms/step - loss: 1.0370 - accuracy: 0.5903 - val_loss: 1.1560 - val_accuracy: 0.5625\n",
            "Epoch 16/150\n",
            "29/29 [==============================] - 0s 8ms/step - loss: 1.0413 - accuracy: 0.5972 - val_loss: 1.0711 - val_accuracy: 0.5208\n",
            "Epoch 17/150\n",
            "29/29 [==============================] - 0s 8ms/step - loss: 1.0309 - accuracy: 0.5972 - val_loss: 1.0759 - val_accuracy: 0.5625\n",
            "Epoch 18/150\n",
            "29/29 [==============================] - 0s 7ms/step - loss: 1.0329 - accuracy: 0.6181 - val_loss: 1.1517 - val_accuracy: 0.6042\n",
            "Epoch 19/150\n",
            "29/29 [==============================] - 0s 10ms/step - loss: 1.0276 - accuracy: 0.6042 - val_loss: 1.0917 - val_accuracy: 0.5417\n",
            "Epoch 20/150\n",
            "29/29 [==============================] - 0s 6ms/step - loss: 1.0395 - accuracy: 0.6111 - val_loss: 1.0572 - val_accuracy: 0.5417\n",
            "Epoch 21/150\n",
            "29/29 [==============================] - 0s 8ms/step - loss: 1.0108 - accuracy: 0.6042 - val_loss: 1.1277 - val_accuracy: 0.5208\n",
            "Epoch 22/150\n",
            "29/29 [==============================] - 0s 9ms/step - loss: 1.0270 - accuracy: 0.5764 - val_loss: 1.1703 - val_accuracy: 0.5417\n",
            "Epoch 23/150\n",
            "29/29 [==============================] - 0s 9ms/step - loss: 1.0123 - accuracy: 0.6042 - val_loss: 1.0655 - val_accuracy: 0.6042\n",
            "Epoch 24/150\n",
            "29/29 [==============================] - 0s 8ms/step - loss: 0.9938 - accuracy: 0.5972 - val_loss: 1.2053 - val_accuracy: 0.5417\n",
            "Epoch 25/150\n",
            "29/29 [==============================] - 0s 7ms/step - loss: 1.0052 - accuracy: 0.5972 - val_loss: 1.1097 - val_accuracy: 0.5833\n",
            "Epoch 26/150\n",
            "29/29 [==============================] - 0s 6ms/step - loss: 1.0123 - accuracy: 0.5972 - val_loss: 1.0567 - val_accuracy: 0.6250\n",
            "Epoch 27/150\n",
            "29/29 [==============================] - 0s 6ms/step - loss: 0.9858 - accuracy: 0.6111 - val_loss: 1.0544 - val_accuracy: 0.6042\n",
            "Epoch 28/150\n",
            "29/29 [==============================] - 0s 6ms/step - loss: 0.9750 - accuracy: 0.5903 - val_loss: 1.0570 - val_accuracy: 0.5833\n",
            "Epoch 29/150\n",
            "29/29 [==============================] - 0s 8ms/step - loss: 0.9690 - accuracy: 0.6250 - val_loss: 1.0327 - val_accuracy: 0.5417\n",
            "Epoch 30/150\n",
            "29/29 [==============================] - 0s 6ms/step - loss: 0.9622 - accuracy: 0.6181 - val_loss: 1.0220 - val_accuracy: 0.5833\n",
            "Epoch 31/150\n",
            "29/29 [==============================] - 0s 8ms/step - loss: 0.9535 - accuracy: 0.6181 - val_loss: 1.0238 - val_accuracy: 0.6042\n",
            "Epoch 32/150\n",
            "29/29 [==============================] - 0s 7ms/step - loss: 0.9828 - accuracy: 0.6250 - val_loss: 1.0267 - val_accuracy: 0.6250\n",
            "Epoch 33/150\n",
            "29/29 [==============================] - 0s 11ms/step - loss: 0.9427 - accuracy: 0.6181 - val_loss: 1.0348 - val_accuracy: 0.5833\n",
            "Epoch 34/150\n",
            "29/29 [==============================] - 0s 7ms/step - loss: 0.9843 - accuracy: 0.6042 - val_loss: 1.0957 - val_accuracy: 0.5417\n",
            "Epoch 35/150\n",
            "29/29 [==============================] - 0s 7ms/step - loss: 0.9634 - accuracy: 0.6250 - val_loss: 1.0640 - val_accuracy: 0.5625\n",
            "Epoch 36/150\n",
            "29/29 [==============================] - 0s 7ms/step - loss: 0.9570 - accuracy: 0.6389 - val_loss: 1.0056 - val_accuracy: 0.6250\n",
            "Epoch 37/150\n",
            "29/29 [==============================] - 0s 7ms/step - loss: 0.9494 - accuracy: 0.6389 - val_loss: 1.0488 - val_accuracy: 0.6250\n",
            "Epoch 38/150\n",
            "29/29 [==============================] - 0s 6ms/step - loss: 0.9388 - accuracy: 0.6389 - val_loss: 0.9918 - val_accuracy: 0.6250\n",
            "Epoch 39/150\n",
            "29/29 [==============================] - 1s 28ms/step - loss: 0.9269 - accuracy: 0.6181 - val_loss: 1.0299 - val_accuracy: 0.6042\n",
            "Epoch 40/150\n",
            "29/29 [==============================] - 1s 47ms/step - loss: 0.9494 - accuracy: 0.6181 - val_loss: 1.0035 - val_accuracy: 0.6250\n",
            "Epoch 41/150\n",
            "29/29 [==============================] - 1s 29ms/step - loss: 0.9194 - accuracy: 0.6389 - val_loss: 0.9917 - val_accuracy: 0.6250\n",
            "Epoch 42/150\n",
            "29/29 [==============================] - 1s 20ms/step - loss: 0.9058 - accuracy: 0.6667 - val_loss: 1.0232 - val_accuracy: 0.6250\n",
            "Epoch 43/150\n",
            "29/29 [==============================] - 0s 14ms/step - loss: 0.8975 - accuracy: 0.6389 - val_loss: 0.9854 - val_accuracy: 0.6250\n",
            "Epoch 44/150\n",
            "29/29 [==============================] - 1s 22ms/step - loss: 0.9086 - accuracy: 0.6528 - val_loss: 0.9962 - val_accuracy: 0.6250\n",
            "Epoch 45/150\n",
            "29/29 [==============================] - 0s 16ms/step - loss: 0.9062 - accuracy: 0.6528 - val_loss: 0.9767 - val_accuracy: 0.6667\n",
            "Epoch 46/150\n",
            "29/29 [==============================] - 0s 11ms/step - loss: 0.9008 - accuracy: 0.6458 - val_loss: 0.9665 - val_accuracy: 0.6667\n",
            "Epoch 47/150\n",
            "29/29 [==============================] - 0s 8ms/step - loss: 0.8764 - accuracy: 0.6736 - val_loss: 0.9549 - val_accuracy: 0.6250\n",
            "Epoch 48/150\n",
            "29/29 [==============================] - 0s 12ms/step - loss: 0.8618 - accuracy: 0.6667 - val_loss: 0.9340 - val_accuracy: 0.6458\n",
            "Epoch 49/150\n",
            "29/29 [==============================] - 0s 11ms/step - loss: 0.8583 - accuracy: 0.6736 - val_loss: 0.9238 - val_accuracy: 0.6875\n",
            "Epoch 50/150\n",
            "29/29 [==============================] - 0s 10ms/step - loss: 0.8674 - accuracy: 0.6528 - val_loss: 0.9726 - val_accuracy: 0.6458\n",
            "Epoch 51/150\n",
            "29/29 [==============================] - 0s 8ms/step - loss: 0.8711 - accuracy: 0.6806 - val_loss: 0.9431 - val_accuracy: 0.6458\n",
            "Epoch 52/150\n",
            "29/29 [==============================] - 0s 13ms/step - loss: 0.8620 - accuracy: 0.6736 - val_loss: 0.9300 - val_accuracy: 0.6250\n",
            "Epoch 53/150\n",
            "29/29 [==============================] - 0s 12ms/step - loss: 0.8421 - accuracy: 0.6597 - val_loss: 0.9380 - val_accuracy: 0.6042\n",
            "Epoch 54/150\n",
            "29/29 [==============================] - 0s 9ms/step - loss: 0.8402 - accuracy: 0.7153 - val_loss: 0.8958 - val_accuracy: 0.6458\n",
            "Epoch 55/150\n",
            "29/29 [==============================] - 0s 7ms/step - loss: 0.8306 - accuracy: 0.7014 - val_loss: 0.8890 - val_accuracy: 0.6250\n",
            "Epoch 56/150\n",
            "29/29 [==============================] - 0s 9ms/step - loss: 0.8205 - accuracy: 0.6944 - val_loss: 0.9350 - val_accuracy: 0.6667\n",
            "Epoch 57/150\n",
            "29/29 [==============================] - 0s 11ms/step - loss: 0.8186 - accuracy: 0.6736 - val_loss: 0.8691 - val_accuracy: 0.6875\n",
            "Epoch 58/150\n",
            "29/29 [==============================] - 0s 11ms/step - loss: 0.7927 - accuracy: 0.6944 - val_loss: 0.8590 - val_accuracy: 0.6250\n",
            "Epoch 59/150\n",
            "29/29 [==============================] - 0s 10ms/step - loss: 0.8333 - accuracy: 0.6944 - val_loss: 0.9031 - val_accuracy: 0.6458\n",
            "Epoch 60/150\n",
            "29/29 [==============================] - 0s 16ms/step - loss: 0.7966 - accuracy: 0.6944 - val_loss: 0.8357 - val_accuracy: 0.6667\n",
            "Epoch 61/150\n",
            "29/29 [==============================] - 0s 8ms/step - loss: 0.7715 - accuracy: 0.7153 - val_loss: 0.8563 - val_accuracy: 0.6458\n",
            "Epoch 62/150\n",
            "29/29 [==============================] - 0s 12ms/step - loss: 0.7706 - accuracy: 0.7083 - val_loss: 0.8158 - val_accuracy: 0.6667\n",
            "Epoch 63/150\n",
            "29/29 [==============================] - 0s 16ms/step - loss: 0.8273 - accuracy: 0.6875 - val_loss: 0.8326 - val_accuracy: 0.6458\n",
            "Epoch 64/150\n",
            "29/29 [==============================] - 0s 6ms/step - loss: 0.7449 - accuracy: 0.7083 - val_loss: 0.8186 - val_accuracy: 0.6875\n",
            "Epoch 65/150\n",
            "29/29 [==============================] - 0s 8ms/step - loss: 0.7554 - accuracy: 0.6944 - val_loss: 0.8784 - val_accuracy: 0.6458\n",
            "Epoch 66/150\n",
            "29/29 [==============================] - 0s 10ms/step - loss: 0.7990 - accuracy: 0.6806 - val_loss: 0.7823 - val_accuracy: 0.6667\n",
            "Epoch 67/150\n",
            "29/29 [==============================] - 0s 14ms/step - loss: 0.7296 - accuracy: 0.7153 - val_loss: 0.7806 - val_accuracy: 0.7083\n",
            "Epoch 68/150\n",
            "29/29 [==============================] - 0s 13ms/step - loss: 0.7579 - accuracy: 0.7431 - val_loss: 0.7760 - val_accuracy: 0.6875\n",
            "Epoch 69/150\n",
            "29/29 [==============================] - 0s 6ms/step - loss: 0.7227 - accuracy: 0.7361 - val_loss: 0.7376 - val_accuracy: 0.7083\n",
            "Epoch 70/150\n",
            "29/29 [==============================] - 0s 9ms/step - loss: 0.7222 - accuracy: 0.7500 - val_loss: 0.7725 - val_accuracy: 0.7083\n",
            "Epoch 71/150\n",
            "29/29 [==============================] - 0s 7ms/step - loss: 0.7160 - accuracy: 0.7292 - val_loss: 0.7448 - val_accuracy: 0.7083\n",
            "Epoch 72/150\n",
            "29/29 [==============================] - 0s 10ms/step - loss: 0.6891 - accuracy: 0.7361 - val_loss: 0.7294 - val_accuracy: 0.7083\n",
            "Epoch 73/150\n",
            "29/29 [==============================] - 0s 9ms/step - loss: 0.6855 - accuracy: 0.7569 - val_loss: 0.7382 - val_accuracy: 0.6875\n",
            "Epoch 74/150\n",
            "29/29 [==============================] - 0s 8ms/step - loss: 0.6784 - accuracy: 0.7292 - val_loss: 0.8313 - val_accuracy: 0.7500\n",
            "Epoch 75/150\n",
            "29/29 [==============================] - 0s 10ms/step - loss: 0.6328 - accuracy: 0.7500 - val_loss: 0.9529 - val_accuracy: 0.6667\n",
            "Epoch 76/150\n",
            "29/29 [==============================] - 0s 7ms/step - loss: 0.6602 - accuracy: 0.7639 - val_loss: 0.6248 - val_accuracy: 0.7500\n",
            "Epoch 77/150\n",
            "29/29 [==============================] - 0s 13ms/step - loss: 0.5888 - accuracy: 0.7569 - val_loss: 0.5964 - val_accuracy: 0.7292\n",
            "Epoch 78/150\n",
            "29/29 [==============================] - 0s 8ms/step - loss: 0.5651 - accuracy: 0.7986 - val_loss: 0.7598 - val_accuracy: 0.6875\n",
            "Epoch 79/150\n",
            "29/29 [==============================] - 0s 12ms/step - loss: 0.5757 - accuracy: 0.7847 - val_loss: 0.6244 - val_accuracy: 0.7500\n",
            "Epoch 80/150\n",
            "29/29 [==============================] - 0s 14ms/step - loss: 0.5776 - accuracy: 0.7847 - val_loss: 0.7008 - val_accuracy: 0.7500\n",
            "Epoch 81/150\n",
            "29/29 [==============================] - 0s 10ms/step - loss: 0.5105 - accuracy: 0.7847 - val_loss: 0.7332 - val_accuracy: 0.6667\n",
            "Epoch 82/150\n",
            "29/29 [==============================] - 0s 7ms/step - loss: 0.4942 - accuracy: 0.8194 - val_loss: 0.5198 - val_accuracy: 0.8125\n",
            "Epoch 83/150\n",
            "29/29 [==============================] - 0s 11ms/step - loss: 0.5038 - accuracy: 0.7917 - val_loss: 0.5080 - val_accuracy: 0.7292\n",
            "Epoch 84/150\n",
            "29/29 [==============================] - 0s 12ms/step - loss: 0.5301 - accuracy: 0.7986 - val_loss: 0.5823 - val_accuracy: 0.7708\n",
            "Epoch 85/150\n",
            "29/29 [==============================] - 0s 5ms/step - loss: 0.4940 - accuracy: 0.8194 - val_loss: 0.6244 - val_accuracy: 0.8542\n",
            "Epoch 86/150\n",
            "29/29 [==============================] - 0s 5ms/step - loss: 0.4703 - accuracy: 0.8333 - val_loss: 0.5760 - val_accuracy: 0.7500\n",
            "Epoch 87/150\n",
            "29/29 [==============================] - 0s 5ms/step - loss: 0.4936 - accuracy: 0.8194 - val_loss: 0.6023 - val_accuracy: 0.7917\n",
            "Epoch 88/150\n",
            "29/29 [==============================] - 0s 5ms/step - loss: 0.5240 - accuracy: 0.7639 - val_loss: 0.6851 - val_accuracy: 0.7708\n",
            "Epoch 89/150\n",
            "29/29 [==============================] - 0s 6ms/step - loss: 0.4548 - accuracy: 0.7986 - val_loss: 0.5300 - val_accuracy: 0.7500\n",
            "Epoch 90/150\n",
            "29/29 [==============================] - 0s 7ms/step - loss: 0.4358 - accuracy: 0.8403 - val_loss: 0.5381 - val_accuracy: 0.8542\n",
            "Epoch 91/150\n",
            "29/29 [==============================] - 0s 7ms/step - loss: 0.4460 - accuracy: 0.8681 - val_loss: 0.6579 - val_accuracy: 0.8125\n",
            "Epoch 92/150\n",
            "29/29 [==============================] - 0s 4ms/step - loss: 0.4455 - accuracy: 0.8542 - val_loss: 0.4838 - val_accuracy: 0.8333\n",
            "Epoch 93/150\n",
            "29/29 [==============================] - 0s 4ms/step - loss: 0.4430 - accuracy: 0.8264 - val_loss: 0.5014 - val_accuracy: 0.7917\n",
            "Epoch 94/150\n",
            "29/29 [==============================] - 0s 3ms/step - loss: 0.4615 - accuracy: 0.8264 - val_loss: 0.5567 - val_accuracy: 0.7708\n",
            "Epoch 95/150\n",
            "29/29 [==============================] - 0s 3ms/step - loss: 0.4414 - accuracy: 0.8472 - val_loss: 0.5768 - val_accuracy: 0.7500\n",
            "Epoch 96/150\n",
            "29/29 [==============================] - 0s 4ms/step - loss: 0.4153 - accuracy: 0.8681 - val_loss: 0.4817 - val_accuracy: 0.8125\n",
            "Epoch 97/150\n",
            "29/29 [==============================] - 0s 4ms/step - loss: 0.4074 - accuracy: 0.8681 - val_loss: 0.4804 - val_accuracy: 0.8333\n",
            "Epoch 98/150\n",
            "29/29 [==============================] - 0s 4ms/step - loss: 0.3964 - accuracy: 0.8542 - val_loss: 0.5188 - val_accuracy: 0.7708\n",
            "Epoch 99/150\n",
            "29/29 [==============================] - 0s 4ms/step - loss: 0.4514 - accuracy: 0.8333 - val_loss: 0.5979 - val_accuracy: 0.7917\n",
            "Epoch 100/150\n",
            "29/29 [==============================] - 0s 4ms/step - loss: 0.3995 - accuracy: 0.8542 - val_loss: 0.6399 - val_accuracy: 0.7708\n",
            "Epoch 101/150\n",
            "29/29 [==============================] - 0s 4ms/step - loss: 0.4172 - accuracy: 0.8333 - val_loss: 0.4555 - val_accuracy: 0.8125\n",
            "Epoch 102/150\n",
            "29/29 [==============================] - 0s 3ms/step - loss: 0.3854 - accuracy: 0.8750 - val_loss: 0.4651 - val_accuracy: 0.8333\n",
            "Epoch 103/150\n",
            "29/29 [==============================] - 0s 4ms/step - loss: 0.3652 - accuracy: 0.8611 - val_loss: 0.6097 - val_accuracy: 0.7917\n",
            "Epoch 104/150\n",
            "29/29 [==============================] - 0s 4ms/step - loss: 0.3955 - accuracy: 0.8403 - val_loss: 0.5513 - val_accuracy: 0.8125\n",
            "Epoch 105/150\n",
            "29/29 [==============================] - 0s 4ms/step - loss: 0.3556 - accuracy: 0.8958 - val_loss: 0.4399 - val_accuracy: 0.8333\n",
            "Epoch 106/150\n",
            "29/29 [==============================] - 0s 4ms/step - loss: 0.3515 - accuracy: 0.8681 - val_loss: 0.4535 - val_accuracy: 0.8542\n",
            "Epoch 107/150\n",
            "29/29 [==============================] - 0s 4ms/step - loss: 0.3452 - accuracy: 0.8889 - val_loss: 0.5362 - val_accuracy: 0.8125\n",
            "Epoch 108/150\n",
            "29/29 [==============================] - 0s 4ms/step - loss: 0.3664 - accuracy: 0.8611 - val_loss: 0.6052 - val_accuracy: 0.8125\n",
            "Epoch 109/150\n",
            "29/29 [==============================] - 0s 4ms/step - loss: 0.3670 - accuracy: 0.8611 - val_loss: 0.5127 - val_accuracy: 0.8333\n",
            "Epoch 110/150\n",
            "29/29 [==============================] - 0s 4ms/step - loss: 0.3447 - accuracy: 0.9028 - val_loss: 0.4664 - val_accuracy: 0.8125\n",
            "Epoch 111/150\n",
            "29/29 [==============================] - 0s 4ms/step - loss: 0.3778 - accuracy: 0.8681 - val_loss: 0.4621 - val_accuracy: 0.7708\n",
            "Epoch 112/150\n",
            "29/29 [==============================] - 0s 3ms/step - loss: 0.4257 - accuracy: 0.8264 - val_loss: 0.5234 - val_accuracy: 0.8750\n",
            "Epoch 113/150\n",
            "29/29 [==============================] - 0s 4ms/step - loss: 0.3766 - accuracy: 0.8611 - val_loss: 0.4958 - val_accuracy: 0.8125\n",
            "Epoch 114/150\n",
            "29/29 [==============================] - 0s 4ms/step - loss: 0.3466 - accuracy: 0.8681 - val_loss: 0.4227 - val_accuracy: 0.8125\n",
            "Epoch 115/150\n",
            "29/29 [==============================] - 0s 4ms/step - loss: 0.3227 - accuracy: 0.9236 - val_loss: 0.4667 - val_accuracy: 0.8750\n",
            "Epoch 116/150\n",
            "29/29 [==============================] - 0s 4ms/step - loss: 0.3350 - accuracy: 0.8542 - val_loss: 0.6158 - val_accuracy: 0.7917\n",
            "Epoch 117/150\n",
            "29/29 [==============================] - 0s 4ms/step - loss: 0.4006 - accuracy: 0.8264 - val_loss: 0.7258 - val_accuracy: 0.8125\n",
            "Epoch 118/150\n",
            "29/29 [==============================] - 0s 4ms/step - loss: 0.4208 - accuracy: 0.8750 - val_loss: 0.7777 - val_accuracy: 0.8125\n",
            "Epoch 119/150\n",
            "29/29 [==============================] - 0s 4ms/step - loss: 0.3081 - accuracy: 0.8958 - val_loss: 0.4383 - val_accuracy: 0.7708\n",
            "Epoch 120/150\n",
            "29/29 [==============================] - 0s 4ms/step - loss: 0.3249 - accuracy: 0.8819 - val_loss: 0.4051 - val_accuracy: 0.8542\n",
            "Epoch 121/150\n",
            "29/29 [==============================] - 0s 4ms/step - loss: 0.3228 - accuracy: 0.8889 - val_loss: 0.3990 - val_accuracy: 0.8333\n",
            "Epoch 122/150\n",
            "29/29 [==============================] - 0s 4ms/step - loss: 0.3334 - accuracy: 0.8819 - val_loss: 0.5402 - val_accuracy: 0.8333\n",
            "Epoch 123/150\n",
            "29/29 [==============================] - 0s 4ms/step - loss: 0.3134 - accuracy: 0.8819 - val_loss: 0.4840 - val_accuracy: 0.8125\n",
            "Epoch 124/150\n",
            "29/29 [==============================] - 0s 4ms/step - loss: 0.3026 - accuracy: 0.9097 - val_loss: 0.5426 - val_accuracy: 0.8333\n",
            "Epoch 125/150\n",
            "29/29 [==============================] - 0s 3ms/step - loss: 0.3033 - accuracy: 0.9167 - val_loss: 0.5350 - val_accuracy: 0.8333\n",
            "Epoch 126/150\n",
            "29/29 [==============================] - 0s 3ms/step - loss: 0.3390 - accuracy: 0.8750 - val_loss: 0.5580 - val_accuracy: 0.8542\n",
            "Epoch 127/150\n",
            "29/29 [==============================] - 0s 4ms/step - loss: 0.3137 - accuracy: 0.8958 - val_loss: 0.5057 - val_accuracy: 0.8542\n",
            "Epoch 128/150\n",
            "29/29 [==============================] - 0s 4ms/step - loss: 0.2657 - accuracy: 0.9375 - val_loss: 0.4227 - val_accuracy: 0.8542\n",
            "Epoch 129/150\n",
            "29/29 [==============================] - 0s 4ms/step - loss: 0.2870 - accuracy: 0.9028 - val_loss: 0.4111 - val_accuracy: 0.8542\n",
            "Epoch 130/150\n",
            "29/29 [==============================] - 0s 4ms/step - loss: 0.2874 - accuracy: 0.8750 - val_loss: 0.4861 - val_accuracy: 0.8542\n",
            "Epoch 131/150\n",
            "29/29 [==============================] - 0s 4ms/step - loss: 0.2589 - accuracy: 0.9375 - val_loss: 0.4863 - val_accuracy: 0.8542\n",
            "Epoch 132/150\n",
            "29/29 [==============================] - 0s 4ms/step - loss: 0.2755 - accuracy: 0.9236 - val_loss: 0.3987 - val_accuracy: 0.8750\n",
            "Epoch 133/150\n",
            "29/29 [==============================] - 0s 4ms/step - loss: 0.2676 - accuracy: 0.9236 - val_loss: 0.4606 - val_accuracy: 0.8333\n",
            "Epoch 134/150\n",
            "29/29 [==============================] - 0s 4ms/step - loss: 0.2895 - accuracy: 0.8958 - val_loss: 0.3982 - val_accuracy: 0.7708\n",
            "Epoch 135/150\n",
            "29/29 [==============================] - 0s 4ms/step - loss: 0.2621 - accuracy: 0.9236 - val_loss: 0.5356 - val_accuracy: 0.8542\n",
            "Epoch 136/150\n",
            "29/29 [==============================] - 0s 4ms/step - loss: 0.2641 - accuracy: 0.9375 - val_loss: 0.5915 - val_accuracy: 0.8333\n",
            "Epoch 137/150\n",
            "29/29 [==============================] - 0s 3ms/step - loss: 0.2614 - accuracy: 0.9167 - val_loss: 0.4683 - val_accuracy: 0.8333\n",
            "Epoch 138/150\n",
            "29/29 [==============================] - 0s 4ms/step - loss: 0.2598 - accuracy: 0.9306 - val_loss: 0.4483 - val_accuracy: 0.8542\n",
            "Epoch 139/150\n",
            "29/29 [==============================] - 0s 4ms/step - loss: 0.3050 - accuracy: 0.8611 - val_loss: 0.6005 - val_accuracy: 0.7917\n",
            "Epoch 140/150\n",
            "29/29 [==============================] - 0s 4ms/step - loss: 0.2863 - accuracy: 0.8958 - val_loss: 0.4781 - val_accuracy: 0.8750\n",
            "Epoch 141/150\n",
            "29/29 [==============================] - 0s 4ms/step - loss: 0.2686 - accuracy: 0.9028 - val_loss: 0.4073 - val_accuracy: 0.8333\n",
            "Epoch 142/150\n",
            "29/29 [==============================] - 0s 4ms/step - loss: 0.2465 - accuracy: 0.9167 - val_loss: 0.4846 - val_accuracy: 0.8958\n",
            "Epoch 143/150\n",
            "29/29 [==============================] - 0s 4ms/step - loss: 0.2242 - accuracy: 0.9375 - val_loss: 0.3985 - val_accuracy: 0.8958\n",
            "Epoch 144/150\n",
            "29/29 [==============================] - 0s 4ms/step - loss: 0.2398 - accuracy: 0.9306 - val_loss: 0.5154 - val_accuracy: 0.8750\n",
            "Epoch 145/150\n",
            "29/29 [==============================] - 0s 4ms/step - loss: 0.2200 - accuracy: 0.9444 - val_loss: 0.4637 - val_accuracy: 0.8333\n",
            "Epoch 146/150\n",
            "29/29 [==============================] - 0s 4ms/step - loss: 0.2171 - accuracy: 0.9583 - val_loss: 0.4447 - val_accuracy: 0.8542\n",
            "Epoch 147/150\n",
            "29/29 [==============================] - 0s 3ms/step - loss: 0.2009 - accuracy: 0.9583 - val_loss: 0.6268 - val_accuracy: 0.8542\n",
            "Epoch 148/150\n",
            "29/29 [==============================] - 0s 4ms/step - loss: 0.2085 - accuracy: 0.9792 - val_loss: 0.3945 - val_accuracy: 0.8542\n",
            "Epoch 149/150\n",
            "29/29 [==============================] - 0s 4ms/step - loss: 0.2731 - accuracy: 0.8889 - val_loss: 0.7102 - val_accuracy: 0.8125\n",
            "Epoch 150/150\n",
            "29/29 [==============================] - 0s 3ms/step - loss: 0.2739 - accuracy: 0.9028 - val_loss: 0.4230 - val_accuracy: 0.8542\n"
          ]
        },
        {
          "output_type": "execute_result",
          "data": {
            "text/plain": [
              "<keras.callbacks.History at 0x7f3f450edfc0>"
            ]
          },
          "metadata": {},
          "execution_count": 20
        }
      ]
    },
    {
      "cell_type": "markdown",
      "source": [
        "## Task 3: Test the model with random data"
      ],
      "metadata": {
        "id": "N6_fESri93xv"
      }
    },
    {
      "cell_type": "code",
      "source": [
        "test = {\n",
        "    'Age':[49.,24.],\n",
        "    'Sex':[1.,1.],\n",
        "    'BP':[0.,0.],\n",
        "    'Cholesterol':[1.,0.],\n",
        "    'Na_to_K':[6.269,3.424]\n",
        "}\n",
        "test_df = pd.DataFrame(test)\n",
        "test_df"
      ],
      "metadata": {
        "colab": {
          "base_uri": "https://localhost:8080/"
        },
        "id": "aZ7MYGLh_TF6",
        "outputId": "31d228ce-76e7-44b5-a3bf-6aaf0bc4ea4c"
      },
      "execution_count": null,
      "outputs": [
        {
          "output_type": "execute_result",
          "data": {
            "text/plain": [
              "    Age  Sex   BP  Cholesterol  Na_to_K\n",
              "0  49.0  1.0  0.0          1.0    6.269\n",
              "1  24.0  1.0  0.0          0.0    3.424"
            ],
            "text/html": [
              "\n",
              "  <div id=\"df-ac636c52-2325-4269-843e-506e99549409\">\n",
              "    <div class=\"colab-df-container\">\n",
              "      <div>\n",
              "<style scoped>\n",
              "    .dataframe tbody tr th:only-of-type {\n",
              "        vertical-align: middle;\n",
              "    }\n",
              "\n",
              "    .dataframe tbody tr th {\n",
              "        vertical-align: top;\n",
              "    }\n",
              "\n",
              "    .dataframe thead th {\n",
              "        text-align: right;\n",
              "    }\n",
              "</style>\n",
              "<table border=\"1\" class=\"dataframe\">\n",
              "  <thead>\n",
              "    <tr style=\"text-align: right;\">\n",
              "      <th></th>\n",
              "      <th>Age</th>\n",
              "      <th>Sex</th>\n",
              "      <th>BP</th>\n",
              "      <th>Cholesterol</th>\n",
              "      <th>Na_to_K</th>\n",
              "    </tr>\n",
              "  </thead>\n",
              "  <tbody>\n",
              "    <tr>\n",
              "      <th>0</th>\n",
              "      <td>49.0</td>\n",
              "      <td>1.0</td>\n",
              "      <td>0.0</td>\n",
              "      <td>1.0</td>\n",
              "      <td>6.269</td>\n",
              "    </tr>\n",
              "    <tr>\n",
              "      <th>1</th>\n",
              "      <td>24.0</td>\n",
              "      <td>1.0</td>\n",
              "      <td>0.0</td>\n",
              "      <td>0.0</td>\n",
              "      <td>3.424</td>\n",
              "    </tr>\n",
              "  </tbody>\n",
              "</table>\n",
              "</div>\n",
              "      <button class=\"colab-df-convert\" onclick=\"convertToInteractive('df-ac636c52-2325-4269-843e-506e99549409')\"\n",
              "              title=\"Convert this dataframe to an interactive table.\"\n",
              "              style=\"display:none;\">\n",
              "        \n",
              "  <svg xmlns=\"http://www.w3.org/2000/svg\" height=\"24px\"viewBox=\"0 0 24 24\"\n",
              "       width=\"24px\">\n",
              "    <path d=\"M0 0h24v24H0V0z\" fill=\"none\"/>\n",
              "    <path d=\"M18.56 5.44l.94 2.06.94-2.06 2.06-.94-2.06-.94-.94-2.06-.94 2.06-2.06.94zm-11 1L8.5 8.5l.94-2.06 2.06-.94-2.06-.94L8.5 2.5l-.94 2.06-2.06.94zm10 10l.94 2.06.94-2.06 2.06-.94-2.06-.94-.94-2.06-.94 2.06-2.06.94z\"/><path d=\"M17.41 7.96l-1.37-1.37c-.4-.4-.92-.59-1.43-.59-.52 0-1.04.2-1.43.59L10.3 9.45l-7.72 7.72c-.78.78-.78 2.05 0 2.83L4 21.41c.39.39.9.59 1.41.59.51 0 1.02-.2 1.41-.59l7.78-7.78 2.81-2.81c.8-.78.8-2.07 0-2.86zM5.41 20L4 18.59l7.72-7.72 1.47 1.35L5.41 20z\"/>\n",
              "  </svg>\n",
              "      </button>\n",
              "      \n",
              "  <style>\n",
              "    .colab-df-container {\n",
              "      display:flex;\n",
              "      flex-wrap:wrap;\n",
              "      gap: 12px;\n",
              "    }\n",
              "\n",
              "    .colab-df-convert {\n",
              "      background-color: #E8F0FE;\n",
              "      border: none;\n",
              "      border-radius: 50%;\n",
              "      cursor: pointer;\n",
              "      display: none;\n",
              "      fill: #1967D2;\n",
              "      height: 32px;\n",
              "      padding: 0 0 0 0;\n",
              "      width: 32px;\n",
              "    }\n",
              "\n",
              "    .colab-df-convert:hover {\n",
              "      background-color: #E2EBFA;\n",
              "      box-shadow: 0px 1px 2px rgba(60, 64, 67, 0.3), 0px 1px 3px 1px rgba(60, 64, 67, 0.15);\n",
              "      fill: #174EA6;\n",
              "    }\n",
              "\n",
              "    [theme=dark] .colab-df-convert {\n",
              "      background-color: #3B4455;\n",
              "      fill: #D2E3FC;\n",
              "    }\n",
              "\n",
              "    [theme=dark] .colab-df-convert:hover {\n",
              "      background-color: #434B5C;\n",
              "      box-shadow: 0px 1px 3px 1px rgba(0, 0, 0, 0.15);\n",
              "      filter: drop-shadow(0px 1px 2px rgba(0, 0, 0, 0.3));\n",
              "      fill: #FFFFFF;\n",
              "    }\n",
              "  </style>\n",
              "\n",
              "      <script>\n",
              "        const buttonEl =\n",
              "          document.querySelector('#df-ac636c52-2325-4269-843e-506e99549409 button.colab-df-convert');\n",
              "        buttonEl.style.display =\n",
              "          google.colab.kernel.accessAllowed ? 'block' : 'none';\n",
              "\n",
              "        async function convertToInteractive(key) {\n",
              "          const element = document.querySelector('#df-ac636c52-2325-4269-843e-506e99549409');\n",
              "          const dataTable =\n",
              "            await google.colab.kernel.invokeFunction('convertToInteractive',\n",
              "                                                     [key], {});\n",
              "          if (!dataTable) return;\n",
              "\n",
              "          const docLinkHtml = 'Like what you see? Visit the ' +\n",
              "            '<a target=\"_blank\" href=https://colab.research.google.com/notebooks/data_table.ipynb>data table notebook</a>'\n",
              "            + ' to learn more about interactive tables.';\n",
              "          element.innerHTML = '';\n",
              "          dataTable['output_type'] = 'display_data';\n",
              "          await google.colab.output.renderOutput(dataTable, element);\n",
              "          const docLink = document.createElement('div');\n",
              "          docLink.innerHTML = docLinkHtml;\n",
              "          element.appendChild(docLink);\n",
              "        }\n",
              "      </script>\n",
              "    </div>\n",
              "  </div>\n",
              "  "
            ]
          },
          "metadata": {},
          "execution_count": 21
        }
      ]
    },
    {
      "cell_type": "code",
      "source": [
        "model.predict(test_df)"
      ],
      "metadata": {
        "colab": {
          "base_uri": "https://localhost:8080/"
        },
        "id": "lFCpGFDiA3ki",
        "outputId": "b34aff28-2af7-4ccc-bcde-5104cef51fe9"
      },
      "execution_count": null,
      "outputs": [
        {
          "output_type": "stream",
          "name": "stdout",
          "text": [
            "1/1 [==============================] - 0s 116ms/step\n"
          ]
        },
        {
          "output_type": "execute_result",
          "data": {
            "text/plain": [
              "array([[2.0588389e-04, 3.2823646e-01, 4.4899479e-01, 2.1603276e-01,\n",
              "        6.5302192e-03],\n",
              "       [4.7974795e-04, 8.2157511e-01, 1.5158901e-01, 2.6232084e-02,\n",
              "        1.2407909e-04]], dtype=float32)"
            ]
          },
          "metadata": {},
          "execution_count": 22
        }
      ]
    },
    {
      "cell_type": "code",
      "source": [],
      "metadata": {
        "id": "jPxekdkwviP_"
      },
      "execution_count": null,
      "outputs": []
    }
  ]
}