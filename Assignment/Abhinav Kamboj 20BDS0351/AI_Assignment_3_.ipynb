{
  "nbformat": 4,
  "nbformat_minor": 0,
  "metadata": {
    "colab": {
      "provenance": [],
      "gpuType": "T4"
    },
    "kernelspec": {
      "name": "python3",
      "display_name": "Python 3"
    },
    "language_info": {
      "name": "python"
    },
    "accelerator": "GPU"
  },
  "cells": [
    {
      "cell_type": "markdown",
      "source": [
        "# ABHINAV KAMBOJ\n",
        "\n",
        "## AI Assignment 3"
      ],
      "metadata": {
        "id": "5Un7V5Jeppnq"
      }
    },
    {
      "cell_type": "markdown",
      "source": [
        "### Build a CNN model for Bird species\n",
        "Bird species classification is the process of using machine learning and computer vision techniques to identify and categorize different species of birds based\n",
        "on their visual characteristics. By analyzing images of birds, models can extract features and patterns to accurately classify bird species. This classification is\n",
        "vital for ecological research, wildlife monitoring, and conservation efforts. Advancements in deep learning and the availability of large annotated datasets have\n",
        "improved the accuracy of bird species classification models. Challenges include variations in lighting, pose, and background clutter. Ongoing research\n",
        "focuses on methods like transfer learning and data augmentation to enhance classification performance and contribute to avian biodiversity understanding\n",
        "and conservation.\n",
        "\n",
        "Dataset Link: https://www.kaggle.com/datasets/akash2907/bird-species-classification"
      ],
      "metadata": {
        "id": "x0hZNt3CprdM"
      }
    },
    {
      "cell_type": "code",
      "source": [
        "#mounting google deive\n",
        "\n",
        "from google.colab import drive\n",
        "drive.mount('/content/drive')"
      ],
      "metadata": {
        "colab": {
          "base_uri": "https://localhost:8080/"
        },
        "id": "MWoZKg7lpyH1",
        "outputId": "e4d7962b-be4f-47ef-e58a-2abbbc2c1152"
      },
      "execution_count": null,
      "outputs": [
        {
          "output_type": "stream",
          "name": "stdout",
          "text": [
            "Mounted at /content/drive\n"
          ]
        }
      ]
    },
    {
      "cell_type": "code",
      "execution_count": null,
      "metadata": {
        "colab": {
          "base_uri": "https://localhost:8080/"
        },
        "id": "t3vKgufjkoz1",
        "outputId": "a1d9c87d-48d7-493c-eebc-55f3c54dca7c"
      },
      "outputs": [
        {
          "output_type": "stream",
          "name": "stdout",
          "text": [
            "Archive:  /content/drive/MyDrive/test_data (1).zip\n",
            "   creating: test_data/\n",
            "   creating: test_data/blasti/\n",
            "  inflating: test_data/blasti/DSC_6396.jpg  \n",
            "  inflating: test_data/blasti/DSC_6397.jpg  \n",
            "  inflating: test_data/blasti/DSC_6398.jpg  \n",
            "  inflating: test_data/blasti/DSC_6399.jpg  \n",
            "  inflating: test_data/blasti/DSC_6400.jpg  \n",
            "  inflating: test_data/blasti/DSC_6401.jpg  \n",
            "  inflating: test_data/blasti/DSC_6402.jpg  \n",
            "  inflating: test_data/blasti/DSC_6403.jpg  \n",
            "  inflating: test_data/blasti/DSC_6405.jpg  \n",
            "  inflating: test_data/blasti/DSC_6406.jpg  \n",
            "  inflating: test_data/blasti/DSC_6407.jpg  \n",
            "  inflating: test_data/blasti/DSC_6408.jpg  \n",
            "  inflating: test_data/blasti/DSC_6409.jpg  \n",
            "  inflating: test_data/blasti/DSC_6410.jpg  \n",
            "  inflating: test_data/blasti/DSC_6411.jpg  \n",
            "   creating: test_data/bonegl/\n",
            "  inflating: test_data/bonegl/DSC_4587.jpg  \n",
            "  inflating: test_data/bonegl/DSC_4588.jpg  \n",
            "  inflating: test_data/bonegl/DSC_4589.jpg  \n",
            "  inflating: test_data/bonegl/DSC_4590.jpg  \n",
            "  inflating: test_data/bonegl/DSC_4591.jpg  \n",
            "  inflating: test_data/bonegl/DSC_4592.jpg  \n",
            "  inflating: test_data/bonegl/DSC_4593.jpg  \n",
            "   creating: test_data/brhkyt/\n",
            "  inflating: test_data/brhkyt/D72_0473.jpg  \n",
            "  inflating: test_data/brhkyt/D72_0474.jpg  \n",
            "  inflating: test_data/brhkyt/D72_0475.jpg  \n",
            "  inflating: test_data/brhkyt/D72_0477.jpg  \n",
            "  inflating: test_data/brhkyt/D72_0478.jpg  \n",
            "  inflating: test_data/brhkyt/D72_0479.jpg  \n",
            "   creating: test_data/cbrtsh/\n",
            "  inflating: test_data/cbrtsh/_D32_10310.jpg  \n",
            "  inflating: test_data/cbrtsh/_D32_10311.jpg  \n",
            "  inflating: test_data/cbrtsh/_D32_10312.jpg  \n",
            "  inflating: test_data/cbrtsh/_D32_10313.jpg  \n",
            "  inflating: test_data/cbrtsh/_D32_10314.jpg  \n",
            "  inflating: test_data/cbrtsh/_D32_10317.jpg  \n",
            "  inflating: test_data/cbrtsh/_D32_10318.jpg  \n",
            "   creating: test_data/cmnmyn/\n",
            "  inflating: test_data/cmnmyn/DSC_2443.jpg  \n",
            "  inflating: test_data/cmnmyn/DSC_4681.jpg  \n",
            "  inflating: test_data/cmnmyn/DSC_5137.jpg  \n",
            "  inflating: test_data/cmnmyn/DSC_7625.jpg  \n",
            "  inflating: test_data/cmnmyn/P1050277.jpg  \n",
            "  inflating: test_data/cmnmyn/_D32_12426.jpg  \n",
            "  inflating: test_data/cmnmyn/_D32_12427.jpg  \n",
            "  inflating: test_data/cmnmyn/_D32_12428.jpg  \n",
            "   creating: test_data/gretit/\n",
            "  inflating: test_data/gretit/11620454726_31a35c26da_o.jpg  \n",
            "  inflating: test_data/gretit/11776135285_ccf938fa2e_o.jpg  \n",
            "  inflating: test_data/gretit/11905645146_6a5d4ff9f9_o.jpg  \n",
            "  inflating: test_data/gretit/8537646712_0b282c4c6a_o.jpg  \n",
            "  inflating: test_data/gretit/D72_0693.jpg  \n",
            "  inflating: test_data/gretit/D72_0694.jpg  \n",
            "  inflating: test_data/gretit/D72_0695.jpg  \n",
            "   creating: test_data/hilpig/\n",
            "  inflating: test_data/hilpig/DSC_6359.jpg  \n",
            "  inflating: test_data/hilpig/DSC_6362.jpg  \n",
            "  inflating: test_data/hilpig/DSC_6364.jpg  \n",
            "  inflating: test_data/hilpig/DSC_6368.jpg  \n",
            "  inflating: test_data/hilpig/DSC_6403.jpg  \n",
            "  inflating: test_data/hilpig/DSC_6404.jpg  \n",
            "  inflating: test_data/hilpig/P1000319.jpg  \n",
            "  inflating: test_data/hilpig/P1000323.jpg  \n",
            "  inflating: test_data/hilpig/P1050044.jpg  \n",
            "  inflating: test_data/hilpig/P1050045.jpg  \n",
            "   creating: test_data/himbul/\n",
            "  inflating: test_data/himbul/11602064885_3826df4500_o.jpg  \n",
            "  inflating: test_data/himbul/11619942574_42f23a7b05_o.jpg  \n",
            "  inflating: test_data/himbul/11620097904_33fa8ee878_o.jpg  \n",
            "  inflating: test_data/himbul/5857371972_ed4f88b275_o.jpg  \n",
            "  inflating: test_data/himbul/6154954471_eefe6e00d1_o.jpg  \n",
            "  inflating: test_data/himbul/D72_0688.jpg  \n",
            "  inflating: test_data/himbul/D72_0691.jpg  \n",
            "  inflating: test_data/himbul/DSC08357.jpg  \n",
            "  inflating: test_data/himbul/DSC_3230.jpg  \n",
            "  inflating: test_data/himbul/DSC_7439.jpg  \n",
            "  inflating: test_data/himbul/DSC_7602.jpg  \n",
            "  inflating: test_data/himbul/P1060368.jpg  \n",
            "  inflating: test_data/himbul/P1060369.jpg  \n",
            "  inflating: test_data/himbul/_D32_10242.jpg  \n",
            "  inflating: test_data/himbul/_D32_10245.jpg  \n",
            "  inflating: test_data/himbul/_D32_10251.jpg  \n",
            "  inflating: test_data/himbul/_D32_10319.jpg  \n",
            "  inflating: test_data/himbul/_D32_10320.jpg  \n",
            "  inflating: test_data/himbul/_DSC9446.jpg  \n",
            "   creating: test_data/himgri/\n",
            "  inflating: test_data/himgri/IMG_5384.JPG  \n",
            "  inflating: test_data/himgri/IMG_5385.JPG  \n",
            "  inflating: test_data/himgri/IMG_5386.JPG  \n",
            "  inflating: test_data/himgri/IMG_5387.JPG  \n",
            "  inflating: test_data/himgri/IMG_5459.JPG  \n",
            "  inflating: test_data/himgri/IMG_5460.JPG  \n",
            "  inflating: test_data/himgri/IMG_5487.JPG  \n",
            "  inflating: test_data/himgri/IMG_5488.JPG  \n",
            "  inflating: test_data/himgri/IMG_5489.JPG  \n",
            "  inflating: test_data/himgri/IMG_5490.JPG  \n",
            "  inflating: test_data/himgri/IMG_5491.JPG  \n",
            "  inflating: test_data/himgri/IMG_5492.JPG  \n",
            "  inflating: test_data/himgri/P1020742.jpg  \n",
            "  inflating: test_data/himgri/P1020743.jpg  \n",
            "  inflating: test_data/himgri/P1020746.jpg  \n",
            "  inflating: test_data/himgri/P1020748.jpg  \n",
            "  inflating: test_data/himgri/P1030055.jpg  \n",
            "  inflating: test_data/himgri/P1060776.jpg  \n",
            "  inflating: test_data/himgri/P1060777.jpg  \n",
            "  inflating: test_data/himgri/P1060778.jpg  \n",
            "   creating: test_data/hsparo/\n",
            "  inflating: test_data/hsparo/100_5573.JPG  \n",
            "  inflating: test_data/hsparo/100_5585.JPG  \n",
            "  inflating: test_data/hsparo/100_5586.JPG  \n",
            "  inflating: test_data/hsparo/100_5742.JPG  \n",
            "  inflating: test_data/hsparo/12265273154_48e0fefd42_o.jpg  \n",
            "  inflating: test_data/hsparo/DSC_4521.jpg  \n",
            "  inflating: test_data/hsparo/DSC_7619.jpg  \n",
            "  inflating: test_data/hsparo/_DSC_11244.jpg  \n",
            "  inflating: test_data/hsparo/_DSC_11246.jpg  \n",
            "   creating: test_data/indvul/\n",
            "  inflating: test_data/indvul/DSC_1263.jpg  \n",
            "  inflating: test_data/indvul/DSC_1273.jpg  \n",
            "  inflating: test_data/indvul/DSC_1274.jpg  \n",
            "  inflating: test_data/indvul/DSC_1275.jpg  \n",
            "  inflating: test_data/indvul/DSC_1277.jpg  \n",
            "  inflating: test_data/indvul/_DSC8754.jpg  \n",
            "  inflating: test_data/indvul/_DSC9520.jpg  \n",
            "  inflating: test_data/indvul/_DSC9521.jpg  \n",
            "  inflating: test_data/indvul/_DSC9523.jpg  \n",
            "   creating: test_data/jglowl/\n",
            "  inflating: test_data/jglowl/_D32_10584.jpg  \n",
            "  inflating: test_data/jglowl/_D32_10587.jpg  \n",
            "  inflating: test_data/jglowl/_D32_10593.jpg  \n",
            "  inflating: test_data/jglowl/_D32_13515.jpg  \n",
            "  inflating: test_data/jglowl/_D32_13516.jpg  \n",
            "  inflating: test_data/jglowl/_D32_13517.jpg  \n",
            "   creating: test_data/lbicrw/\n",
            "  inflating: test_data/lbicrw/100_4917.JPG  \n",
            "  inflating: test_data/lbicrw/IMG_5538.JPG  \n",
            "  inflating: test_data/lbicrw/IMG_5541.JPG  \n",
            "  inflating: test_data/lbicrw/IMG_5543.JPG  \n",
            "  inflating: test_data/lbicrw/IMG_5544.JPG  \n",
            "  inflating: test_data/lbicrw/P1030030.jpg  \n",
            "   creating: test_data/mgprob/\n",
            "  inflating: test_data/mgprob/100_5811.JPG  \n",
            "  inflating: test_data/mgprob/100_5812.JPG  \n",
            "  inflating: test_data/mgprob/100_5813.JPG  \n",
            "  inflating: test_data/mgprob/DSC_3233.jpg  \n",
            "  inflating: test_data/mgprob/_DSC0085.jpg  \n",
            "  inflating: test_data/mgprob/_DSC0133.jpg  \n",
            "  inflating: test_data/mgprob/_DSC0135.jpg  \n",
            "   creating: test_data/rebimg/\n",
            "  inflating: test_data/rebimg/100_5756.JPG  \n",
            "  inflating: test_data/rebimg/100_5757.JPG  \n",
            "  inflating: test_data/rebimg/100_5758.JPG  \n",
            "  inflating: test_data/rebimg/100_5759.JPG  \n",
            "  inflating: test_data/rebimg/100_5760.JPG  \n",
            "  inflating: test_data/rebimg/13009302395_5d88a9d62b_o.jpg  \n",
            "  inflating: test_data/rebimg/13009315305_f1cbfb6767_o.jpg  \n",
            "  inflating: test_data/rebimg/13009451823_8eb502581f_o.jpg  \n",
            "  inflating: test_data/rebimg/DSC_7148.jpg  \n",
            "  inflating: test_data/rebimg/IMG_5251.JPG  \n",
            "  inflating: test_data/rebimg/IMG_5252.JPG  \n",
            "   creating: test_data/wcrsrt/\n",
            "  inflating: test_data/wcrsrt/100_4462.JPG  \n",
            "  inflating: test_data/wcrsrt/100_4463.JPG  \n",
            "  inflating: test_data/wcrsrt/100_4464.JPG  \n",
            "  inflating: test_data/wcrsrt/100_4466.JPG  \n",
            "  inflating: test_data/wcrsrt/100_4467.JPG  \n",
            "  inflating: test_data/wcrsrt/100_4468.JPG  \n",
            "  inflating: test_data/wcrsrt/100_5103.JPG  \n",
            "  inflating: test_data/wcrsrt/100_5105.JPG  \n",
            "  inflating: test_data/wcrsrt/11382677585_ef6570a041_o.jpg  \n",
            "  inflating: test_data/wcrsrt/11382746854_7ce73793b3_o.jpg  \n"
          ]
        }
      ],
      "source": [
        "#unzip files\n",
        "\n",
        "!unzip '/content/drive/MyDrive/test_data (1).zip'"
      ]
    },
    {
      "cell_type": "markdown",
      "source": [
        "### Data Agumentation"
      ],
      "metadata": {
        "id": "ZVOWIx4Dp31b"
      }
    },
    {
      "cell_type": "code",
      "source": [
        "from tensorflow.keras.preprocessing.image import ImageDataGenerator"
      ],
      "metadata": {
        "id": "qRTp2srIpTFE"
      },
      "execution_count": null,
      "outputs": []
    },
    {
      "cell_type": "code",
      "source": [
        "train_gen = ImageDataGenerator(rescale=(1./255),horizontal_flip=True,shear_range=0.2)\n",
        "test_gen = ImageDataGenerator(rescale=(1./255))"
      ],
      "metadata": {
        "id": "BbQnA4_sqGsR"
      },
      "execution_count": null,
      "outputs": []
    },
    {
      "cell_type": "code",
      "source": [
        "train = train_gen.flow_from_directory('/content/test_data',\n",
        "                                      target_size=(120, 120),\n",
        "                                      class_mode='categorical',\n",
        "                                      batch_size=8)\n",
        "\n",
        "test = test_gen.flow_from_directory('/content/test_data',\n",
        "                                    target_size=(120, 120),\n",
        "                                      class_mode='categorical',\n",
        "                                      batch_size=8)"
      ],
      "metadata": {
        "id": "RBk_BBbNql3I",
        "colab": {
          "base_uri": "https://localhost:8080/"
        },
        "outputId": "a27bae0d-5f11-4319-a364-e7fe8e9e83c2"
      },
      "execution_count": null,
      "outputs": [
        {
          "output_type": "stream",
          "name": "stdout",
          "text": [
            "Found 157 images belonging to 16 classes.\n",
            "Found 157 images belonging to 16 classes.\n"
          ]
        }
      ]
    },
    {
      "cell_type": "code",
      "source": [
        "train.class_indices"
      ],
      "metadata": {
        "id": "x-46jyQgsKM7",
        "colab": {
          "base_uri": "https://localhost:8080/"
        },
        "outputId": "791e97f2-865b-45a6-d790-d2519779756f"
      },
      "execution_count": null,
      "outputs": [
        {
          "output_type": "execute_result",
          "data": {
            "text/plain": [
              "{'blasti': 0,\n",
              " 'bonegl': 1,\n",
              " 'brhkyt': 2,\n",
              " 'cbrtsh': 3,\n",
              " 'cmnmyn': 4,\n",
              " 'gretit': 5,\n",
              " 'hilpig': 6,\n",
              " 'himbul': 7,\n",
              " 'himgri': 8,\n",
              " 'hsparo': 9,\n",
              " 'indvul': 10,\n",
              " 'jglowl': 11,\n",
              " 'lbicrw': 12,\n",
              " 'mgprob': 13,\n",
              " 'rebimg': 14,\n",
              " 'wcrsrt': 15}"
            ]
          },
          "metadata": {},
          "execution_count": 6
        }
      ]
    },
    {
      "cell_type": "markdown",
      "source": [
        "### CNN model"
      ],
      "metadata": {
        "id": "KWoBFAebsQ45"
      }
    },
    {
      "cell_type": "code",
      "source": [
        "from tensorflow.keras.layers import Convolution2D,MaxPooling2D,Flatten,Dense\n",
        "from tensorflow.keras.models import Sequential"
      ],
      "metadata": {
        "id": "fehyDe5osNL3"
      },
      "execution_count": null,
      "outputs": []
    },
    {
      "cell_type": "code",
      "source": [
        "# Sequential model\n",
        "model = Sequential()\n",
        "\n",
        "#Convolutional layer\n",
        "model.add(Convolution2D(20,(3,3),activation='relu',input_shape=(120, 120, 3)))\n",
        "\n",
        "#Pooling Layer\n",
        "model.add(MaxPooling2D(pool_size=(2,2)))\n",
        "\n",
        "#Flatten Layer\n",
        "model.add(Flatten())\n",
        "\n",
        "#Fully Connected Layer\n",
        "model.add(Dense(54,activation='relu'))\n",
        "model.add(Dense(16,activation='softmax'))"
      ],
      "metadata": {
        "id": "5P5FehLVsUn0"
      },
      "execution_count": null,
      "outputs": []
    },
    {
      "cell_type": "code",
      "source": [
        "model.summary()"
      ],
      "metadata": {
        "id": "FhKp85j3sjuk",
        "colab": {
          "base_uri": "https://localhost:8080/"
        },
        "outputId": "9717f4b4-1c32-475b-dad3-c0135a2e8dda"
      },
      "execution_count": null,
      "outputs": [
        {
          "output_type": "stream",
          "name": "stdout",
          "text": [
            "Model: \"sequential\"\n",
            "_________________________________________________________________\n",
            " Layer (type)                Output Shape              Param #   \n",
            "=================================================================\n",
            " conv2d (Conv2D)             (None, 118, 118, 20)      560       \n",
            "                                                                 \n",
            " max_pooling2d (MaxPooling2D  (None, 59, 59, 20)       0         \n",
            " )                                                               \n",
            "                                                                 \n",
            " flatten (Flatten)           (None, 69620)             0         \n",
            "                                                                 \n",
            " dense (Dense)               (None, 54)                3759534   \n",
            "                                                                 \n",
            " dense_1 (Dense)             (None, 16)                880       \n",
            "                                                                 \n",
            "=================================================================\n",
            "Total params: 3,760,974\n",
            "Trainable params: 3,760,974\n",
            "Non-trainable params: 0\n",
            "_________________________________________________________________\n"
          ]
        }
      ]
    },
    {
      "cell_type": "code",
      "source": [
        "# Model compilation\n",
        "model.compile(optimizer='adam',loss='categorical_crossentropy',metrics=['accuracy'])"
      ],
      "metadata": {
        "id": "B-NaEaXSseJb",
        "outputId": "a6ce0c3c-c268-4e83-e4fb-f31c3e1dc0fd",
        "colab": {
          "base_uri": "https://localhost:8080/",
          "height": 183
        }
      },
      "execution_count": null,
      "outputs": [
        {
          "output_type": "error",
          "ename": "NameError",
          "evalue": "ignored",
          "traceback": [
            "\u001b[0;31m---------------------------------------------------------------------------\u001b[0m",
            "\u001b[0;31mNameError\u001b[0m                                 Traceback (most recent call last)",
            "\u001b[0;32m<ipython-input-1-bbe83abc97f4>\u001b[0m in \u001b[0;36m<cell line: 2>\u001b[0;34m()\u001b[0m\n\u001b[1;32m      1\u001b[0m \u001b[0;31m# Model compilation\u001b[0m\u001b[0;34m\u001b[0m\u001b[0;34m\u001b[0m\u001b[0m\n\u001b[0;32m----> 2\u001b[0;31m \u001b[0mmodel\u001b[0m\u001b[0;34m.\u001b[0m\u001b[0mcompile\u001b[0m\u001b[0;34m(\u001b[0m\u001b[0moptimizer\u001b[0m\u001b[0;34m=\u001b[0m\u001b[0;34m'adam'\u001b[0m\u001b[0;34m,\u001b[0m\u001b[0mloss\u001b[0m\u001b[0;34m=\u001b[0m\u001b[0;34m'categorical_crossentropy'\u001b[0m\u001b[0;34m,\u001b[0m\u001b[0mmetrics\u001b[0m\u001b[0;34m=\u001b[0m\u001b[0;34m[\u001b[0m\u001b[0;34m'accuracy'\u001b[0m\u001b[0;34m]\u001b[0m\u001b[0;34m)\u001b[0m\u001b[0;34m\u001b[0m\u001b[0;34m\u001b[0m\u001b[0m\n\u001b[0m",
            "\u001b[0;31mNameError\u001b[0m: name 'model' is not defined"
          ]
        }
      ]
    },
    {
      "cell_type": "code",
      "source": [
        "#fit the model\n",
        "model.fit(train,batch_size=8,validation_data=test,epochs=20)"
      ],
      "metadata": {
        "id": "VBHaRMJesnnE",
        "colab": {
          "base_uri": "https://localhost:8080/"
        },
        "outputId": "cda26778-f125-4357-a56e-f341e3954c5c"
      },
      "execution_count": null,
      "outputs": [
        {
          "output_type": "stream",
          "name": "stdout",
          "text": [
            "Epoch 1/20\n",
            "20/20 [==============================] - 100s 5s/step - loss: 2.7172 - accuracy: 0.0955 - val_loss: 2.6765 - val_accuracy: 0.1338\n",
            "Epoch 2/20\n",
            "20/20 [==============================] - 102s 5s/step - loss: 2.6765 - accuracy: 0.1656 - val_loss: 2.6388 - val_accuracy: 0.1338\n",
            "Epoch 3/20\n",
            "20/20 [==============================] - 100s 5s/step - loss: 2.6874 - accuracy: 0.1465 - val_loss: 2.6119 - val_accuracy: 0.1401\n",
            "Epoch 4/20\n",
            "20/20 [==============================] - 100s 5s/step - loss: 2.6008 - accuracy: 0.1465 - val_loss: 2.5923 - val_accuracy: 0.1401\n",
            "Epoch 5/20\n",
            "20/20 [==============================] - 102s 5s/step - loss: 2.5957 - accuracy: 0.1465 - val_loss: 2.5337 - val_accuracy: 0.1465\n",
            "Epoch 6/20\n",
            "20/20 [==============================] - 101s 5s/step - loss: 2.5414 - accuracy: 0.1656 - val_loss: 2.4976 - val_accuracy: 0.1592\n",
            "Epoch 7/20\n",
            "20/20 [==============================] - ETA: 0s - loss: 2.5086 - accuracy: 0.1592"
          ]
        }
      ]
    },
    {
      "cell_type": "markdown",
      "source": [
        "#### Test 1\n",
        "\n",
        "Let's test with image from 'bonegl'"
      ],
      "metadata": {
        "id": "VSRN46n-1p4v"
      }
    },
    {
      "cell_type": "code",
      "source": [
        "import numpy as np\n",
        "from tensorflow.keras.preprocessing import image"
      ],
      "metadata": {
        "id": "C0bhKLcUsuYN"
      },
      "execution_count": null,
      "outputs": []
    },
    {
      "cell_type": "code",
      "source": [
        "img = image.load_img('/content/test_data/bonegl/DSC_4587.jpg',target_size=(120,120))\n",
        "img"
      ],
      "metadata": {
        "id": "JqD3OUQc11qU"
      },
      "execution_count": null,
      "outputs": []
    },
    {
      "cell_type": "code",
      "source": [
        "img = image.img_to_array(img)\n",
        "img"
      ],
      "metadata": {
        "id": "9wPKhqVS2B-N"
      },
      "execution_count": null,
      "outputs": []
    },
    {
      "cell_type": "code",
      "source": [
        "img = np.expand_dims(img,axis=0)\n",
        "img"
      ],
      "metadata": {
        "id": "3fPHEuO_2Bxw"
      },
      "execution_count": null,
      "outputs": []
    },
    {
      "cell_type": "code",
      "source": [
        "pred = np.argmax(model.predict(img))\n",
        "print(pred)"
      ],
      "metadata": {
        "id": "QIldX6T-2BZN"
      },
      "execution_count": null,
      "outputs": []
    },
    {
      "cell_type": "code",
      "source": [
        "train.class_indices.keys()"
      ],
      "metadata": {
        "id": "Bwws8CJI2pyJ"
      },
      "execution_count": null,
      "outputs": []
    },
    {
      "cell_type": "code",
      "source": [
        "output=['blasti', 'bonegl', 'brhkyt', 'cbrtsh', 'cmnmyn', 'gretit', 'hilpig', 'himbul', 'himgri', 'hsparo', 'indvul', 'jglowl', 'lbicrw', 'mgprob', 'rebimg', 'wcrsrt']\n",
        "print(output[pred])"
      ],
      "metadata": {
        "id": "eb9X2YLb2rIC"
      },
      "execution_count": null,
      "outputs": []
    },
    {
      "cell_type": "markdown",
      "source": [
        "#### Test 2\n",
        "\n",
        "Let's take image from himbul"
      ],
      "metadata": {
        "id": "nBsZuD1D3BEf"
      }
    },
    {
      "cell_type": "code",
      "source": [
        "img1 = image.load_img('/content/test_data/himbul/11602064885_3826df4500_o.jpg',target_size=(120,120))\n",
        "img1"
      ],
      "metadata": {
        "id": "gq-Tg5xw23C_"
      },
      "execution_count": null,
      "outputs": []
    },
    {
      "cell_type": "code",
      "source": [
        "img1 = image.img_to_array(img1)\n",
        "img1 = np.expand_dims(img1,axis=0)\n",
        "pred1 = np.argmax(model.predict(img1))\n",
        "print(pred1)\n",
        "print(output[pred1])"
      ],
      "metadata": {
        "id": "9u_5BZ7a3WVJ"
      },
      "execution_count": null,
      "outputs": []
    },
    {
      "cell_type": "code",
      "source": [],
      "metadata": {
        "id": "I2naB8Nr3uxY"
      },
      "execution_count": null,
      "outputs": []
    },
    {
      "cell_type": "markdown",
      "source": [
        "## VGG16"
      ],
      "metadata": {
        "id": "qadfjhQTTGPM"
      }
    },
    {
      "cell_type": "code",
      "source": [
        "from tensorflow.keras.applications.vgg16 import VGG16,preprocess_input"
      ],
      "metadata": {
        "id": "ApYaFfNkTIHL"
      },
      "execution_count": null,
      "outputs": []
    },
    {
      "cell_type": "code",
      "source": [
        "train_gen = ImageDataGenerator(rescale=(1./255),horizontal_flip=True,shear_range=0.2)\n",
        "test_gen = ImageDataGenerator(rescale=(1./255))"
      ],
      "metadata": {
        "id": "mx3E2Nk5o7OI"
      },
      "execution_count": null,
      "outputs": []
    },
    {
      "cell_type": "code",
      "source": [
        "train = train_gen.flow_from_directory('/content/test_data',\n",
        "                                      target_size=(224, 224),\n",
        "                                      class_mode='categorical',\n",
        "                                      batch_size=8)\n",
        "\n",
        "test = test_gen.flow_from_directory('/content/test_data',\n",
        "                                    target_size=(224, 224),\n",
        "                                      class_mode='categorical',\n",
        "                                      batch_size=8)"
      ],
      "metadata": {
        "id": "VJO8G_FxpAr5"
      },
      "execution_count": null,
      "outputs": []
    },
    {
      "cell_type": "code",
      "source": [
        "# Now let us add preprocess layer infront of vgg16\n",
        "\n",
        "vgg = VGG16(include_top=False,weights='imagenet',input_shape=(224,224,3))"
      ],
      "metadata": {
        "id": "9AyI3UBsTy-2"
      },
      "execution_count": null,
      "outputs": []
    },
    {
      "cell_type": "code",
      "source": [
        "# Now let us see the layers in the vgg16\n",
        "\n",
        "for layer in vgg.layers:\n",
        "  print(layer)"
      ],
      "metadata": {
        "id": "-ZPlULvhUB0H"
      },
      "execution_count": null,
      "outputs": []
    },
    {
      "cell_type": "code",
      "source": [
        "# Now let us train model with existing weights\n",
        "\n",
        "for layer in vgg.layers:\n",
        "  layer.trainable=False"
      ],
      "metadata": {
        "id": "O26-1JKCUKry"
      },
      "execution_count": null,
      "outputs": []
    },
    {
      "cell_type": "code",
      "source": [
        "# Now let us flatten the feature map\n",
        "\n",
        "x = Flatten()(vgg.output)"
      ],
      "metadata": {
        "id": "Fd2HnTQEUYyD"
      },
      "execution_count": null,
      "outputs": []
    },
    {
      "cell_type": "code",
      "source": [
        "# output layer\n",
        "\n",
        "prediction = Dense(16,activation='softmax')(x)"
      ],
      "metadata": {
        "id": "U9rdDnUwUhdh"
      },
      "execution_count": null,
      "outputs": []
    },
    {
      "cell_type": "code",
      "source": [
        "# Create Vgg16 model\n",
        "\n",
        "from tensorflow.keras.models import Model\n",
        "vgg_model = Model(inputs=vgg.input,outputs=prediction)"
      ],
      "metadata": {
        "id": "KSMNRHVhUs57"
      },
      "execution_count": null,
      "outputs": []
    },
    {
      "cell_type": "code",
      "source": [
        "vgg_model.summary()"
      ],
      "metadata": {
        "id": "wbCoL_-9Uyvs"
      },
      "execution_count": null,
      "outputs": []
    },
    {
      "cell_type": "code",
      "source": [
        "# let us compile the model\n",
        "\n",
        "vgg_model.compile(loss='categorical_crossentropy',optimizer='adam',metrics=['accuracy'])"
      ],
      "metadata": {
        "id": "ATJF8vCBU2q8"
      },
      "execution_count": null,
      "outputs": []
    },
    {
      "cell_type": "code",
      "source": [
        "vgg_model.fit(train,epochs=5,validation_data=test,steps_per_epoch=len(train),\n",
        "              validation_steps=len(test))"
      ],
      "metadata": {
        "id": "rbXU10Y5U_dC"
      },
      "execution_count": null,
      "outputs": []
    },
    {
      "cell_type": "code",
      "source": [],
      "metadata": {
        "id": "spd6aKyJVEsA"
      },
      "execution_count": null,
      "outputs": []
    }
  ]
}