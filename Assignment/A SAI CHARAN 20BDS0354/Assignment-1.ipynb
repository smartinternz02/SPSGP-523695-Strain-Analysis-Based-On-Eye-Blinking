{
 "cells": [
  {
   "cell_type": "markdown",
   "source": [
    "20BDS0354\n",
    "A SAI CHARAN\n",
    "SmartBridge Externship-Artifical Intelligence Course\n",
    "Course Instructor: HariPrabhu\n",
    "Vellore Institute of Technology,Vellore Campus\n",
    "-----------------------------------------\n",
    "Assignment-1:\n",
    "Task - 1 Create a pandas dataframe (DataFrame name as 'df') with numpy random values (4 features and 4 observation)\n",
    "---------------------------------------------------------------------------------\n",
    "Task - 2 Rename the task - 1 'df' dataframe column names to 'Random value 1', 'Random value 2', 'Random value 3' & 'Random value 4'\n",
    "---------------------------------------\n",
    "Task - 3 Find the descriptive statistics of the 'df' dataframe.\n",
    "------------------------------\n",
    "Task - 4 Check for the null values in 'df' and find the data type of the columns.\n",
    "-----------------------------------------------------------\n",
    "Task - 5 Display the 'Random value 2' & 'Random value 3' columns with location method and index location method.\n",
    "-----------------------------------------------------------------------------------------------------------------------"
   ],
   "metadata": {
    "collapsed": false
   }
  },
  {
   "cell_type": "code",
   "execution_count": 40,
   "outputs": [],
   "source": [
    "import numpy as np\n",
    "import pandas as pd"
   ],
   "metadata": {
    "collapsed": false,
    "ExecuteTime": {
     "end_time": "2023-05-28T15:02:18.520141400Z",
     "start_time": "2023-05-28T15:02:18.483975600Z"
    }
   }
  },
  {
   "cell_type": "markdown",
   "source": [
    "Task I\n",
    "Create a pandas dataframe (DataFrame name as 'df') with numpy random values (4 features and 4 observation)"
   ],
   "metadata": {
    "collapsed": false
   }
  },
  {
   "cell_type": "code",
   "execution_count": 41,
   "outputs": [],
   "source": [
    "df=pd.DataFrame([pd.Series(np.random.rand(4)),pd.Series(np.random.rand(4)),pd.Series(np.random.rand(4)),pd.Series(np.random.rand(4))])"
   ],
   "metadata": {
    "collapsed": false,
    "ExecuteTime": {
     "end_time": "2023-05-28T15:02:18.536308900Z",
     "start_time": "2023-05-28T15:02:18.488486Z"
    }
   }
  },
  {
   "cell_type": "code",
   "execution_count": 42,
   "outputs": [
    {
     "data": {
      "text/plain": "          0         1         2         3\n0  0.636597  0.538191  0.590382  0.182918\n1  0.664412  0.829108  0.903790  0.138051\n2  0.378621  0.652329  0.973568  0.453581\n3  0.205123  0.311794  0.903041  0.869765",
      "text/html": "<div>\n<style scoped>\n    .dataframe tbody tr th:only-of-type {\n        vertical-align: middle;\n    }\n\n    .dataframe tbody tr th {\n        vertical-align: top;\n    }\n\n    .dataframe thead th {\n        text-align: right;\n    }\n</style>\n<table border=\"1\" class=\"dataframe\">\n  <thead>\n    <tr style=\"text-align: right;\">\n      <th></th>\n      <th>0</th>\n      <th>1</th>\n      <th>2</th>\n      <th>3</th>\n    </tr>\n  </thead>\n  <tbody>\n    <tr>\n      <th>0</th>\n      <td>0.636597</td>\n      <td>0.538191</td>\n      <td>0.590382</td>\n      <td>0.182918</td>\n    </tr>\n    <tr>\n      <th>1</th>\n      <td>0.664412</td>\n      <td>0.829108</td>\n      <td>0.903790</td>\n      <td>0.138051</td>\n    </tr>\n    <tr>\n      <th>2</th>\n      <td>0.378621</td>\n      <td>0.652329</td>\n      <td>0.973568</td>\n      <td>0.453581</td>\n    </tr>\n    <tr>\n      <th>3</th>\n      <td>0.205123</td>\n      <td>0.311794</td>\n      <td>0.903041</td>\n      <td>0.869765</td>\n    </tr>\n  </tbody>\n</table>\n</div>"
     },
     "execution_count": 42,
     "metadata": {},
     "output_type": "execute_result"
    }
   ],
   "source": [
    "df"
   ],
   "metadata": {
    "collapsed": false,
    "ExecuteTime": {
     "end_time": "2023-05-28T15:02:18.572270900Z",
     "start_time": "2023-05-28T15:02:18.536308900Z"
    }
   }
  },
  {
   "cell_type": "markdown",
   "source": [
    "Task-2\n",
    "Rename the task - 1 'df' dataframe column names to 'Random value 1', 'Random value 2', 'Random value 3' & 'Random value 4"
   ],
   "metadata": {
    "collapsed": false
   }
  },
  {
   "cell_type": "code",
   "execution_count": 43,
   "outputs": [],
   "source": [
    "df.columns=['Random Value 1','Random Value 2','Random Value 3','Random Value 4']"
   ],
   "metadata": {
    "collapsed": false,
    "ExecuteTime": {
     "end_time": "2023-05-28T15:02:18.583106200Z",
     "start_time": "2023-05-28T15:02:18.572270900Z"
    }
   }
  },
  {
   "cell_type": "code",
   "execution_count": 44,
   "outputs": [
    {
     "data": {
      "text/plain": "   Random Value 1  Random Value 2  Random Value 3  Random Value 4\n0        0.636597        0.538191        0.590382        0.182918\n1        0.664412        0.829108        0.903790        0.138051\n2        0.378621        0.652329        0.973568        0.453581\n3        0.205123        0.311794        0.903041        0.869765",
      "text/html": "<div>\n<style scoped>\n    .dataframe tbody tr th:only-of-type {\n        vertical-align: middle;\n    }\n\n    .dataframe tbody tr th {\n        vertical-align: top;\n    }\n\n    .dataframe thead th {\n        text-align: right;\n    }\n</style>\n<table border=\"1\" class=\"dataframe\">\n  <thead>\n    <tr style=\"text-align: right;\">\n      <th></th>\n      <th>Random Value 1</th>\n      <th>Random Value 2</th>\n      <th>Random Value 3</th>\n      <th>Random Value 4</th>\n    </tr>\n  </thead>\n  <tbody>\n    <tr>\n      <th>0</th>\n      <td>0.636597</td>\n      <td>0.538191</td>\n      <td>0.590382</td>\n      <td>0.182918</td>\n    </tr>\n    <tr>\n      <th>1</th>\n      <td>0.664412</td>\n      <td>0.829108</td>\n      <td>0.903790</td>\n      <td>0.138051</td>\n    </tr>\n    <tr>\n      <th>2</th>\n      <td>0.378621</td>\n      <td>0.652329</td>\n      <td>0.973568</td>\n      <td>0.453581</td>\n    </tr>\n    <tr>\n      <th>3</th>\n      <td>0.205123</td>\n      <td>0.311794</td>\n      <td>0.903041</td>\n      <td>0.869765</td>\n    </tr>\n  </tbody>\n</table>\n</div>"
     },
     "execution_count": 44,
     "metadata": {},
     "output_type": "execute_result"
    }
   ],
   "source": [
    "df"
   ],
   "metadata": {
    "collapsed": false,
    "ExecuteTime": {
     "end_time": "2023-05-28T15:02:18.604548600Z",
     "start_time": "2023-05-28T15:02:18.591526100Z"
    }
   }
  },
  {
   "cell_type": "markdown",
   "source": [
    "Task 3\n",
    "Find the descriptive statistics of the 'df' dataframe"
   ],
   "metadata": {
    "collapsed": false
   }
  },
  {
   "cell_type": "code",
   "execution_count": 45,
   "outputs": [
    {
     "data": {
      "text/plain": "       Random Value 1  Random Value 2  Random Value 3  Random Value 4\ncount        4.000000        4.000000        4.000000        4.000000\nmean         0.471188        0.582856        0.842696        0.411079\nstd          0.219131        0.216746        0.171429        0.336056\nmin          0.205123        0.311794        0.590382        0.138051\n25%          0.335246        0.481592        0.824877        0.171701\n50%          0.507609        0.595260        0.903416        0.318249\n75%          0.643550        0.696524        0.921235        0.557627\nmax          0.664412        0.829108        0.973568        0.869765",
      "text/html": "<div>\n<style scoped>\n    .dataframe tbody tr th:only-of-type {\n        vertical-align: middle;\n    }\n\n    .dataframe tbody tr th {\n        vertical-align: top;\n    }\n\n    .dataframe thead th {\n        text-align: right;\n    }\n</style>\n<table border=\"1\" class=\"dataframe\">\n  <thead>\n    <tr style=\"text-align: right;\">\n      <th></th>\n      <th>Random Value 1</th>\n      <th>Random Value 2</th>\n      <th>Random Value 3</th>\n      <th>Random Value 4</th>\n    </tr>\n  </thead>\n  <tbody>\n    <tr>\n      <th>count</th>\n      <td>4.000000</td>\n      <td>4.000000</td>\n      <td>4.000000</td>\n      <td>4.000000</td>\n    </tr>\n    <tr>\n      <th>mean</th>\n      <td>0.471188</td>\n      <td>0.582856</td>\n      <td>0.842696</td>\n      <td>0.411079</td>\n    </tr>\n    <tr>\n      <th>std</th>\n      <td>0.219131</td>\n      <td>0.216746</td>\n      <td>0.171429</td>\n      <td>0.336056</td>\n    </tr>\n    <tr>\n      <th>min</th>\n      <td>0.205123</td>\n      <td>0.311794</td>\n      <td>0.590382</td>\n      <td>0.138051</td>\n    </tr>\n    <tr>\n      <th>25%</th>\n      <td>0.335246</td>\n      <td>0.481592</td>\n      <td>0.824877</td>\n      <td>0.171701</td>\n    </tr>\n    <tr>\n      <th>50%</th>\n      <td>0.507609</td>\n      <td>0.595260</td>\n      <td>0.903416</td>\n      <td>0.318249</td>\n    </tr>\n    <tr>\n      <th>75%</th>\n      <td>0.643550</td>\n      <td>0.696524</td>\n      <td>0.921235</td>\n      <td>0.557627</td>\n    </tr>\n    <tr>\n      <th>max</th>\n      <td>0.664412</td>\n      <td>0.829108</td>\n      <td>0.973568</td>\n      <td>0.869765</td>\n    </tr>\n  </tbody>\n</table>\n</div>"
     },
     "execution_count": 45,
     "metadata": {},
     "output_type": "execute_result"
    }
   ],
   "source": [
    "df.describe()"
   ],
   "metadata": {
    "collapsed": false,
    "ExecuteTime": {
     "end_time": "2023-05-28T15:02:18.793501Z",
     "start_time": "2023-05-28T15:02:18.604548600Z"
    }
   }
  },
  {
   "cell_type": "code",
   "execution_count": 46,
   "outputs": [
    {
     "data": {
      "text/plain": "       Random Value 1  Random Value 2  Random Value 3  Random Value 4\ncount        4.000000        4.000000        4.000000        4.000000\nmean         0.471188        0.582856        0.842696        0.411079\nstd          0.219131        0.216746        0.171429        0.336056\nmin          0.205123        0.311794        0.590382        0.138051\n25%          0.335246        0.481592        0.824877        0.171701\n50%          0.507609        0.595260        0.903416        0.318249\n75%          0.643550        0.696524        0.921235        0.557627\nmax          0.664412        0.829108        0.973568        0.869765",
      "text/html": "<div>\n<style scoped>\n    .dataframe tbody tr th:only-of-type {\n        vertical-align: middle;\n    }\n\n    .dataframe tbody tr th {\n        vertical-align: top;\n    }\n\n    .dataframe thead th {\n        text-align: right;\n    }\n</style>\n<table border=\"1\" class=\"dataframe\">\n  <thead>\n    <tr style=\"text-align: right;\">\n      <th></th>\n      <th>Random Value 1</th>\n      <th>Random Value 2</th>\n      <th>Random Value 3</th>\n      <th>Random Value 4</th>\n    </tr>\n  </thead>\n  <tbody>\n    <tr>\n      <th>count</th>\n      <td>4.000000</td>\n      <td>4.000000</td>\n      <td>4.000000</td>\n      <td>4.000000</td>\n    </tr>\n    <tr>\n      <th>mean</th>\n      <td>0.471188</td>\n      <td>0.582856</td>\n      <td>0.842696</td>\n      <td>0.411079</td>\n    </tr>\n    <tr>\n      <th>std</th>\n      <td>0.219131</td>\n      <td>0.216746</td>\n      <td>0.171429</td>\n      <td>0.336056</td>\n    </tr>\n    <tr>\n      <th>min</th>\n      <td>0.205123</td>\n      <td>0.311794</td>\n      <td>0.590382</td>\n      <td>0.138051</td>\n    </tr>\n    <tr>\n      <th>25%</th>\n      <td>0.335246</td>\n      <td>0.481592</td>\n      <td>0.824877</td>\n      <td>0.171701</td>\n    </tr>\n    <tr>\n      <th>50%</th>\n      <td>0.507609</td>\n      <td>0.595260</td>\n      <td>0.903416</td>\n      <td>0.318249</td>\n    </tr>\n    <tr>\n      <th>75%</th>\n      <td>0.643550</td>\n      <td>0.696524</td>\n      <td>0.921235</td>\n      <td>0.557627</td>\n    </tr>\n    <tr>\n      <th>max</th>\n      <td>0.664412</td>\n      <td>0.829108</td>\n      <td>0.973568</td>\n      <td>0.869765</td>\n    </tr>\n  </tbody>\n</table>\n</div>"
     },
     "execution_count": 46,
     "metadata": {},
     "output_type": "execute_result"
    }
   ],
   "source": [
    "df.describe(include='all')"
   ],
   "metadata": {
    "collapsed": false,
    "ExecuteTime": {
     "end_time": "2023-05-28T15:02:18.798498500Z",
     "start_time": "2023-05-28T15:02:18.651395600Z"
    }
   }
  },
  {
   "cell_type": "markdown",
   "source": [
    "Task 4\n",
    "Check for the null values in 'df' and find the data type of the columns.\n"
   ],
   "metadata": {
    "collapsed": false
   }
  },
  {
   "cell_type": "code",
   "execution_count": 47,
   "outputs": [
    {
     "data": {
      "text/plain": "   Random Value 1  Random Value 2  Random Value 3  Random Value 4\n0           False           False           False           False\n1           False           False           False           False\n2           False           False           False           False\n3           False           False           False           False",
      "text/html": "<div>\n<style scoped>\n    .dataframe tbody tr th:only-of-type {\n        vertical-align: middle;\n    }\n\n    .dataframe tbody tr th {\n        vertical-align: top;\n    }\n\n    .dataframe thead th {\n        text-align: right;\n    }\n</style>\n<table border=\"1\" class=\"dataframe\">\n  <thead>\n    <tr style=\"text-align: right;\">\n      <th></th>\n      <th>Random Value 1</th>\n      <th>Random Value 2</th>\n      <th>Random Value 3</th>\n      <th>Random Value 4</th>\n    </tr>\n  </thead>\n  <tbody>\n    <tr>\n      <th>0</th>\n      <td>False</td>\n      <td>False</td>\n      <td>False</td>\n      <td>False</td>\n    </tr>\n    <tr>\n      <th>1</th>\n      <td>False</td>\n      <td>False</td>\n      <td>False</td>\n      <td>False</td>\n    </tr>\n    <tr>\n      <th>2</th>\n      <td>False</td>\n      <td>False</td>\n      <td>False</td>\n      <td>False</td>\n    </tr>\n    <tr>\n      <th>3</th>\n      <td>False</td>\n      <td>False</td>\n      <td>False</td>\n      <td>False</td>\n    </tr>\n  </tbody>\n</table>\n</div>"
     },
     "execution_count": 47,
     "metadata": {},
     "output_type": "execute_result"
    }
   ],
   "source": [
    "df.isnull()"
   ],
   "metadata": {
    "collapsed": false,
    "ExecuteTime": {
     "end_time": "2023-05-28T15:02:18.798498500Z",
     "start_time": "2023-05-28T15:02:18.668449600Z"
    }
   }
  },
  {
   "cell_type": "code",
   "execution_count": 48,
   "outputs": [
    {
     "data": {
      "text/plain": "Random Value 1    0\nRandom Value 2    0\nRandom Value 3    0\nRandom Value 4    0\ndtype: int64"
     },
     "execution_count": 48,
     "metadata": {},
     "output_type": "execute_result"
    }
   ],
   "source": [
    "df.isnull().sum()"
   ],
   "metadata": {
    "collapsed": false,
    "ExecuteTime": {
     "end_time": "2023-05-28T15:02:18.798498500Z",
     "start_time": "2023-05-28T15:02:18.682839400Z"
    }
   }
  },
  {
   "cell_type": "code",
   "execution_count": 49,
   "outputs": [
    {
     "data": {
      "text/plain": "Random Value 1    False\nRandom Value 2    False\nRandom Value 3    False\nRandom Value 4    False\ndtype: bool"
     },
     "execution_count": 49,
     "metadata": {},
     "output_type": "execute_result"
    }
   ],
   "source": [
    "df.isnull().all()"
   ],
   "metadata": {
    "collapsed": false,
    "ExecuteTime": {
     "end_time": "2023-05-28T15:02:18.798498500Z",
     "start_time": "2023-05-28T15:02:18.718769800Z"
    }
   }
  },
  {
   "cell_type": "code",
   "execution_count": 50,
   "outputs": [
    {
     "name": "stdout",
     "output_type": "stream",
     "text": [
      "<class 'pandas.core.frame.DataFrame'>\n",
      "RangeIndex: 4 entries, 0 to 3\n",
      "Data columns (total 4 columns):\n",
      " #   Column          Non-Null Count  Dtype  \n",
      "---  ------          --------------  -----  \n",
      " 0   Random Value 1  4 non-null      float64\n",
      " 1   Random Value 2  4 non-null      float64\n",
      " 2   Random Value 3  4 non-null      float64\n",
      " 3   Random Value 4  4 non-null      float64\n",
      "dtypes: float64(4)\n",
      "memory usage: 260.0 bytes\n"
     ]
    }
   ],
   "source": [
    "df.info()"
   ],
   "metadata": {
    "collapsed": false,
    "ExecuteTime": {
     "end_time": "2023-05-28T15:02:18.798498500Z",
     "start_time": "2023-05-28T15:02:18.718769800Z"
    }
   }
  },
  {
   "cell_type": "markdown",
   "source": [
    "Task 5\n",
    "Display the 'Random value 2' & 'Random value 3' columns with location method and index location method"
   ],
   "metadata": {
    "collapsed": false
   }
  },
  {
   "cell_type": "code",
   "execution_count": 51,
   "outputs": [
    {
     "name": "stdout",
     "output_type": "stream",
     "text": [
      "Using Location(loc) Method\n"
     ]
    },
    {
     "data": {
      "text/plain": "   Random Value 2  Random Value 3\n0        0.538191        0.590382\n1        0.829108        0.903790\n2        0.652329        0.973568\n3        0.311794        0.903041",
      "text/html": "<div>\n<style scoped>\n    .dataframe tbody tr th:only-of-type {\n        vertical-align: middle;\n    }\n\n    .dataframe tbody tr th {\n        vertical-align: top;\n    }\n\n    .dataframe thead th {\n        text-align: right;\n    }\n</style>\n<table border=\"1\" class=\"dataframe\">\n  <thead>\n    <tr style=\"text-align: right;\">\n      <th></th>\n      <th>Random Value 2</th>\n      <th>Random Value 3</th>\n    </tr>\n  </thead>\n  <tbody>\n    <tr>\n      <th>0</th>\n      <td>0.538191</td>\n      <td>0.590382</td>\n    </tr>\n    <tr>\n      <th>1</th>\n      <td>0.829108</td>\n      <td>0.903790</td>\n    </tr>\n    <tr>\n      <th>2</th>\n      <td>0.652329</td>\n      <td>0.973568</td>\n    </tr>\n    <tr>\n      <th>3</th>\n      <td>0.311794</td>\n      <td>0.903041</td>\n    </tr>\n  </tbody>\n</table>\n</div>"
     },
     "execution_count": 51,
     "metadata": {},
     "output_type": "execute_result"
    }
   ],
   "source": [
    "print(\"Using Location(loc) Method\")\n",
    "df.loc[:,'Random Value 2':'Random Value 3']"
   ],
   "metadata": {
    "collapsed": false,
    "ExecuteTime": {
     "end_time": "2023-05-28T15:02:18.798498500Z",
     "start_time": "2023-05-28T15:02:18.761831900Z"
    }
   }
  },
  {
   "cell_type": "code",
   "execution_count": 52,
   "outputs": [
    {
     "name": "stdout",
     "output_type": "stream",
     "text": [
      "Usign Indexed Location(iloc) Method\n"
     ]
    },
    {
     "data": {
      "text/plain": "   Random Value 2  Random Value 3\n0        0.538191        0.590382\n1        0.829108        0.903790\n2        0.652329        0.973568\n3        0.311794        0.903041",
      "text/html": "<div>\n<style scoped>\n    .dataframe tbody tr th:only-of-type {\n        vertical-align: middle;\n    }\n\n    .dataframe tbody tr th {\n        vertical-align: top;\n    }\n\n    .dataframe thead th {\n        text-align: right;\n    }\n</style>\n<table border=\"1\" class=\"dataframe\">\n  <thead>\n    <tr style=\"text-align: right;\">\n      <th></th>\n      <th>Random Value 2</th>\n      <th>Random Value 3</th>\n    </tr>\n  </thead>\n  <tbody>\n    <tr>\n      <th>0</th>\n      <td>0.538191</td>\n      <td>0.590382</td>\n    </tr>\n    <tr>\n      <th>1</th>\n      <td>0.829108</td>\n      <td>0.903790</td>\n    </tr>\n    <tr>\n      <th>2</th>\n      <td>0.652329</td>\n      <td>0.973568</td>\n    </tr>\n    <tr>\n      <th>3</th>\n      <td>0.311794</td>\n      <td>0.903041</td>\n    </tr>\n  </tbody>\n</table>\n</div>"
     },
     "execution_count": 52,
     "metadata": {},
     "output_type": "execute_result"
    }
   ],
   "source": [
    "print(\"Usign Indexed Location(iloc) Method\")\n",
    "df.iloc[:,1:3]"
   ],
   "metadata": {
    "collapsed": false,
    "ExecuteTime": {
     "end_time": "2023-05-28T15:02:18.864726Z",
     "start_time": "2023-05-28T15:02:18.782481400Z"
    }
   }
  }
 ],
 "metadata": {
  "kernelspec": {
   "display_name": "Python 3",
   "language": "python",
   "name": "python3"
  },
  "language_info": {
   "codemirror_mode": {
    "name": "ipython",
    "version": 2
   },
   "file_extension": ".py",
   "mimetype": "text/x-python",
   "name": "python",
   "nbconvert_exporter": "python",
   "pygments_lexer": "ipython2",
   "version": "2.7.6"
  }
 },
 "nbformat": 4,
 "nbformat_minor": 0
}
