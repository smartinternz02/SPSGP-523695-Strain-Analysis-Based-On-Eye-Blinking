{
 "cells": [
  {
   "cell_type": "markdown",
   "source": [
    "Name : A SAI CHARAN\n",
    "Registration Number: 20BDS0354(College Roll Number)\n",
    "Contact Information :Phone Number:9885371555\n",
    "                     Email-Address: saicharan.a2020@vitstudent.ac.in\n",
    "College: Vellore Institute of Technology(VIT),Vellore\n",
    "Branch: Vellore Campus\n",
    "Course: SmartBridge Externship With Artificial Intelligence\n",
    "----------------------------------------------------------\n",
    "---------------------------------------------------------------\n",
    "Course-Mentor: Hari Prabhu\n",
    "-------------------------------------------------------\n",
    "Week-3-Assignment-III\n",
    "---------------------------------\n",
    "-------------------------------------\n",
    "Question:\n",
    "Build a CNN model for Bird species\n",
    "-------------------------------------\n",
    "Bird species classification is the process of using machine learning and computer vision techniques to identify and categorize different species of birds based\n",
    "on their visual characteristics. By analyzing images of birds, models can extract features and patterns to accurately classify bird species. This classification is\n",
    "vital for ecological research, wildlife monitoring, and conservation efforts. Advancements in deep learning and the availability of large annotated datasets have\n",
    "improved the accuracy of bird species classification models. Challenges include variations in lighting, pose, and background clutter. Ongoing research\n",
    "focuses on methods like transfer learning and data augmentation to enhance classification performance and contribute to avian biodiversity understanding\n",
    "and conservation.\n",
    "-------------------------------------------------------------------------\n",
    "Dataset Link: https://www.kaggle.com/datasets/akash2907/bird-species-classification\n",
    "-----------------------------------------------------------------------------------------"
   ],
   "metadata": {
    "collapsed": false
   }
  },
  {
   "cell_type": "markdown",
   "source": [
    "## Configuration in Colab-For Running in Google Colab\n"
   ],
   "metadata": {
    "collapsed": false
   }
  },
  {
   "cell_type": "code",
   "execution_count": 1,
   "outputs": [],
   "source": [
    "# Colab Configuration\n",
    "# !pip install kaggle\n",
    "# !mkdir ~/.kaggle\n",
    "# ! cp kaggle.json ~/.kaggle/\n",
    "# ! chmod 600 ~/.kaggle/kaggle.json\n",
    "# ! kaggle datasets download akash2907/bird-species-classification\n",
    "#  !unzip bird-species-classification"
   ],
   "metadata": {
    "collapsed": false
   }
  },
  {
   "cell_type": "code",
   "execution_count": 2,
   "metadata": {
    "collapsed": true,
    "ExecuteTime": {
     "end_time": "2023-06-07T06:28:05.839266400Z",
     "start_time": "2023-06-07T06:27:55.664056700Z"
    }
   },
   "outputs": [],
   "source": [
    "#Data Augmentation\n",
    "#Importing Libraries\n",
    "from tensorflow.keras.preprocessing.image import ImageDataGenerator"
   ]
  },
  {
   "cell_type": "code",
   "execution_count": 3,
   "metadata": {
    "ExecuteTime": {
     "end_time": "2023-06-07T06:28:05.845876800Z",
     "start_time": "2023-06-07T06:28:05.843362100Z"
    }
   },
   "outputs": [],
   "source": [
    "Train_Gen=ImageDataGenerator(rescale=(1./255),horizontal_flip=True,shear_range=0.2,zoom_range=0.2)\n",
    "Test_Gen=ImageDataGenerator(rescale=(1./255))"
   ]
  },
  {
   "cell_type": "markdown",
   "source": [
    "## Tranining and Testing in Colab-Directory"
   ],
   "metadata": {
    "collapsed": false
   }
  },
  {
   "cell_type": "code",
   "execution_count": 4,
   "outputs": [],
   "source": [
    "#Colab_Image_Import Configuration\n",
    "#Training=Train_Gen.flow_from_directory('/content/train_data/train_data',class_mode='categorical',batch_size=8,target_size=(224,224))\n",
    "#Testing=Test_Gen.flow_from_directory('/content/test_data/test_data',class_mode='categorical',batch_size=8,target_size=(224,224))"
   ],
   "metadata": {
    "collapsed": false,
    "ExecuteTime": {
     "end_time": "2023-06-07T06:28:05.859633800Z",
     "start_time": "2023-06-07T06:28:05.848886800Z"
    }
   }
  },
  {
   "cell_type": "markdown",
   "source": [
    "## Here I am Gonna Run in My Personal-PC"
   ],
   "metadata": {
    "collapsed": false
   }
  },
  {
   "cell_type": "code",
   "execution_count": 5,
   "metadata": {
    "ExecuteTime": {
     "end_time": "2023-06-07T06:28:05.921950400Z",
     "start_time": "2023-06-07T06:28:05.860634600Z"
    }
   },
   "outputs": [
    {
     "name": "stdout",
     "output_type": "stream",
     "text": [
      "Found 150 images belonging to 16 classes.\n",
      "Found 157 images belonging to 16 classes.\n"
     ]
    }
   ],
   "source": [
    "Training=Train_Gen.flow_from_directory('CNN/Birds_Dataset/dataset/Training',class_mode='categorical',batch_size=8,target_size=(224,224))\n",
    "Testing=Test_Gen.flow_from_directory('CNN/Birds_Dataset/dataset/Testing',class_mode='categorical',batch_size=8,target_size=(224,224))"
   ]
  },
  {
   "cell_type": "code",
   "execution_count": 6,
   "metadata": {
    "ExecuteTime": {
     "end_time": "2023-06-07T06:28:05.928759500Z",
     "start_time": "2023-06-07T06:28:05.923961300Z"
    }
   },
   "outputs": [],
   "source": [
    "#Res-Net-50\n",
    "#Importing Code\n",
    "from tensorflow.keras.applications.resnet import ResNet50"
   ]
  },
  {
   "cell_type": "code",
   "execution_count": 7,
   "metadata": {
    "ExecuteTime": {
     "end_time": "2023-06-07T06:28:08.710286300Z",
     "start_time": "2023-06-07T06:28:05.929762800Z"
    }
   },
   "outputs": [],
   "source": [
    "resnet=ResNet50(include_top=False,input_shape=(224,224,3))"
   ]
  },
  {
   "cell_type": "code",
   "execution_count": 8,
   "metadata": {
    "ExecuteTime": {
     "end_time": "2023-06-07T06:28:08.733900700Z",
     "start_time": "2023-06-07T06:28:08.712860100Z"
    }
   },
   "outputs": [
    {
     "name": "stdout",
     "output_type": "stream",
     "text": [
      "<keras.engine.input_layer.InputLayer object at 0x000001F76B9B3C10>\n",
      "<keras.layers.reshaping.zero_padding2d.ZeroPadding2D object at 0x000001F769E0CD50>\n",
      "<keras.layers.convolutional.conv2d.Conv2D object at 0x000001F76BA13CD0>\n",
      "<keras.layers.normalization.batch_normalization.BatchNormalization object at 0x000001F76B9C9690>\n",
      "<keras.layers.core.activation.Activation object at 0x000001F76C53B990>\n",
      "<keras.layers.reshaping.zero_padding2d.ZeroPadding2D object at 0x000001F755B48B50>\n",
      "<keras.layers.pooling.max_pooling2d.MaxPooling2D object at 0x000001F76DBCF1D0>\n",
      "<keras.layers.convolutional.conv2d.Conv2D object at 0x000001F76DBCE710>\n",
      "<keras.layers.normalization.batch_normalization.BatchNormalization object at 0x000001F76DC50B50>\n",
      "<keras.layers.core.activation.Activation object at 0x000001F76DBBD950>\n",
      "<keras.layers.convolutional.conv2d.Conv2D object at 0x000001F76BAACB90>\n",
      "<keras.layers.normalization.batch_normalization.BatchNormalization object at 0x000001F76DC772D0>\n",
      "<keras.layers.core.activation.Activation object at 0x000001F76DBBD590>\n",
      "<keras.layers.convolutional.conv2d.Conv2D object at 0x000001F76DC75CD0>\n",
      "<keras.layers.convolutional.conv2d.Conv2D object at 0x000001F76DBCD650>\n",
      "<keras.layers.normalization.batch_normalization.BatchNormalization object at 0x000001F76DC76B10>\n",
      "<keras.layers.normalization.batch_normalization.BatchNormalization object at 0x000001F76C4C5250>\n",
      "<keras.layers.merging.add.Add object at 0x000001F76B9CC350>\n",
      "<keras.layers.core.activation.Activation object at 0x000001F76BA9FE10>\n",
      "<keras.layers.convolutional.conv2d.Conv2D object at 0x000001F76DCE3CD0>\n",
      "<keras.layers.normalization.batch_normalization.BatchNormalization object at 0x000001F76DC53210>\n",
      "<keras.layers.core.activation.Activation object at 0x000001F76DC0B0D0>\n",
      "<keras.layers.convolutional.conv2d.Conv2D object at 0x000001F76DCD3E90>\n",
      "<keras.layers.normalization.batch_normalization.BatchNormalization object at 0x000001F76DC770D0>\n",
      "<keras.layers.core.activation.Activation object at 0x000001F76DC08D50>\n",
      "<keras.layers.convolutional.conv2d.Conv2D object at 0x000001F76DCF7710>\n",
      "<keras.layers.normalization.batch_normalization.BatchNormalization object at 0x000001F76DC74A90>\n",
      "<keras.layers.merging.add.Add object at 0x000001F76DC53050>\n",
      "<keras.layers.core.activation.Activation object at 0x000001F76DCA3510>\n",
      "<keras.layers.convolutional.conv2d.Conv2D object at 0x000001F76DD0BD90>\n",
      "<keras.layers.normalization.batch_normalization.BatchNormalization object at 0x000001F76DD0B8D0>\n",
      "<keras.layers.core.activation.Activation object at 0x000001F76DBCDC50>\n",
      "<keras.layers.convolutional.conv2d.Conv2D object at 0x000001F76DD11D10>\n",
      "<keras.layers.normalization.batch_normalization.BatchNormalization object at 0x000001F76DD11750>\n",
      "<keras.layers.core.activation.Activation object at 0x000001F76DC75FD0>\n",
      "<keras.layers.convolutional.conv2d.Conv2D object at 0x000001F76DD1E510>\n",
      "<keras.layers.normalization.batch_normalization.BatchNormalization object at 0x000001F76DD13F90>\n",
      "<keras.layers.merging.add.Add object at 0x000001F76DD26D50>\n",
      "<keras.layers.core.activation.Activation object at 0x000001F76DBCED10>\n",
      "<keras.layers.convolutional.conv2d.Conv2D object at 0x000001F76DCCB6D0>\n",
      "<keras.layers.normalization.batch_normalization.BatchNormalization object at 0x000001F755F29510>\n",
      "<keras.layers.core.activation.Activation object at 0x000001F76CADB3D0>\n",
      "<keras.layers.convolutional.conv2d.Conv2D object at 0x000001F76DD2D910>\n",
      "<keras.layers.normalization.batch_normalization.BatchNormalization object at 0x000001F76B9F40D0>\n",
      "<keras.layers.core.activation.Activation object at 0x000001F76DD2C690>\n",
      "<keras.layers.convolutional.conv2d.Conv2D object at 0x000001F76DD2FED0>\n",
      "<keras.layers.convolutional.conv2d.Conv2D object at 0x000001F76DCA1310>\n",
      "<keras.layers.normalization.batch_normalization.BatchNormalization object at 0x000001F76C38B390>\n",
      "<keras.layers.normalization.batch_normalization.BatchNormalization object at 0x000001F76DCE3750>\n",
      "<keras.layers.merging.add.Add object at 0x000001F76DC29350>\n",
      "<keras.layers.core.activation.Activation object at 0x000001F76DBBFD50>\n",
      "<keras.layers.convolutional.conv2d.Conv2D object at 0x000001F76DD2C910>\n",
      "<keras.layers.normalization.batch_normalization.BatchNormalization object at 0x000001F76DCE2B10>\n",
      "<keras.layers.core.activation.Activation object at 0x000001F76DD264D0>\n",
      "<keras.layers.convolutional.conv2d.Conv2D object at 0x000001F76DD27B90>\n",
      "<keras.layers.normalization.batch_normalization.BatchNormalization object at 0x000001F76DB9F090>\n",
      "<keras.layers.core.activation.Activation object at 0x000001F76BA9DD50>\n",
      "<keras.layers.convolutional.conv2d.Conv2D object at 0x000001F76DD1DF50>\n",
      "<keras.layers.normalization.batch_normalization.BatchNormalization object at 0x000001F76DD26310>\n",
      "<keras.layers.merging.add.Add object at 0x000001F76DD2CC50>\n",
      "<keras.layers.core.activation.Activation object at 0x000001F76C3A3810>\n",
      "<keras.layers.convolutional.conv2d.Conv2D object at 0x000001F76DCC8810>\n",
      "<keras.layers.normalization.batch_normalization.BatchNormalization object at 0x000001F76DC53ED0>\n",
      "<keras.layers.core.activation.Activation object at 0x000001F76DD27E10>\n",
      "<keras.layers.convolutional.conv2d.Conv2D object at 0x000001F76DCC8510>\n",
      "<keras.layers.normalization.batch_normalization.BatchNormalization object at 0x000001F76DCE36D0>\n",
      "<keras.layers.core.activation.Activation object at 0x000001F76DC29810>\n",
      "<keras.layers.convolutional.conv2d.Conv2D object at 0x000001F76DD60BD0>\n",
      "<keras.layers.normalization.batch_normalization.BatchNormalization object at 0x000001F76DD63550>\n",
      "<keras.layers.merging.add.Add object at 0x000001F76DC74810>\n",
      "<keras.layers.core.activation.Activation object at 0x000001F76DCD1E10>\n",
      "<keras.layers.convolutional.conv2d.Conv2D object at 0x000001F76DD6B650>\n",
      "<keras.layers.normalization.batch_normalization.BatchNormalization object at 0x000001F76DD6B5D0>\n",
      "<keras.layers.core.activation.Activation object at 0x000001F76DD70750>\n",
      "<keras.layers.convolutional.conv2d.Conv2D object at 0x000001F76DD71650>\n",
      "<keras.layers.normalization.batch_normalization.BatchNormalization object at 0x000001F76DD73F10>\n",
      "<keras.layers.core.activation.Activation object at 0x000001F76DBCC7D0>\n",
      "<keras.layers.convolutional.conv2d.Conv2D object at 0x000001F76DD7F4D0>\n",
      "<keras.layers.normalization.batch_normalization.BatchNormalization object at 0x000001F76DD7CBD0>\n",
      "<keras.layers.merging.add.Add object at 0x000001F76DD61BD0>\n",
      "<keras.layers.core.activation.Activation object at 0x000001F76DD7FD50>\n",
      "<keras.layers.convolutional.conv2d.Conv2D object at 0x000001F76DD9BE90>\n",
      "<keras.layers.normalization.batch_normalization.BatchNormalization object at 0x000001F76DD72390>\n",
      "<keras.layers.core.activation.Activation object at 0x000001F76DD929D0>\n",
      "<keras.layers.convolutional.conv2d.Conv2D object at 0x000001F76DD97FD0>\n",
      "<keras.layers.normalization.batch_normalization.BatchNormalization object at 0x000001F76DD97090>\n",
      "<keras.layers.core.activation.Activation object at 0x000001F76DD970D0>\n",
      "<keras.layers.convolutional.conv2d.Conv2D object at 0x000001F76DD94990>\n",
      "<keras.layers.convolutional.conv2d.Conv2D object at 0x000001F76DCBEA50>\n",
      "<keras.layers.normalization.batch_normalization.BatchNormalization object at 0x000001F76BBA67D0>\n",
      "<keras.layers.normalization.batch_normalization.BatchNormalization object at 0x000001F76DD5B6D0>\n",
      "<keras.layers.merging.add.Add object at 0x000001F76DCF9690>\n",
      "<keras.layers.core.activation.Activation object at 0x000001F76DD6AC50>\n",
      "<keras.layers.convolutional.conv2d.Conv2D object at 0x000001F76DDA1250>\n",
      "<keras.layers.normalization.batch_normalization.BatchNormalization object at 0x000001F76DD4A310>\n",
      "<keras.layers.core.activation.Activation object at 0x000001F76DD6B310>\n",
      "<keras.layers.convolutional.conv2d.Conv2D object at 0x000001F76DD91D50>\n",
      "<keras.layers.normalization.batch_normalization.BatchNormalization object at 0x000001F76DD59C50>\n",
      "<keras.layers.core.activation.Activation object at 0x000001F76DD71110>\n",
      "<keras.layers.convolutional.conv2d.Conv2D object at 0x000001F76DD6EF10>\n",
      "<keras.layers.normalization.batch_normalization.BatchNormalization object at 0x000001F76DCD38D0>\n",
      "<keras.layers.merging.add.Add object at 0x000001F76DC0B910>\n",
      "<keras.layers.core.activation.Activation object at 0x000001F76DD1C690>\n",
      "<keras.layers.convolutional.conv2d.Conv2D object at 0x000001F76DDA9810>\n",
      "<keras.layers.normalization.batch_normalization.BatchNormalization object at 0x000001F76DD29ED0>\n",
      "<keras.layers.core.activation.Activation object at 0x000001F76DD6C810>\n",
      "<keras.layers.convolutional.conv2d.Conv2D object at 0x000001F76DDD7A90>\n",
      "<keras.layers.normalization.batch_normalization.BatchNormalization object at 0x000001F76DDD6B10>\n",
      "<keras.layers.core.activation.Activation object at 0x000001F76DD93790>\n",
      "<keras.layers.convolutional.conv2d.Conv2D object at 0x000001F76DDDA0D0>\n",
      "<keras.layers.normalization.batch_normalization.BatchNormalization object at 0x000001F76DD93E50>\n",
      "<keras.layers.merging.add.Add object at 0x000001F76DD7D090>\n",
      "<keras.layers.core.activation.Activation object at 0x000001F76DCF6690>\n",
      "<keras.layers.convolutional.conv2d.Conv2D object at 0x000001F76DDEB390>\n",
      "<keras.layers.normalization.batch_normalization.BatchNormalization object at 0x000001F76DDD9610>\n",
      "<keras.layers.core.activation.Activation object at 0x000001F76DDEAAD0>\n",
      "<keras.layers.convolutional.conv2d.Conv2D object at 0x000001F76DDF2E50>\n",
      "<keras.layers.normalization.batch_normalization.BatchNormalization object at 0x000001F76DD7CF90>\n",
      "<keras.layers.core.activation.Activation object at 0x000001F76DD6FE10>\n",
      "<keras.layers.convolutional.conv2d.Conv2D object at 0x000001F76DDF7F50>\n",
      "<keras.layers.normalization.batch_normalization.BatchNormalization object at 0x000001F76DDE7D50>\n",
      "<keras.layers.merging.add.Add object at 0x000001F76DDF6E90>\n",
      "<keras.layers.core.activation.Activation object at 0x000001F76DDF6F50>\n",
      "<keras.layers.convolutional.conv2d.Conv2D object at 0x000001F76DE131D0>\n",
      "<keras.layers.normalization.batch_normalization.BatchNormalization object at 0x000001F76DCCB910>\n",
      "<keras.layers.core.activation.Activation object at 0x000001F76CA85DD0>\n",
      "<keras.layers.convolutional.conv2d.Conv2D object at 0x000001F76DE13750>\n",
      "<keras.layers.normalization.batch_normalization.BatchNormalization object at 0x000001F76DE1EB10>\n",
      "<keras.layers.core.activation.Activation object at 0x000001F76DE1FB90>\n",
      "<keras.layers.convolutional.conv2d.Conv2D object at 0x000001F76DDF6F10>\n",
      "<keras.layers.normalization.batch_normalization.BatchNormalization object at 0x000001F76DDD4750>\n",
      "<keras.layers.merging.add.Add object at 0x000001F76DC77010>\n",
      "<keras.layers.core.activation.Activation object at 0x000001F76DDEA2D0>\n",
      "<keras.layers.convolutional.conv2d.Conv2D object at 0x000001F76DCBEF90>\n",
      "<keras.layers.normalization.batch_normalization.BatchNormalization object at 0x000001F76DE1C790>\n",
      "<keras.layers.core.activation.Activation object at 0x000001F76DC09D90>\n",
      "<keras.layers.convolutional.conv2d.Conv2D object at 0x000001F76DE11B90>\n",
      "<keras.layers.normalization.batch_normalization.BatchNormalization object at 0x000001F76DE0FCD0>\n",
      "<keras.layers.core.activation.Activation object at 0x000001F76DDE7A50>\n",
      "<keras.layers.convolutional.conv2d.Conv2D object at 0x000001F76DDAA290>\n",
      "<keras.layers.normalization.batch_normalization.BatchNormalization object at 0x000001F76DDAA690>\n",
      "<keras.layers.merging.add.Add object at 0x000001F76DDF6190>\n",
      "<keras.layers.core.activation.Activation object at 0x000001F76DD91610>\n",
      "<keras.layers.convolutional.conv2d.Conv2D object at 0x000001F76DE43890>\n",
      "<keras.layers.normalization.batch_normalization.BatchNormalization object at 0x000001F76DE27750>\n",
      "<keras.layers.core.activation.Activation object at 0x000001F76DE410D0>\n",
      "<keras.layers.convolutional.conv2d.Conv2D object at 0x000001F76DE4A210>\n",
      "<keras.layers.normalization.batch_normalization.BatchNormalization object at 0x000001F76DE43750>\n",
      "<keras.layers.core.activation.Activation object at 0x000001F76DE48ED0>\n",
      "<keras.layers.convolutional.conv2d.Conv2D object at 0x000001F76DE3B6D0>\n",
      "<keras.layers.convolutional.conv2d.Conv2D object at 0x000001F76DE52D10>\n",
      "<keras.layers.normalization.batch_normalization.BatchNormalization object at 0x000001F76DE3B650>\n",
      "<keras.layers.normalization.batch_normalization.BatchNormalization object at 0x000001F76DE5D050>\n",
      "<keras.layers.merging.add.Add object at 0x000001F76DE5F950>\n",
      "<keras.layers.core.activation.Activation object at 0x000001F76DE51B50>\n",
      "<keras.layers.convolutional.conv2d.Conv2D object at 0x000001F76DE6BF50>\n",
      "<keras.layers.normalization.batch_normalization.BatchNormalization object at 0x000001F76DE51010>\n",
      "<keras.layers.core.activation.Activation object at 0x000001F76DE50F50>\n",
      "<keras.layers.convolutional.conv2d.Conv2D object at 0x000001F76DE6FDD0>\n",
      "<keras.layers.normalization.batch_normalization.BatchNormalization object at 0x000001F76DE6E7D0>\n",
      "<keras.layers.core.activation.Activation object at 0x000001F76DE26810>\n",
      "<keras.layers.convolutional.conv2d.Conv2D object at 0x000001F76DE74C50>\n",
      "<keras.layers.normalization.batch_normalization.BatchNormalization object at 0x000001F76DDF1050>\n",
      "<keras.layers.merging.add.Add object at 0x000001F76DE0EA90>\n",
      "<keras.layers.core.activation.Activation object at 0x000001F76DE5C410>\n",
      "<keras.layers.convolutional.conv2d.Conv2D object at 0x000001F76EE5FDD0>\n",
      "<keras.layers.normalization.batch_normalization.BatchNormalization object at 0x000001F76DD941D0>\n",
      "<keras.layers.core.activation.Activation object at 0x000001F76DE5D990>\n",
      "<keras.layers.convolutional.conv2d.Conv2D object at 0x000001F76EE63A50>\n",
      "<keras.layers.normalization.batch_normalization.BatchNormalization object at 0x000001F76DE6AB50>\n",
      "<keras.layers.core.activation.Activation object at 0x000001F76DE68F90>\n",
      "<keras.layers.convolutional.conv2d.Conv2D object at 0x000001F76DDA9690>\n",
      "<keras.layers.normalization.batch_normalization.BatchNormalization object at 0x000001F76DDF7F10>\n",
      "<keras.layers.merging.add.Add object at 0x000001F76DD1E390>\n",
      "<keras.layers.core.activation.Activation object at 0x000001F76DE1C210>\n"
     ]
    }
   ],
   "source": [
    "for layer in resnet.layers:\n",
    "    print(layer)\n",
    "    layer.trainable=False"
   ]
  },
  {
   "cell_type": "code",
   "execution_count": 9,
   "metadata": {
    "ExecuteTime": {
     "end_time": "2023-06-07T06:28:08.814450200Z",
     "start_time": "2023-06-07T06:28:08.731886700Z"
    }
   },
   "outputs": [],
   "source": [
    "from tensorflow.keras.layers import Dense,Flatten"
   ]
  },
  {
   "cell_type": "code",
   "execution_count": 10,
   "metadata": {
    "ExecuteTime": {
     "end_time": "2023-06-07T06:28:08.826007400Z",
     "start_time": "2023-06-07T06:28:08.761011300Z"
    }
   },
   "outputs": [],
   "source": [
    "ResX=Flatten()(resnet.output)"
   ]
  },
  {
   "cell_type": "code",
   "execution_count": 11,
   "metadata": {
    "ExecuteTime": {
     "end_time": "2023-06-07T06:28:08.873351900Z",
     "start_time": "2023-06-07T06:28:08.814450200Z"
    }
   },
   "outputs": [],
   "source": [
    "ResPrediction=Dense(16,activation='softmax')(ResX)"
   ]
  },
  {
   "cell_type": "code",
   "execution_count": 12,
   "metadata": {
    "ExecuteTime": {
     "end_time": "2023-06-07T06:28:08.874372500Z",
     "start_time": "2023-06-07T06:28:08.863923800Z"
    }
   },
   "outputs": [],
   "source": [
    "from keras.models import Model"
   ]
  },
  {
   "cell_type": "code",
   "execution_count": 13,
   "metadata": {
    "ExecuteTime": {
     "end_time": "2023-06-07T06:28:09.620372800Z",
     "start_time": "2023-06-07T06:28:08.871821300Z"
    }
   },
   "outputs": [
    {
     "name": "stdout",
     "output_type": "stream",
     "text": [
      "Model: \"model\"\n",
      "__________________________________________________________________________________________________\n",
      " Layer (type)                   Output Shape         Param #     Connected to                     \n",
      "==================================================================================================\n",
      " input_1 (InputLayer)           [(None, 224, 224, 3  0           []                               \n",
      "                                )]                                                                \n",
      "                                                                                                  \n",
      " conv1_pad (ZeroPadding2D)      (None, 230, 230, 3)  0           ['input_1[0][0]']                \n",
      "                                                                                                  \n",
      " conv1_conv (Conv2D)            (None, 112, 112, 64  9472        ['conv1_pad[0][0]']              \n",
      "                                )                                                                 \n",
      "                                                                                                  \n",
      " conv1_bn (BatchNormalization)  (None, 112, 112, 64  256         ['conv1_conv[0][0]']             \n",
      "                                )                                                                 \n",
      "                                                                                                  \n",
      " conv1_relu (Activation)        (None, 112, 112, 64  0           ['conv1_bn[0][0]']               \n",
      "                                )                                                                 \n",
      "                                                                                                  \n",
      " pool1_pad (ZeroPadding2D)      (None, 114, 114, 64  0           ['conv1_relu[0][0]']             \n",
      "                                )                                                                 \n",
      "                                                                                                  \n",
      " pool1_pool (MaxPooling2D)      (None, 56, 56, 64)   0           ['pool1_pad[0][0]']              \n",
      "                                                                                                  \n",
      " conv2_block1_1_conv (Conv2D)   (None, 56, 56, 64)   4160        ['pool1_pool[0][0]']             \n",
      "                                                                                                  \n",
      " conv2_block1_1_bn (BatchNormal  (None, 56, 56, 64)  256         ['conv2_block1_1_conv[0][0]']    \n",
      " ization)                                                                                         \n",
      "                                                                                                  \n",
      " conv2_block1_1_relu (Activatio  (None, 56, 56, 64)  0           ['conv2_block1_1_bn[0][0]']      \n",
      " n)                                                                                               \n",
      "                                                                                                  \n",
      " conv2_block1_2_conv (Conv2D)   (None, 56, 56, 64)   36928       ['conv2_block1_1_relu[0][0]']    \n",
      "                                                                                                  \n",
      " conv2_block1_2_bn (BatchNormal  (None, 56, 56, 64)  256         ['conv2_block1_2_conv[0][0]']    \n",
      " ization)                                                                                         \n",
      "                                                                                                  \n",
      " conv2_block1_2_relu (Activatio  (None, 56, 56, 64)  0           ['conv2_block1_2_bn[0][0]']      \n",
      " n)                                                                                               \n",
      "                                                                                                  \n",
      " conv2_block1_0_conv (Conv2D)   (None, 56, 56, 256)  16640       ['pool1_pool[0][0]']             \n",
      "                                                                                                  \n",
      " conv2_block1_3_conv (Conv2D)   (None, 56, 56, 256)  16640       ['conv2_block1_2_relu[0][0]']    \n",
      "                                                                                                  \n",
      " conv2_block1_0_bn (BatchNormal  (None, 56, 56, 256)  1024       ['conv2_block1_0_conv[0][0]']    \n",
      " ization)                                                                                         \n",
      "                                                                                                  \n",
      " conv2_block1_3_bn (BatchNormal  (None, 56, 56, 256)  1024       ['conv2_block1_3_conv[0][0]']    \n",
      " ization)                                                                                         \n",
      "                                                                                                  \n",
      " conv2_block1_add (Add)         (None, 56, 56, 256)  0           ['conv2_block1_0_bn[0][0]',      \n",
      "                                                                  'conv2_block1_3_bn[0][0]']      \n",
      "                                                                                                  \n",
      " conv2_block1_out (Activation)  (None, 56, 56, 256)  0           ['conv2_block1_add[0][0]']       \n",
      "                                                                                                  \n",
      " conv2_block2_1_conv (Conv2D)   (None, 56, 56, 64)   16448       ['conv2_block1_out[0][0]']       \n",
      "                                                                                                  \n",
      " conv2_block2_1_bn (BatchNormal  (None, 56, 56, 64)  256         ['conv2_block2_1_conv[0][0]']    \n",
      " ization)                                                                                         \n",
      "                                                                                                  \n",
      " conv2_block2_1_relu (Activatio  (None, 56, 56, 64)  0           ['conv2_block2_1_bn[0][0]']      \n",
      " n)                                                                                               \n",
      "                                                                                                  \n",
      " conv2_block2_2_conv (Conv2D)   (None, 56, 56, 64)   36928       ['conv2_block2_1_relu[0][0]']    \n",
      "                                                                                                  \n",
      " conv2_block2_2_bn (BatchNormal  (None, 56, 56, 64)  256         ['conv2_block2_2_conv[0][0]']    \n",
      " ization)                                                                                         \n",
      "                                                                                                  \n",
      " conv2_block2_2_relu (Activatio  (None, 56, 56, 64)  0           ['conv2_block2_2_bn[0][0]']      \n",
      " n)                                                                                               \n",
      "                                                                                                  \n",
      " conv2_block2_3_conv (Conv2D)   (None, 56, 56, 256)  16640       ['conv2_block2_2_relu[0][0]']    \n",
      "                                                                                                  \n",
      " conv2_block2_3_bn (BatchNormal  (None, 56, 56, 256)  1024       ['conv2_block2_3_conv[0][0]']    \n",
      " ization)                                                                                         \n",
      "                                                                                                  \n",
      " conv2_block2_add (Add)         (None, 56, 56, 256)  0           ['conv2_block1_out[0][0]',       \n",
      "                                                                  'conv2_block2_3_bn[0][0]']      \n",
      "                                                                                                  \n",
      " conv2_block2_out (Activation)  (None, 56, 56, 256)  0           ['conv2_block2_add[0][0]']       \n",
      "                                                                                                  \n",
      " conv2_block3_1_conv (Conv2D)   (None, 56, 56, 64)   16448       ['conv2_block2_out[0][0]']       \n",
      "                                                                                                  \n",
      " conv2_block3_1_bn (BatchNormal  (None, 56, 56, 64)  256         ['conv2_block3_1_conv[0][0]']    \n",
      " ization)                                                                                         \n",
      "                                                                                                  \n",
      " conv2_block3_1_relu (Activatio  (None, 56, 56, 64)  0           ['conv2_block3_1_bn[0][0]']      \n",
      " n)                                                                                               \n",
      "                                                                                                  \n",
      " conv2_block3_2_conv (Conv2D)   (None, 56, 56, 64)   36928       ['conv2_block3_1_relu[0][0]']    \n",
      "                                                                                                  \n",
      " conv2_block3_2_bn (BatchNormal  (None, 56, 56, 64)  256         ['conv2_block3_2_conv[0][0]']    \n",
      " ization)                                                                                         \n",
      "                                                                                                  \n",
      " conv2_block3_2_relu (Activatio  (None, 56, 56, 64)  0           ['conv2_block3_2_bn[0][0]']      \n",
      " n)                                                                                               \n",
      "                                                                                                  \n",
      " conv2_block3_3_conv (Conv2D)   (None, 56, 56, 256)  16640       ['conv2_block3_2_relu[0][0]']    \n",
      "                                                                                                  \n",
      " conv2_block3_3_bn (BatchNormal  (None, 56, 56, 256)  1024       ['conv2_block3_3_conv[0][0]']    \n",
      " ization)                                                                                         \n",
      "                                                                                                  \n",
      " conv2_block3_add (Add)         (None, 56, 56, 256)  0           ['conv2_block2_out[0][0]',       \n",
      "                                                                  'conv2_block3_3_bn[0][0]']      \n",
      "                                                                                                  \n",
      " conv2_block3_out (Activation)  (None, 56, 56, 256)  0           ['conv2_block3_add[0][0]']       \n",
      "                                                                                                  \n",
      " conv3_block1_1_conv (Conv2D)   (None, 28, 28, 128)  32896       ['conv2_block3_out[0][0]']       \n",
      "                                                                                                  \n",
      " conv3_block1_1_bn (BatchNormal  (None, 28, 28, 128)  512        ['conv3_block1_1_conv[0][0]']    \n",
      " ization)                                                                                         \n",
      "                                                                                                  \n",
      " conv3_block1_1_relu (Activatio  (None, 28, 28, 128)  0          ['conv3_block1_1_bn[0][0]']      \n",
      " n)                                                                                               \n",
      "                                                                                                  \n",
      " conv3_block1_2_conv (Conv2D)   (None, 28, 28, 128)  147584      ['conv3_block1_1_relu[0][0]']    \n",
      "                                                                                                  \n",
      " conv3_block1_2_bn (BatchNormal  (None, 28, 28, 128)  512        ['conv3_block1_2_conv[0][0]']    \n",
      " ization)                                                                                         \n",
      "                                                                                                  \n",
      " conv3_block1_2_relu (Activatio  (None, 28, 28, 128)  0          ['conv3_block1_2_bn[0][0]']      \n",
      " n)                                                                                               \n",
      "                                                                                                  \n",
      " conv3_block1_0_conv (Conv2D)   (None, 28, 28, 512)  131584      ['conv2_block3_out[0][0]']       \n",
      "                                                                                                  \n",
      " conv3_block1_3_conv (Conv2D)   (None, 28, 28, 512)  66048       ['conv3_block1_2_relu[0][0]']    \n",
      "                                                                                                  \n",
      " conv3_block1_0_bn (BatchNormal  (None, 28, 28, 512)  2048       ['conv3_block1_0_conv[0][0]']    \n",
      " ization)                                                                                         \n",
      "                                                                                                  \n",
      " conv3_block1_3_bn (BatchNormal  (None, 28, 28, 512)  2048       ['conv3_block1_3_conv[0][0]']    \n",
      " ization)                                                                                         \n",
      "                                                                                                  \n",
      " conv3_block1_add (Add)         (None, 28, 28, 512)  0           ['conv3_block1_0_bn[0][0]',      \n",
      "                                                                  'conv3_block1_3_bn[0][0]']      \n",
      "                                                                                                  \n",
      " conv3_block1_out (Activation)  (None, 28, 28, 512)  0           ['conv3_block1_add[0][0]']       \n",
      "                                                                                                  \n",
      " conv3_block2_1_conv (Conv2D)   (None, 28, 28, 128)  65664       ['conv3_block1_out[0][0]']       \n",
      "                                                                                                  \n",
      " conv3_block2_1_bn (BatchNormal  (None, 28, 28, 128)  512        ['conv3_block2_1_conv[0][0]']    \n",
      " ization)                                                                                         \n",
      "                                                                                                  \n",
      " conv3_block2_1_relu (Activatio  (None, 28, 28, 128)  0          ['conv3_block2_1_bn[0][0]']      \n",
      " n)                                                                                               \n",
      "                                                                                                  \n",
      " conv3_block2_2_conv (Conv2D)   (None, 28, 28, 128)  147584      ['conv3_block2_1_relu[0][0]']    \n",
      "                                                                                                  \n",
      " conv3_block2_2_bn (BatchNormal  (None, 28, 28, 128)  512        ['conv3_block2_2_conv[0][0]']    \n",
      " ization)                                                                                         \n",
      "                                                                                                  \n",
      " conv3_block2_2_relu (Activatio  (None, 28, 28, 128)  0          ['conv3_block2_2_bn[0][0]']      \n",
      " n)                                                                                               \n",
      "                                                                                                  \n",
      " conv3_block2_3_conv (Conv2D)   (None, 28, 28, 512)  66048       ['conv3_block2_2_relu[0][0]']    \n",
      "                                                                                                  \n",
      " conv3_block2_3_bn (BatchNormal  (None, 28, 28, 512)  2048       ['conv3_block2_3_conv[0][0]']    \n",
      " ization)                                                                                         \n",
      "                                                                                                  \n",
      " conv3_block2_add (Add)         (None, 28, 28, 512)  0           ['conv3_block1_out[0][0]',       \n",
      "                                                                  'conv3_block2_3_bn[0][0]']      \n",
      "                                                                                                  \n",
      " conv3_block2_out (Activation)  (None, 28, 28, 512)  0           ['conv3_block2_add[0][0]']       \n",
      "                                                                                                  \n",
      " conv3_block3_1_conv (Conv2D)   (None, 28, 28, 128)  65664       ['conv3_block2_out[0][0]']       \n",
      "                                                                                                  \n",
      " conv3_block3_1_bn (BatchNormal  (None, 28, 28, 128)  512        ['conv3_block3_1_conv[0][0]']    \n",
      " ization)                                                                                         \n",
      "                                                                                                  \n",
      " conv3_block3_1_relu (Activatio  (None, 28, 28, 128)  0          ['conv3_block3_1_bn[0][0]']      \n",
      " n)                                                                                               \n",
      "                                                                                                  \n",
      " conv3_block3_2_conv (Conv2D)   (None, 28, 28, 128)  147584      ['conv3_block3_1_relu[0][0]']    \n",
      "                                                                                                  \n",
      " conv3_block3_2_bn (BatchNormal  (None, 28, 28, 128)  512        ['conv3_block3_2_conv[0][0]']    \n",
      " ization)                                                                                         \n",
      "                                                                                                  \n",
      " conv3_block3_2_relu (Activatio  (None, 28, 28, 128)  0          ['conv3_block3_2_bn[0][0]']      \n",
      " n)                                                                                               \n",
      "                                                                                                  \n",
      " conv3_block3_3_conv (Conv2D)   (None, 28, 28, 512)  66048       ['conv3_block3_2_relu[0][0]']    \n",
      "                                                                                                  \n",
      " conv3_block3_3_bn (BatchNormal  (None, 28, 28, 512)  2048       ['conv3_block3_3_conv[0][0]']    \n",
      " ization)                                                                                         \n",
      "                                                                                                  \n",
      " conv3_block3_add (Add)         (None, 28, 28, 512)  0           ['conv3_block2_out[0][0]',       \n",
      "                                                                  'conv3_block3_3_bn[0][0]']      \n",
      "                                                                                                  \n",
      " conv3_block3_out (Activation)  (None, 28, 28, 512)  0           ['conv3_block3_add[0][0]']       \n",
      "                                                                                                  \n",
      " conv3_block4_1_conv (Conv2D)   (None, 28, 28, 128)  65664       ['conv3_block3_out[0][0]']       \n",
      "                                                                                                  \n",
      " conv3_block4_1_bn (BatchNormal  (None, 28, 28, 128)  512        ['conv3_block4_1_conv[0][0]']    \n",
      " ization)                                                                                         \n",
      "                                                                                                  \n",
      " conv3_block4_1_relu (Activatio  (None, 28, 28, 128)  0          ['conv3_block4_1_bn[0][0]']      \n",
      " n)                                                                                               \n",
      "                                                                                                  \n",
      " conv3_block4_2_conv (Conv2D)   (None, 28, 28, 128)  147584      ['conv3_block4_1_relu[0][0]']    \n",
      "                                                                                                  \n",
      " conv3_block4_2_bn (BatchNormal  (None, 28, 28, 128)  512        ['conv3_block4_2_conv[0][0]']    \n",
      " ization)                                                                                         \n",
      "                                                                                                  \n",
      " conv3_block4_2_relu (Activatio  (None, 28, 28, 128)  0          ['conv3_block4_2_bn[0][0]']      \n",
      " n)                                                                                               \n",
      "                                                                                                  \n",
      " conv3_block4_3_conv (Conv2D)   (None, 28, 28, 512)  66048       ['conv3_block4_2_relu[0][0]']    \n",
      "                                                                                                  \n",
      " conv3_block4_3_bn (BatchNormal  (None, 28, 28, 512)  2048       ['conv3_block4_3_conv[0][0]']    \n",
      " ization)                                                                                         \n",
      "                                                                                                  \n",
      " conv3_block4_add (Add)         (None, 28, 28, 512)  0           ['conv3_block3_out[0][0]',       \n",
      "                                                                  'conv3_block4_3_bn[0][0]']      \n",
      "                                                                                                  \n",
      " conv3_block4_out (Activation)  (None, 28, 28, 512)  0           ['conv3_block4_add[0][0]']       \n",
      "                                                                                                  \n",
      " conv4_block1_1_conv (Conv2D)   (None, 14, 14, 256)  131328      ['conv3_block4_out[0][0]']       \n",
      "                                                                                                  \n",
      " conv4_block1_1_bn (BatchNormal  (None, 14, 14, 256)  1024       ['conv4_block1_1_conv[0][0]']    \n",
      " ization)                                                                                         \n",
      "                                                                                                  \n",
      " conv4_block1_1_relu (Activatio  (None, 14, 14, 256)  0          ['conv4_block1_1_bn[0][0]']      \n",
      " n)                                                                                               \n",
      "                                                                                                  \n",
      " conv4_block1_2_conv (Conv2D)   (None, 14, 14, 256)  590080      ['conv4_block1_1_relu[0][0]']    \n",
      "                                                                                                  \n",
      " conv4_block1_2_bn (BatchNormal  (None, 14, 14, 256)  1024       ['conv4_block1_2_conv[0][0]']    \n",
      " ization)                                                                                         \n",
      "                                                                                                  \n",
      " conv4_block1_2_relu (Activatio  (None, 14, 14, 256)  0          ['conv4_block1_2_bn[0][0]']      \n",
      " n)                                                                                               \n",
      "                                                                                                  \n",
      " conv4_block1_0_conv (Conv2D)   (None, 14, 14, 1024  525312      ['conv3_block4_out[0][0]']       \n",
      "                                )                                                                 \n",
      "                                                                                                  \n",
      " conv4_block1_3_conv (Conv2D)   (None, 14, 14, 1024  263168      ['conv4_block1_2_relu[0][0]']    \n",
      "                                )                                                                 \n",
      "                                                                                                  \n",
      " conv4_block1_0_bn (BatchNormal  (None, 14, 14, 1024  4096       ['conv4_block1_0_conv[0][0]']    \n",
      " ization)                       )                                                                 \n",
      "                                                                                                  \n",
      " conv4_block1_3_bn (BatchNormal  (None, 14, 14, 1024  4096       ['conv4_block1_3_conv[0][0]']    \n",
      " ization)                       )                                                                 \n",
      "                                                                                                  \n",
      " conv4_block1_add (Add)         (None, 14, 14, 1024  0           ['conv4_block1_0_bn[0][0]',      \n",
      "                                )                                 'conv4_block1_3_bn[0][0]']      \n",
      "                                                                                                  \n",
      " conv4_block1_out (Activation)  (None, 14, 14, 1024  0           ['conv4_block1_add[0][0]']       \n",
      "                                )                                                                 \n",
      "                                                                                                  \n",
      " conv4_block2_1_conv (Conv2D)   (None, 14, 14, 256)  262400      ['conv4_block1_out[0][0]']       \n",
      "                                                                                                  \n",
      " conv4_block2_1_bn (BatchNormal  (None, 14, 14, 256)  1024       ['conv4_block2_1_conv[0][0]']    \n",
      " ization)                                                                                         \n",
      "                                                                                                  \n",
      " conv4_block2_1_relu (Activatio  (None, 14, 14, 256)  0          ['conv4_block2_1_bn[0][0]']      \n",
      " n)                                                                                               \n",
      "                                                                                                  \n",
      " conv4_block2_2_conv (Conv2D)   (None, 14, 14, 256)  590080      ['conv4_block2_1_relu[0][0]']    \n",
      "                                                                                                  \n",
      " conv4_block2_2_bn (BatchNormal  (None, 14, 14, 256)  1024       ['conv4_block2_2_conv[0][0]']    \n",
      " ization)                                                                                         \n",
      "                                                                                                  \n",
      " conv4_block2_2_relu (Activatio  (None, 14, 14, 256)  0          ['conv4_block2_2_bn[0][0]']      \n",
      " n)                                                                                               \n",
      "                                                                                                  \n",
      " conv4_block2_3_conv (Conv2D)   (None, 14, 14, 1024  263168      ['conv4_block2_2_relu[0][0]']    \n",
      "                                )                                                                 \n",
      "                                                                                                  \n",
      " conv4_block2_3_bn (BatchNormal  (None, 14, 14, 1024  4096       ['conv4_block2_3_conv[0][0]']    \n",
      " ization)                       )                                                                 \n",
      "                                                                                                  \n",
      " conv4_block2_add (Add)         (None, 14, 14, 1024  0           ['conv4_block1_out[0][0]',       \n",
      "                                )                                 'conv4_block2_3_bn[0][0]']      \n",
      "                                                                                                  \n",
      " conv4_block2_out (Activation)  (None, 14, 14, 1024  0           ['conv4_block2_add[0][0]']       \n",
      "                                )                                                                 \n",
      "                                                                                                  \n",
      " conv4_block3_1_conv (Conv2D)   (None, 14, 14, 256)  262400      ['conv4_block2_out[0][0]']       \n",
      "                                                                                                  \n",
      " conv4_block3_1_bn (BatchNormal  (None, 14, 14, 256)  1024       ['conv4_block3_1_conv[0][0]']    \n",
      " ization)                                                                                         \n",
      "                                                                                                  \n",
      " conv4_block3_1_relu (Activatio  (None, 14, 14, 256)  0          ['conv4_block3_1_bn[0][0]']      \n",
      " n)                                                                                               \n",
      "                                                                                                  \n",
      " conv4_block3_2_conv (Conv2D)   (None, 14, 14, 256)  590080      ['conv4_block3_1_relu[0][0]']    \n",
      "                                                                                                  \n",
      " conv4_block3_2_bn (BatchNormal  (None, 14, 14, 256)  1024       ['conv4_block3_2_conv[0][0]']    \n",
      " ization)                                                                                         \n",
      "                                                                                                  \n",
      " conv4_block3_2_relu (Activatio  (None, 14, 14, 256)  0          ['conv4_block3_2_bn[0][0]']      \n",
      " n)                                                                                               \n",
      "                                                                                                  \n",
      " conv4_block3_3_conv (Conv2D)   (None, 14, 14, 1024  263168      ['conv4_block3_2_relu[0][0]']    \n",
      "                                )                                                                 \n",
      "                                                                                                  \n",
      " conv4_block3_3_bn (BatchNormal  (None, 14, 14, 1024  4096       ['conv4_block3_3_conv[0][0]']    \n",
      " ization)                       )                                                                 \n",
      "                                                                                                  \n",
      " conv4_block3_add (Add)         (None, 14, 14, 1024  0           ['conv4_block2_out[0][0]',       \n",
      "                                )                                 'conv4_block3_3_bn[0][0]']      \n",
      "                                                                                                  \n",
      " conv4_block3_out (Activation)  (None, 14, 14, 1024  0           ['conv4_block3_add[0][0]']       \n",
      "                                )                                                                 \n",
      "                                                                                                  \n",
      " conv4_block4_1_conv (Conv2D)   (None, 14, 14, 256)  262400      ['conv4_block3_out[0][0]']       \n",
      "                                                                                                  \n",
      " conv4_block4_1_bn (BatchNormal  (None, 14, 14, 256)  1024       ['conv4_block4_1_conv[0][0]']    \n",
      " ization)                                                                                         \n",
      "                                                                                                  \n",
      " conv4_block4_1_relu (Activatio  (None, 14, 14, 256)  0          ['conv4_block4_1_bn[0][0]']      \n",
      " n)                                                                                               \n",
      "                                                                                                  \n",
      " conv4_block4_2_conv (Conv2D)   (None, 14, 14, 256)  590080      ['conv4_block4_1_relu[0][0]']    \n",
      "                                                                                                  \n",
      " conv4_block4_2_bn (BatchNormal  (None, 14, 14, 256)  1024       ['conv4_block4_2_conv[0][0]']    \n",
      " ization)                                                                                         \n",
      "                                                                                                  \n",
      " conv4_block4_2_relu (Activatio  (None, 14, 14, 256)  0          ['conv4_block4_2_bn[0][0]']      \n",
      " n)                                                                                               \n",
      "                                                                                                  \n",
      " conv4_block4_3_conv (Conv2D)   (None, 14, 14, 1024  263168      ['conv4_block4_2_relu[0][0]']    \n",
      "                                )                                                                 \n",
      "                                                                                                  \n",
      " conv4_block4_3_bn (BatchNormal  (None, 14, 14, 1024  4096       ['conv4_block4_3_conv[0][0]']    \n",
      " ization)                       )                                                                 \n",
      "                                                                                                  \n",
      " conv4_block4_add (Add)         (None, 14, 14, 1024  0           ['conv4_block3_out[0][0]',       \n",
      "                                )                                 'conv4_block4_3_bn[0][0]']      \n",
      "                                                                                                  \n",
      " conv4_block4_out (Activation)  (None, 14, 14, 1024  0           ['conv4_block4_add[0][0]']       \n",
      "                                )                                                                 \n",
      "                                                                                                  \n",
      " conv4_block5_1_conv (Conv2D)   (None, 14, 14, 256)  262400      ['conv4_block4_out[0][0]']       \n",
      "                                                                                                  \n",
      " conv4_block5_1_bn (BatchNormal  (None, 14, 14, 256)  1024       ['conv4_block5_1_conv[0][0]']    \n",
      " ization)                                                                                         \n",
      "                                                                                                  \n",
      " conv4_block5_1_relu (Activatio  (None, 14, 14, 256)  0          ['conv4_block5_1_bn[0][0]']      \n",
      " n)                                                                                               \n",
      "                                                                                                  \n",
      " conv4_block5_2_conv (Conv2D)   (None, 14, 14, 256)  590080      ['conv4_block5_1_relu[0][0]']    \n",
      "                                                                                                  \n",
      " conv4_block5_2_bn (BatchNormal  (None, 14, 14, 256)  1024       ['conv4_block5_2_conv[0][0]']    \n",
      " ization)                                                                                         \n",
      "                                                                                                  \n",
      " conv4_block5_2_relu (Activatio  (None, 14, 14, 256)  0          ['conv4_block5_2_bn[0][0]']      \n",
      " n)                                                                                               \n",
      "                                                                                                  \n",
      " conv4_block5_3_conv (Conv2D)   (None, 14, 14, 1024  263168      ['conv4_block5_2_relu[0][0]']    \n",
      "                                )                                                                 \n",
      "                                                                                                  \n",
      " conv4_block5_3_bn (BatchNormal  (None, 14, 14, 1024  4096       ['conv4_block5_3_conv[0][0]']    \n",
      " ization)                       )                                                                 \n",
      "                                                                                                  \n",
      " conv4_block5_add (Add)         (None, 14, 14, 1024  0           ['conv4_block4_out[0][0]',       \n",
      "                                )                                 'conv4_block5_3_bn[0][0]']      \n",
      "                                                                                                  \n",
      " conv4_block5_out (Activation)  (None, 14, 14, 1024  0           ['conv4_block5_add[0][0]']       \n",
      "                                )                                                                 \n",
      "                                                                                                  \n",
      " conv4_block6_1_conv (Conv2D)   (None, 14, 14, 256)  262400      ['conv4_block5_out[0][0]']       \n",
      "                                                                                                  \n",
      " conv4_block6_1_bn (BatchNormal  (None, 14, 14, 256)  1024       ['conv4_block6_1_conv[0][0]']    \n",
      " ization)                                                                                         \n",
      "                                                                                                  \n",
      " conv4_block6_1_relu (Activatio  (None, 14, 14, 256)  0          ['conv4_block6_1_bn[0][0]']      \n",
      " n)                                                                                               \n",
      "                                                                                                  \n",
      " conv4_block6_2_conv (Conv2D)   (None, 14, 14, 256)  590080      ['conv4_block6_1_relu[0][0]']    \n",
      "                                                                                                  \n",
      " conv4_block6_2_bn (BatchNormal  (None, 14, 14, 256)  1024       ['conv4_block6_2_conv[0][0]']    \n",
      " ization)                                                                                         \n",
      "                                                                                                  \n",
      " conv4_block6_2_relu (Activatio  (None, 14, 14, 256)  0          ['conv4_block6_2_bn[0][0]']      \n",
      " n)                                                                                               \n",
      "                                                                                                  \n",
      " conv4_block6_3_conv (Conv2D)   (None, 14, 14, 1024  263168      ['conv4_block6_2_relu[0][0]']    \n",
      "                                )                                                                 \n",
      "                                                                                                  \n",
      " conv4_block6_3_bn (BatchNormal  (None, 14, 14, 1024  4096       ['conv4_block6_3_conv[0][0]']    \n",
      " ization)                       )                                                                 \n",
      "                                                                                                  \n",
      " conv4_block6_add (Add)         (None, 14, 14, 1024  0           ['conv4_block5_out[0][0]',       \n",
      "                                )                                 'conv4_block6_3_bn[0][0]']      \n",
      "                                                                                                  \n",
      " conv4_block6_out (Activation)  (None, 14, 14, 1024  0           ['conv4_block6_add[0][0]']       \n",
      "                                )                                                                 \n",
      "                                                                                                  \n",
      " conv5_block1_1_conv (Conv2D)   (None, 7, 7, 512)    524800      ['conv4_block6_out[0][0]']       \n",
      "                                                                                                  \n",
      " conv5_block1_1_bn (BatchNormal  (None, 7, 7, 512)   2048        ['conv5_block1_1_conv[0][0]']    \n",
      " ization)                                                                                         \n",
      "                                                                                                  \n",
      " conv5_block1_1_relu (Activatio  (None, 7, 7, 512)   0           ['conv5_block1_1_bn[0][0]']      \n",
      " n)                                                                                               \n",
      "                                                                                                  \n",
      " conv5_block1_2_conv (Conv2D)   (None, 7, 7, 512)    2359808     ['conv5_block1_1_relu[0][0]']    \n",
      "                                                                                                  \n",
      " conv5_block1_2_bn (BatchNormal  (None, 7, 7, 512)   2048        ['conv5_block1_2_conv[0][0]']    \n",
      " ization)                                                                                         \n",
      "                                                                                                  \n",
      " conv5_block1_2_relu (Activatio  (None, 7, 7, 512)   0           ['conv5_block1_2_bn[0][0]']      \n",
      " n)                                                                                               \n",
      "                                                                                                  \n",
      " conv5_block1_0_conv (Conv2D)   (None, 7, 7, 2048)   2099200     ['conv4_block6_out[0][0]']       \n",
      "                                                                                                  \n",
      " conv5_block1_3_conv (Conv2D)   (None, 7, 7, 2048)   1050624     ['conv5_block1_2_relu[0][0]']    \n",
      "                                                                                                  \n",
      " conv5_block1_0_bn (BatchNormal  (None, 7, 7, 2048)  8192        ['conv5_block1_0_conv[0][0]']    \n",
      " ization)                                                                                         \n",
      "                                                                                                  \n",
      " conv5_block1_3_bn (BatchNormal  (None, 7, 7, 2048)  8192        ['conv5_block1_3_conv[0][0]']    \n",
      " ization)                                                                                         \n",
      "                                                                                                  \n",
      " conv5_block1_add (Add)         (None, 7, 7, 2048)   0           ['conv5_block1_0_bn[0][0]',      \n",
      "                                                                  'conv5_block1_3_bn[0][0]']      \n",
      "                                                                                                  \n",
      " conv5_block1_out (Activation)  (None, 7, 7, 2048)   0           ['conv5_block1_add[0][0]']       \n",
      "                                                                                                  \n",
      " conv5_block2_1_conv (Conv2D)   (None, 7, 7, 512)    1049088     ['conv5_block1_out[0][0]']       \n",
      "                                                                                                  \n",
      " conv5_block2_1_bn (BatchNormal  (None, 7, 7, 512)   2048        ['conv5_block2_1_conv[0][0]']    \n",
      " ization)                                                                                         \n",
      "                                                                                                  \n",
      " conv5_block2_1_relu (Activatio  (None, 7, 7, 512)   0           ['conv5_block2_1_bn[0][0]']      \n",
      " n)                                                                                               \n",
      "                                                                                                  \n",
      " conv5_block2_2_conv (Conv2D)   (None, 7, 7, 512)    2359808     ['conv5_block2_1_relu[0][0]']    \n",
      "                                                                                                  \n",
      " conv5_block2_2_bn (BatchNormal  (None, 7, 7, 512)   2048        ['conv5_block2_2_conv[0][0]']    \n",
      " ization)                                                                                         \n",
      "                                                                                                  \n",
      " conv5_block2_2_relu (Activatio  (None, 7, 7, 512)   0           ['conv5_block2_2_bn[0][0]']      \n",
      " n)                                                                                               \n",
      "                                                                                                  \n",
      " conv5_block2_3_conv (Conv2D)   (None, 7, 7, 2048)   1050624     ['conv5_block2_2_relu[0][0]']    \n",
      "                                                                                                  \n",
      " conv5_block2_3_bn (BatchNormal  (None, 7, 7, 2048)  8192        ['conv5_block2_3_conv[0][0]']    \n",
      " ization)                                                                                         \n",
      "                                                                                                  \n",
      " conv5_block2_add (Add)         (None, 7, 7, 2048)   0           ['conv5_block1_out[0][0]',       \n",
      "                                                                  'conv5_block2_3_bn[0][0]']      \n",
      "                                                                                                  \n",
      " conv5_block2_out (Activation)  (None, 7, 7, 2048)   0           ['conv5_block2_add[0][0]']       \n",
      "                                                                                                  \n",
      " conv5_block3_1_conv (Conv2D)   (None, 7, 7, 512)    1049088     ['conv5_block2_out[0][0]']       \n",
      "                                                                                                  \n",
      " conv5_block3_1_bn (BatchNormal  (None, 7, 7, 512)   2048        ['conv5_block3_1_conv[0][0]']    \n",
      " ization)                                                                                         \n",
      "                                                                                                  \n",
      " conv5_block3_1_relu (Activatio  (None, 7, 7, 512)   0           ['conv5_block3_1_bn[0][0]']      \n",
      " n)                                                                                               \n",
      "                                                                                                  \n",
      " conv5_block3_2_conv (Conv2D)   (None, 7, 7, 512)    2359808     ['conv5_block3_1_relu[0][0]']    \n",
      "                                                                                                  \n",
      " conv5_block3_2_bn (BatchNormal  (None, 7, 7, 512)   2048        ['conv5_block3_2_conv[0][0]']    \n",
      " ization)                                                                                         \n",
      "                                                                                                  \n",
      " conv5_block3_2_relu (Activatio  (None, 7, 7, 512)   0           ['conv5_block3_2_bn[0][0]']      \n",
      " n)                                                                                               \n",
      "                                                                                                  \n",
      " conv5_block3_3_conv (Conv2D)   (None, 7, 7, 2048)   1050624     ['conv5_block3_2_relu[0][0]']    \n",
      "                                                                                                  \n",
      " conv5_block3_3_bn (BatchNormal  (None, 7, 7, 2048)  8192        ['conv5_block3_3_conv[0][0]']    \n",
      " ization)                                                                                         \n",
      "                                                                                                  \n",
      " conv5_block3_add (Add)         (None, 7, 7, 2048)   0           ['conv5_block2_out[0][0]',       \n",
      "                                                                  'conv5_block3_3_bn[0][0]']      \n",
      "                                                                                                  \n",
      " conv5_block3_out (Activation)  (None, 7, 7, 2048)   0           ['conv5_block3_add[0][0]']       \n",
      "                                                                                                  \n",
      " flatten (Flatten)              (None, 100352)       0           ['conv5_block3_out[0][0]']       \n",
      "                                                                                                  \n",
      " dense (Dense)                  (None, 16)           1605648     ['flatten[0][0]']                \n",
      "                                                                                                  \n",
      "==================================================================================================\n",
      "Total params: 25,193,360\n",
      "Trainable params: 1,605,648\n",
      "Non-trainable params: 23,587,712\n",
      "__________________________________________________________________________________________________\n"
     ]
    }
   ],
   "source": [
    "ResModel=Model(inputs=resnet.input,outputs=ResPrediction)\n",
    "ResModel.summary()"
   ]
  },
  {
   "cell_type": "code",
   "execution_count": 14,
   "metadata": {},
   "outputs": [],
   "source": [
    "ResModel.compile(optimizer='adam',loss='categorical_crossentropy',metrics=['accuracy'])"
   ]
  },
  {
   "cell_type": "code",
   "execution_count": 15,
   "metadata": {
    "ExecuteTime": {
     "end_time": "2023-06-07T06:50:45.852821100Z",
     "start_time": "2023-06-07T06:28:09.933784400Z"
    }
   },
   "outputs": [
    {
     "name": "stdout",
     "output_type": "stream",
     "text": [
      "Epoch 1/20\n",
      "19/19 [==============================] - 72s 4s/step - loss: 19.2610 - accuracy: 0.1067 - val_loss: 14.0499 - val_accuracy: 0.1465\n",
      "Epoch 2/20\n",
      "19/19 [==============================] - 71s 4s/step - loss: 9.3750 - accuracy: 0.1133 - val_loss: 8.4514 - val_accuracy: 0.1720\n",
      "Epoch 3/20\n",
      "19/19 [==============================] - 75s 4s/step - loss: 5.3716 - accuracy: 0.2000 - val_loss: 7.5153 - val_accuracy: 0.1338\n",
      "Epoch 4/20\n",
      "19/19 [==============================] - 77s 4s/step - loss: 4.6248 - accuracy: 0.2067 - val_loss: 5.2535 - val_accuracy: 0.1720\n",
      "Epoch 5/20\n",
      "19/19 [==============================] - 70s 4s/step - loss: 4.1390 - accuracy: 0.2600 - val_loss: 5.5513 - val_accuracy: 0.2166\n",
      "Epoch 6/20\n",
      "19/19 [==============================] - 63s 3s/step - loss: 3.1749 - accuracy: 0.3867 - val_loss: 4.3656 - val_accuracy: 0.2675\n",
      "Epoch 7/20\n",
      "19/19 [==============================] - 66s 4s/step - loss: 3.3936 - accuracy: 0.3533 - val_loss: 4.1330 - val_accuracy: 0.1656\n",
      "Epoch 8/20\n",
      "19/19 [==============================] - 70s 4s/step - loss: 3.3094 - accuracy: 0.3533 - val_loss: 5.9770 - val_accuracy: 0.2038\n",
      "Epoch 9/20\n",
      "19/19 [==============================] - 62s 3s/step - loss: 4.5144 - accuracy: 0.2733 - val_loss: 6.8104 - val_accuracy: 0.1401\n",
      "Epoch 10/20\n",
      "19/19 [==============================] - 67s 4s/step - loss: 4.0791 - accuracy: 0.3867 - val_loss: 6.0373 - val_accuracy: 0.1847\n",
      "Epoch 11/20\n",
      "19/19 [==============================] - 64s 3s/step - loss: 3.5340 - accuracy: 0.3533 - val_loss: 5.8275 - val_accuracy: 0.2484\n",
      "Epoch 12/20\n",
      "19/19 [==============================] - 71s 4s/step - loss: 4.3088 - accuracy: 0.3600 - val_loss: 9.2615 - val_accuracy: 0.1338\n",
      "Epoch 13/20\n",
      "19/19 [==============================] - 69s 4s/step - loss: 5.6839 - accuracy: 0.2733 - val_loss: 7.9992 - val_accuracy: 0.1146\n",
      "Epoch 14/20\n",
      "19/19 [==============================] - 60s 3s/step - loss: 3.8673 - accuracy: 0.3933 - val_loss: 6.0394 - val_accuracy: 0.2038\n",
      "Epoch 15/20\n",
      "19/19 [==============================] - 68s 4s/step - loss: 2.9766 - accuracy: 0.4333 - val_loss: 5.7884 - val_accuracy: 0.1720\n",
      "Epoch 16/20\n",
      "19/19 [==============================] - 67s 4s/step - loss: 3.0031 - accuracy: 0.4200 - val_loss: 6.7377 - val_accuracy: 0.2675\n",
      "Epoch 17/20\n",
      "19/19 [==============================] - 68s 4s/step - loss: 3.4761 - accuracy: 0.4000 - val_loss: 6.9649 - val_accuracy: 0.1783\n",
      "Epoch 18/20\n",
      "19/19 [==============================] - 66s 4s/step - loss: 3.3358 - accuracy: 0.4067 - val_loss: 5.3552 - val_accuracy: 0.2293\n",
      "Epoch 19/20\n",
      "19/19 [==============================] - 68s 4s/step - loss: 2.0624 - accuracy: 0.4867 - val_loss: 6.3422 - val_accuracy: 0.1911\n",
      "Epoch 20/20\n",
      "19/19 [==============================] - 59s 3s/step - loss: 2.4757 - accuracy: 0.4867 - val_loss: 5.9426 - val_accuracy: 0.2038\n"
     ]
    },
    {
     "data": {
      "text/plain": "<keras.callbacks.History at 0x1f76eef6610>"
     },
     "execution_count": 15,
     "metadata": {},
     "output_type": "execute_result"
    }
   ],
   "source": [
    "ResModel.fit(Training,epochs=20,validation_data=Testing,steps_per_epoch=len(Training),validation_steps=len(Testing))"
   ]
  },
  {
   "cell_type": "code",
   "execution_count": 16,
   "metadata": {
    "ExecuteTime": {
     "end_time": "2023-06-07T06:50:46.419303600Z",
     "start_time": "2023-06-07T06:50:45.873687800Z"
    }
   },
   "outputs": [],
   "source": [
    "ResModel.save('Resnet-50Ass3.h5')"
   ]
  },
  {
   "cell_type": "code",
   "execution_count": 17,
   "metadata": {
    "ExecuteTime": {
     "end_time": "2023-06-07T06:50:47.085622900Z",
     "start_time": "2023-06-07T06:50:46.423302900Z"
    }
   },
   "outputs": [],
   "source": [
    "#VGG16\n",
    "from tensorflow.keras.applications.vgg16 import VGG16\n",
    "VGG=VGG16(include_top=False,input_shape=(224,224,3))"
   ]
  },
  {
   "cell_type": "code",
   "execution_count": 18,
   "metadata": {
    "ExecuteTime": {
     "end_time": "2023-06-07T06:50:47.096531200Z",
     "start_time": "2023-06-07T06:50:47.089619200Z"
    }
   },
   "outputs": [
    {
     "name": "stdout",
     "output_type": "stream",
     "text": [
      "<keras.engine.input_layer.InputLayer object at 0x000001F770299250>\n",
      "<keras.layers.convolutional.conv2d.Conv2D object at 0x000001F76F2416D0>\n",
      "<keras.layers.convolutional.conv2d.Conv2D object at 0x000001F76EEE7050>\n",
      "<keras.layers.pooling.max_pooling2d.MaxPooling2D object at 0x000001F76EF8EE90>\n",
      "<keras.layers.convolutional.conv2d.Conv2D object at 0x000001F76F256690>\n",
      "<keras.layers.convolutional.conv2d.Conv2D object at 0x000001F76DD12B10>\n",
      "<keras.layers.pooling.max_pooling2d.MaxPooling2D object at 0x000001F76EFD2750>\n",
      "<keras.layers.convolutional.conv2d.Conv2D object at 0x000001F7000C4110>\n",
      "<keras.layers.convolutional.conv2d.Conv2D object at 0x000001F7000D2690>\n",
      "<keras.layers.convolutional.conv2d.Conv2D object at 0x000001F76F1B8D10>\n",
      "<keras.layers.pooling.max_pooling2d.MaxPooling2D object at 0x000001F76DE74210>\n",
      "<keras.layers.convolutional.conv2d.Conv2D object at 0x000001F7000B9250>\n",
      "<keras.layers.convolutional.conv2d.Conv2D object at 0x000001F76EE89250>\n",
      "<keras.layers.convolutional.conv2d.Conv2D object at 0x000001F7000DCA10>\n",
      "<keras.layers.pooling.max_pooling2d.MaxPooling2D object at 0x000001F77038E050>\n",
      "<keras.layers.convolutional.conv2d.Conv2D object at 0x000001F77037CC90>\n",
      "<keras.layers.convolutional.conv2d.Conv2D object at 0x000001F76F010990>\n",
      "<keras.layers.convolutional.conv2d.Conv2D object at 0x000001F7001055D0>\n",
      "<keras.layers.pooling.max_pooling2d.MaxPooling2D object at 0x000001F7000D01D0>\n"
     ]
    }
   ],
   "source": [
    "for layer in VGG.layers:\n",
    "    layer.trainable=False\n",
    "    print(layer)"
   ]
  },
  {
   "cell_type": "code",
   "execution_count": 19,
   "metadata": {
    "ExecuteTime": {
     "end_time": "2023-06-07T06:50:47.170660200Z",
     "start_time": "2023-06-07T06:50:47.103531200Z"
    }
   },
   "outputs": [],
   "source": [
    "VGX=Flatten()(VGG.output)\n",
    "VGGPrediction=Dense(16,activation='softmax')(VGX)"
   ]
  },
  {
   "cell_type": "code",
   "execution_count": 20,
   "metadata": {
    "ExecuteTime": {
     "end_time": "2023-06-07T06:50:47.176121700Z",
     "start_time": "2023-06-07T06:50:47.151773100Z"
    }
   },
   "outputs": [],
   "source": [
    "VGG16Model=Model(VGG.input,VGGPrediction)"
   ]
  },
  {
   "cell_type": "code",
   "execution_count": 21,
   "metadata": {
    "ExecuteTime": {
     "end_time": "2023-06-07T06:50:47.183525100Z",
     "start_time": "2023-06-07T06:50:47.170660200Z"
    }
   },
   "outputs": [],
   "source": [
    "VGG16Model.compile(optimizer='adam',metrics=['accuracy'],loss='categorical_crossentropy')"
   ]
  },
  {
   "cell_type": "code",
   "execution_count": 22,
   "metadata": {
    "ExecuteTime": {
     "end_time": "2023-06-07T07:21:13.230527100Z",
     "start_time": "2023-06-07T06:50:47.190972200Z"
    }
   },
   "outputs": [
    {
     "name": "stdout",
     "output_type": "stream",
     "text": [
      "Epoch 1/20\n",
      "19/19 [==============================] - 81s 4s/step - loss: 3.5997 - accuracy: 0.2600 - val_loss: 3.1645 - val_accuracy: 0.2229\n",
      "Epoch 2/20\n",
      "19/19 [==============================] - 79s 4s/step - loss: 1.1683 - accuracy: 0.6400 - val_loss: 3.1312 - val_accuracy: 0.3185\n",
      "Epoch 3/20\n",
      "19/19 [==============================] - 106s 6s/step - loss: 0.8062 - accuracy: 0.8000 - val_loss: 2.9878 - val_accuracy: 0.3503\n",
      "Epoch 4/20\n",
      "19/19 [==============================] - 121s 6s/step - loss: 0.4535 - accuracy: 0.8667 - val_loss: 3.1090 - val_accuracy: 0.3758\n",
      "Epoch 5/20\n",
      "19/19 [==============================] - 112s 6s/step - loss: 0.2034 - accuracy: 0.9600 - val_loss: 3.0966 - val_accuracy: 0.3567\n",
      "Epoch 6/20\n",
      "19/19 [==============================] - 82s 4s/step - loss: 0.1647 - accuracy: 0.9533 - val_loss: 2.9549 - val_accuracy: 0.3439\n",
      "Epoch 7/20\n",
      "19/19 [==============================] - 91s 5s/step - loss: 0.1197 - accuracy: 0.9667 - val_loss: 3.2074 - val_accuracy: 0.4204\n",
      "Epoch 8/20\n",
      "19/19 [==============================] - 108s 6s/step - loss: 0.0902 - accuracy: 0.9733 - val_loss: 3.3664 - val_accuracy: 0.3439\n",
      "Epoch 9/20\n",
      "19/19 [==============================] - 92s 5s/step - loss: 0.0885 - accuracy: 0.9667 - val_loss: 2.9970 - val_accuracy: 0.4013\n",
      "Epoch 10/20\n",
      "19/19 [==============================] - 96s 5s/step - loss: 0.0602 - accuracy: 0.9800 - val_loss: 3.0432 - val_accuracy: 0.3758\n",
      "Epoch 11/20\n",
      "19/19 [==============================] - 102s 6s/step - loss: 0.0633 - accuracy: 0.9800 - val_loss: 3.0715 - val_accuracy: 0.3822\n",
      "Epoch 12/20\n",
      "19/19 [==============================] - 90s 5s/step - loss: 0.0571 - accuracy: 0.9800 - val_loss: 3.2097 - val_accuracy: 0.3885\n",
      "Epoch 13/20\n",
      "19/19 [==============================] - 76s 4s/step - loss: 0.0360 - accuracy: 0.9933 - val_loss: 3.0502 - val_accuracy: 0.4268\n",
      "Epoch 14/20\n",
      "19/19 [==============================] - 75s 4s/step - loss: 0.0172 - accuracy: 1.0000 - val_loss: 3.0073 - val_accuracy: 0.3949\n",
      "Epoch 15/20\n",
      "19/19 [==============================] - 75s 4s/step - loss: 0.0178 - accuracy: 1.0000 - val_loss: 3.0239 - val_accuracy: 0.3949\n",
      "Epoch 16/20\n",
      "19/19 [==============================] - 76s 4s/step - loss: 0.0115 - accuracy: 1.0000 - val_loss: 3.0840 - val_accuracy: 0.3885\n",
      "Epoch 17/20\n",
      "19/19 [==============================] - 74s 4s/step - loss: 0.0133 - accuracy: 1.0000 - val_loss: 2.9889 - val_accuracy: 0.4013\n",
      "Epoch 18/20\n",
      "19/19 [==============================] - 76s 4s/step - loss: 0.0138 - accuracy: 1.0000 - val_loss: 3.0308 - val_accuracy: 0.4204\n",
      "Epoch 19/20\n",
      "19/19 [==============================] - 96s 5s/step - loss: 0.0111 - accuracy: 1.0000 - val_loss: 3.0205 - val_accuracy: 0.4140\n",
      "Epoch 20/20\n",
      "19/19 [==============================] - 115s 6s/step - loss: 0.0091 - accuracy: 1.0000 - val_loss: 3.0243 - val_accuracy: 0.4140\n"
     ]
    },
    {
     "data": {
      "text/plain": "<keras.callbacks.History at 0x1f701f13610>"
     },
     "execution_count": 22,
     "metadata": {},
     "output_type": "execute_result"
    }
   ],
   "source": [
    "VGG16Model.fit(Training,epochs=20,validation_data=Testing,steps_per_epoch=len(Training),validation_steps=len(Testing))"
   ]
  },
  {
   "cell_type": "code",
   "execution_count": 23,
   "metadata": {
    "ExecuteTime": {
     "end_time": "2023-06-07T07:21:13.432951Z",
     "start_time": "2023-06-07T07:21:13.239080500Z"
    }
   },
   "outputs": [],
   "source": [
    "VGG16Model.save('VGG-50Ass3.h5')"
   ]
  },
  {
   "cell_type": "code",
   "execution_count": 24,
   "metadata": {
    "ExecuteTime": {
     "end_time": "2023-06-07T07:21:13.437473700Z",
     "start_time": "2023-06-07T07:21:13.432951Z"
    }
   },
   "outputs": [],
   "source": [
    "#XCeption\n",
    "from keras.applications.xception import Xception"
   ]
  },
  {
   "cell_type": "code",
   "execution_count": 25,
   "metadata": {
    "ExecuteTime": {
     "end_time": "2023-06-07T07:21:13.589586800Z",
     "start_time": "2023-06-07T07:21:13.438480Z"
    }
   },
   "outputs": [
    {
     "name": "stdout",
     "output_type": "stream",
     "text": [
      "Found 150 images belonging to 16 classes.\n",
      "Found 157 images belonging to 16 classes.\n"
     ]
    }
   ],
   "source": [
    "TrainingX=Train_Gen.flow_from_directory('CNN/Birds_Dataset/dataset/Training',class_mode='categorical',batch_size=8,target_size=(299,299))\n",
    "TestingX=Test_Gen.flow_from_directory('CNN/Birds_Dataset/dataset/Testing',class_mode='categorical',batch_size=8,target_size=(299,299))"
   ]
  },
  {
   "cell_type": "code",
   "execution_count": 26,
   "metadata": {
    "ExecuteTime": {
     "end_time": "2023-06-07T07:48:34.779198900Z",
     "start_time": "2023-06-07T07:21:13.545005600Z"
    }
   },
   "outputs": [
    {
     "name": "stdout",
     "output_type": "stream",
     "text": [
      "Epoch 1/20\n",
      "19/19 [==============================] - 90s 5s/step - loss: 15.3698 - accuracy: 0.3933 - val_loss: 17.3489 - val_accuracy: 0.3694\n",
      "Epoch 2/20\n",
      "19/19 [==============================] - 82s 4s/step - loss: 4.4077 - accuracy: 0.7667 - val_loss: 15.3721 - val_accuracy: 0.4650\n",
      "Epoch 3/20\n",
      "19/19 [==============================] - 88s 5s/step - loss: 2.4948 - accuracy: 0.8800 - val_loss: 16.5542 - val_accuracy: 0.4713\n",
      "Epoch 4/20\n",
      "19/19 [==============================] - 79s 4s/step - loss: 1.2400 - accuracy: 0.8867 - val_loss: 18.4090 - val_accuracy: 0.4777\n",
      "Epoch 5/20\n",
      "19/19 [==============================] - 80s 4s/step - loss: 0.2586 - accuracy: 0.9667 - val_loss: 20.2521 - val_accuracy: 0.4713\n",
      "Epoch 6/20\n",
      "19/19 [==============================] - 82s 4s/step - loss: 0.7324 - accuracy: 0.9333 - val_loss: 22.2960 - val_accuracy: 0.4904\n",
      "Epoch 7/20\n",
      "19/19 [==============================] - 92s 5s/step - loss: 0.8819 - accuracy: 0.9600 - val_loss: 16.0446 - val_accuracy: 0.5478\n",
      "Epoch 8/20\n",
      "19/19 [==============================] - 86s 5s/step - loss: 0.2636 - accuracy: 0.9533 - val_loss: 19.5166 - val_accuracy: 0.5287\n",
      "Epoch 9/20\n",
      "19/19 [==============================] - 82s 4s/step - loss: 0.2509 - accuracy: 0.9600 - val_loss: 21.7349 - val_accuracy: 0.5032\n",
      "Epoch 10/20\n",
      "19/19 [==============================] - 89s 5s/step - loss: 0.5497 - accuracy: 0.9600 - val_loss: 21.2827 - val_accuracy: 0.5159\n",
      "Epoch 11/20\n",
      "19/19 [==============================] - 85s 5s/step - loss: 0.2830 - accuracy: 0.9867 - val_loss: 18.7623 - val_accuracy: 0.5287\n",
      "Epoch 12/20\n",
      "19/19 [==============================] - 82s 4s/step - loss: 0.1038 - accuracy: 0.9867 - val_loss: 19.2742 - val_accuracy: 0.5541\n",
      "Epoch 13/20\n",
      "19/19 [==============================] - 84s 5s/step - loss: 0.2484 - accuracy: 0.9800 - val_loss: 22.2367 - val_accuracy: 0.4777\n",
      "Epoch 14/20\n",
      "19/19 [==============================] - 81s 4s/step - loss: 0.5853 - accuracy: 0.9533 - val_loss: 25.3819 - val_accuracy: 0.4968\n",
      "Epoch 15/20\n",
      "19/19 [==============================] - 76s 4s/step - loss: 0.5892 - accuracy: 0.9533 - val_loss: 25.1632 - val_accuracy: 0.4777\n",
      "Epoch 16/20\n",
      "19/19 [==============================] - 75s 4s/step - loss: 0.2683 - accuracy: 0.9600 - val_loss: 23.8252 - val_accuracy: 0.5223\n",
      "Epoch 17/20\n",
      "19/19 [==============================] - 74s 4s/step - loss: 0.3998 - accuracy: 0.9600 - val_loss: 24.8884 - val_accuracy: 0.4777\n",
      "Epoch 18/20\n",
      "19/19 [==============================] - 74s 4s/step - loss: 0.6035 - accuracy: 0.9800 - val_loss: 31.3521 - val_accuracy: 0.4076\n",
      "Epoch 19/20\n",
      "19/19 [==============================] - 77s 4s/step - loss: 0.7739 - accuracy: 0.9600 - val_loss: 23.8827 - val_accuracy: 0.4968\n",
      "Epoch 20/20\n",
      "19/19 [==============================] - 77s 4s/step - loss: 0.2175 - accuracy: 0.9933 - val_loss: 22.8921 - val_accuracy: 0.5350\n"
     ]
    },
    {
     "data": {
      "text/plain": "<keras.callbacks.History at 0x1f701bd3610>"
     },
     "execution_count": 26,
     "metadata": {},
     "output_type": "execute_result"
    }
   ],
   "source": [
    "Xcep=Xception(include_top=False,input_shape=(299,299,3))\n",
    "for layer in Xcep.layers:\n",
    "    layer.trainable=False\n",
    "XcepX=Flatten()(Xcep.output)\n",
    "XcepPrediction=Dense(16,activation='softmax')(XcepX)\n",
    "XcepModel=Model(Xcep.inputs,XcepPrediction)\n",
    "XcepModel.compile(optimizer='adam',metrics=['accuracy'],loss='categorical_crossentropy')\n",
    "XcepModel.fit(TrainingX,epochs=20,validation_data=TestingX,steps_per_epoch=len(TrainingX),validation_steps=len(TestingX))"
   ]
  },
  {
   "cell_type": "code",
   "execution_count": 27,
   "metadata": {
    "ExecuteTime": {
     "end_time": "2023-06-07T07:48:35.430380300Z",
     "start_time": "2023-06-07T07:48:34.793721400Z"
    }
   },
   "outputs": [],
   "source": [
    "XcepModel.save('XCep-50Ass3.h5')"
   ]
  },
  {
   "cell_type": "code",
   "execution_count": 33,
   "outputs": [],
   "source": [
    "#Inception Model\n",
    "from keras.applications.inception_v3 import  InceptionV3\n",
    "Inception=InceptionV3(include_top=False,input_shape=(299,299,3))\n",
    "for layer in Inception.layers:\n",
    "    layer.trainable=False\n",
    "InceptionX=Flatten()(Inception.output)\n",
    "PredictionIncep=Dense(16,activation='softmax')(InceptionX)\n",
    "InceptionModel=Model(inputs=Inception.input,outputs=PredictionIncep)\n",
    "InceptionModel.compile(optimizer='adam',metrics=['accuracy'],loss='categorical_crossentropy')"
   ],
   "metadata": {
    "collapsed": false,
    "ExecuteTime": {
     "end_time": "2023-06-07T08:41:10.804497400Z",
     "start_time": "2023-06-07T08:41:08.219922900Z"
    }
   }
  },
  {
   "cell_type": "code",
   "execution_count": 34,
   "outputs": [
    {
     "name": "stdout",
     "output_type": "stream",
     "text": [
      "Epoch 1/20\n",
      "19/19 [==============================] - 70s 4s/step - loss: 38.5016 - accuracy: 0.2267 - val_loss: 28.3049 - val_accuracy: 0.3949\n",
      "Epoch 2/20\n",
      "19/19 [==============================] - 64s 3s/step - loss: 8.2087 - accuracy: 0.7133 - val_loss: 28.5412 - val_accuracy: 0.3949\n",
      "Epoch 3/20\n",
      "19/19 [==============================] - 67s 4s/step - loss: 3.7029 - accuracy: 0.8533 - val_loss: 21.8674 - val_accuracy: 0.3822\n",
      "Epoch 4/20\n",
      "19/19 [==============================] - 67s 4s/step - loss: 1.9469 - accuracy: 0.9000 - val_loss: 24.9233 - val_accuracy: 0.4013\n",
      "Epoch 5/20\n",
      "19/19 [==============================] - 65s 4s/step - loss: 4.0585 - accuracy: 0.8733 - val_loss: 22.9135 - val_accuracy: 0.4268\n",
      "Epoch 6/20\n",
      "19/19 [==============================] - 67s 4s/step - loss: 1.4496 - accuracy: 0.9267 - val_loss: 29.3848 - val_accuracy: 0.4268\n",
      "Epoch 7/20\n",
      "19/19 [==============================] - 53s 3s/step - loss: 0.6132 - accuracy: 0.9267 - val_loss: 21.5028 - val_accuracy: 0.4777\n",
      "Epoch 8/20\n",
      "19/19 [==============================] - 57s 3s/step - loss: 0.7548 - accuracy: 0.9533 - val_loss: 24.3744 - val_accuracy: 0.4076\n",
      "Epoch 9/20\n",
      "19/19 [==============================] - 56s 3s/step - loss: 1.8013 - accuracy: 0.9133 - val_loss: 19.7604 - val_accuracy: 0.4904\n",
      "Epoch 10/20\n",
      "19/19 [==============================] - 56s 3s/step - loss: 1.5746 - accuracy: 0.9400 - val_loss: 30.5080 - val_accuracy: 0.4013\n",
      "Epoch 11/20\n",
      "19/19 [==============================] - 58s 3s/step - loss: 2.5042 - accuracy: 0.9133 - val_loss: 25.3798 - val_accuracy: 0.4268\n",
      "Epoch 12/20\n",
      "19/19 [==============================] - 57s 3s/step - loss: 0.7623 - accuracy: 0.9667 - val_loss: 31.5785 - val_accuracy: 0.4904\n",
      "Epoch 13/20\n",
      "19/19 [==============================] - 58s 3s/step - loss: 0.5702 - accuracy: 0.9667 - val_loss: 38.2661 - val_accuracy: 0.3439\n",
      "Epoch 14/20\n",
      "19/19 [==============================] - 63s 3s/step - loss: 0.2165 - accuracy: 0.9867 - val_loss: 36.2919 - val_accuracy: 0.3822\n",
      "Epoch 15/20\n",
      "19/19 [==============================] - 69s 4s/step - loss: 1.1466 - accuracy: 0.9667 - val_loss: 34.4917 - val_accuracy: 0.4395\n",
      "Epoch 16/20\n",
      "19/19 [==============================] - 71s 4s/step - loss: 0.1113 - accuracy: 0.9867 - val_loss: 33.1241 - val_accuracy: 0.4204\n",
      "Epoch 17/20\n",
      "19/19 [==============================] - 70s 4s/step - loss: 0.4756 - accuracy: 0.9867 - val_loss: 35.4121 - val_accuracy: 0.4013\n",
      "Epoch 18/20\n",
      "19/19 [==============================] - 69s 4s/step - loss: 0.1695 - accuracy: 0.9933 - val_loss: 32.8163 - val_accuracy: 0.4331\n",
      "Epoch 19/20\n",
      "19/19 [==============================] - 58s 3s/step - loss: 0.5831 - accuracy: 0.9733 - val_loss: 29.7827 - val_accuracy: 0.4777\n",
      "Epoch 20/20\n",
      "19/19 [==============================] - 57s 3s/step - loss: 1.0187 - accuracy: 0.9667 - val_loss: 30.8545 - val_accuracy: 0.4395\n"
     ]
    },
    {
     "data": {
      "text/plain": "<keras.callbacks.History at 0x1f71b69ba50>"
     },
     "execution_count": 34,
     "metadata": {},
     "output_type": "execute_result"
    }
   ],
   "source": [
    "InceptionModel.fit(TrainingX,epochs=20,validation_data=TestingX,steps_per_epoch=len(TrainingX),validation_steps=len(TestingX))"
   ],
   "metadata": {
    "collapsed": false,
    "ExecuteTime": {
     "end_time": "2023-06-07T09:02:06.029436600Z",
     "start_time": "2023-06-07T08:41:13.597951100Z"
    }
   }
  },
  {
   "cell_type": "code",
   "execution_count": null,
   "outputs": [],
   "source": [
    "InceptionModel.save('InceptionModel.h5')"
   ],
   "metadata": {
    "collapsed": false
   }
  },
  {
   "cell_type": "code",
   "execution_count": 37,
   "outputs": [],
   "source": [
    "#Testing Of Image\n",
    "import numpy as np\n",
    "from tensorflow.keras.preprocessing import image"
   ],
   "metadata": {
    "collapsed": false,
    "ExecuteTime": {
     "end_time": "2023-06-07T09:02:16.109599200Z",
     "start_time": "2023-06-07T09:02:16.108283800Z"
    }
   }
  },
  {
   "cell_type": "code",
   "execution_count": 38,
   "outputs": [],
   "source": [
    "ImageTest=image.load_img('CNN/Birds_Dataset/dataset/Testing/himbul/11620097904_33fa8ee878_o.jpg',target_size=(224,224))\n",
    "ImageTestForAno=image.load_img('CNN/Birds_Dataset/dataset/Testing/himbul/11620097904_33fa8ee878_o.jpg',target_size=(299,299))\n",
    "ImageTest2=image.load_img('CNN/Birds_Dataset/dataset/Testing/bonegl/DSC_4590.jpg',target_size=(224,224))\n",
    "ImageTest2ForAno=image.load_img('CNN/Birds_Dataset/dataset/Testing/bonegl/DSC_4590.jpg',target_size=(299,299))\n",
    "ImageTest3=image.load_img('CNN/Birds_Dataset/dataset/Testing/jglowl/_D32_13515.jpg',target_size=(224,224))\n",
    "ImageTest3ForAno=image.load_img('CNN/Birds_Dataset/dataset/Testing/jglowl/_D32_13515.jpg',target_size=(299,299))"
   ],
   "metadata": {
    "collapsed": false,
    "ExecuteTime": {
     "end_time": "2023-06-07T09:02:19.616045400Z",
     "start_time": "2023-06-07T09:02:18.597629600Z"
    }
   }
  },
  {
   "cell_type": "code",
   "execution_count": 39,
   "outputs": [],
   "source": [
    "ImageTest=image.img_to_array(ImageTest)\n",
    "ImageTest2=image.img_to_array(ImageTest2)\n",
    "ImageTest3=image.img_to_array(ImageTest3)\n",
    "ImageTestForAno=image.img_to_array(ImageTestForAno)\n",
    "ImageTest2ForAno=image.img_to_array(ImageTest2ForAno)\n",
    "ImageTest3ForAno=image.img_to_array(ImageTest3ForAno)"
   ],
   "metadata": {
    "collapsed": false,
    "ExecuteTime": {
     "end_time": "2023-06-07T09:02:19.625755Z",
     "start_time": "2023-06-07T09:02:19.621051800Z"
    }
   }
  },
  {
   "cell_type": "code",
   "execution_count": 40,
   "outputs": [],
   "source": [
    "ImageTest=np.expand_dims(ImageTest,axis=0)\n",
    "ImageTest2=np.expand_dims(ImageTest2,axis=0)\n",
    "ImageTest3=np.expand_dims(ImageTest3,axis=0)\n",
    "ImageTestForAno=np.expand_dims(ImageTestForAno,axis=0)\n",
    "ImageTest2ForAno=np.expand_dims(ImageTest2ForAno,axis=0)\n",
    "ImageTest3ForAno=np.expand_dims(ImageTest3ForAno,axis=0)"
   ],
   "metadata": {
    "collapsed": false,
    "ExecuteTime": {
     "end_time": "2023-06-07T09:02:20.679710200Z",
     "start_time": "2023-06-07T09:02:20.677690800Z"
    }
   }
  },
  {
   "cell_type": "code",
   "execution_count": 41,
   "outputs": [
    {
     "name": "stdout",
     "output_type": "stream",
     "text": [
      "1/1 [==============================] - 2s 2s/step\n",
      "1/1 [==============================] - 1s 527ms/step\n",
      "1/1 [==============================] - 1s 1s/step\n",
      "1/1 [==============================] - 1s 1s/step\n",
      "1/1 [==============================] - 0s 134ms/step\n",
      "1/1 [==============================] - 0s 157ms/step\n",
      "1/1 [==============================] - 0s 172ms/step\n",
      "1/1 [==============================] - 0s 104ms/step\n",
      "1/1 [==============================] - 0s 110ms/step\n",
      "1/1 [==============================] - 0s 220ms/step\n",
      "1/1 [==============================] - 0s 166ms/step\n",
      "1/1 [==============================] - 0s 110ms/step\n"
     ]
    }
   ],
   "source": [
    "Val1=ResModel.predict(ImageTest)\n",
    "Val11=VGG16Model.predict(ImageTest)\n",
    "Val111=XcepModel.predict(ImageTestForAno)\n",
    "Val1111=InceptionModel.predict(ImageTestForAno)\n",
    "\n",
    "Val2=ResModel.predict(ImageTest2)\n",
    "Val21=VGG16Model.predict(ImageTest2)\n",
    "Val211=XcepModel.predict(ImageTest2ForAno)\n",
    "Val2111=InceptionModel.predict(ImageTest2ForAno)\n",
    "\n",
    "Val3=ResModel.predict(ImageTest3)\n",
    "Val31=VGG16Model.predict(ImageTest3)\n",
    "Val311=XcepModel.predict(ImageTest3ForAno)\n",
    "Val3111=InceptionModel.predict(ImageTest3ForAno)"
   ],
   "metadata": {
    "collapsed": false,
    "ExecuteTime": {
     "end_time": "2023-06-07T09:02:28.517137800Z",
     "start_time": "2023-06-07T09:02:22.190845200Z"
    }
   }
  },
  {
   "cell_type": "code",
   "execution_count": 45,
   "outputs": [],
   "source": [
    "Val1=np.argmax(Val1)\n",
    "Val11=np.argmax(Val11)\n",
    "Val111=np.argmax(Val111)\n",
    "Val1111=np.argmax(Val1111)\n",
    "\n",
    "Val2=np.argmax(Val2)\n",
    "Val21=np.argmax(Val21)\n",
    "Val211=np.argmax(Val211)\n",
    "Val2111=np.argmax(Val2111)\n",
    "\n",
    "Val3=np.argmax(Val3)\n",
    "Val31=np.argmax(Val31)\n",
    "Val311=np.argmax(Val311)\n",
    "Val3111=np.argmax(Val3111)"
   ],
   "metadata": {
    "collapsed": false,
    "ExecuteTime": {
     "end_time": "2023-06-07T09:07:14.322838400Z",
     "start_time": "2023-06-07T09:07:14.316053800Z"
    }
   }
  },
  {
   "cell_type": "code",
   "execution_count": 52,
   "outputs": [],
   "source": [
    "Training.class_indices\n",
    "Output=['blasti','bonegl','brhkyt','cbrtsh',\n",
    " 'cmnmyn',\n",
    " 'gretit',\n",
    " 'hilpig',\n",
    " 'himbul',\n",
    " 'himgri',\n",
    " 'hsparo',\n",
    " 'indvul',\n",
    " 'jglowl',\n",
    " 'lbicrw',\n",
    " 'mgprob',\n",
    " 'rebimg',\n",
    " 'wcrsrt']"
   ],
   "metadata": {
    "collapsed": false,
    "ExecuteTime": {
     "end_time": "2023-06-07T09:13:10.860114600Z",
     "start_time": "2023-06-07T09:13:10.857650700Z"
    }
   }
  },
  {
   "cell_type": "code",
   "execution_count": 55,
   "outputs": [
    {
     "name": "stdout",
     "output_type": "stream",
     "text": [
      " Res-Net50Model Original:Himbul But Predicted is: cmnmyn \n",
      " VGG16 Original:Himbul But Predicted is: brhkyt  \n",
      " Xception Original:Himbul But Predicted is: blasti \n",
      "Inceptino_V3Model Original:Himbul But Predicted is: cmnmyn\n"
     ]
    }
   ],
   "source": [
    "print(\" Res-Net50Model Original:Himbul But Predicted is:\",Output[Val1],\"\\n VGG16 Original:Himbul But Predicted is:\",Output[Val11],\" \\n Xception Original:Himbul But Predicted is:\",Output[Val111],\"\\nInceptino_V3Model Original:Himbul But Predicted is:\",Output[Val1111])\n"
   ],
   "metadata": {
    "collapsed": false,
    "ExecuteTime": {
     "end_time": "2023-06-07T09:16:24.359129900Z",
     "start_time": "2023-06-07T09:16:24.343031600Z"
    }
   }
  },
  {
   "cell_type": "code",
   "execution_count": 58,
   "outputs": [
    {
     "name": "stdout",
     "output_type": "stream",
     "text": [
      " Res-Net50Model Original:bonegl But Predicted is: cmnmyn \n",
      " VGG16 Original:bonegl But Predicted is: himbul  \n",
      " Xception Original:bonegl But Predicted is: blasti \n",
      "Inceptino_V3Model Original:bonegl But Predicted is: himbul\n"
     ]
    }
   ],
   "source": [
    "print(\" Res-Net50Model Original:bonegl But Predicted is:\",Output[Val2],\"\\n VGG16 Original:bonegl But Predicted is:\",Output[Val21],\" \\n Xception Original:bonegl But Predicted is:\",Output[Val211],\"\\nInceptino_V3Model Original:bonegl But Predicted is:\",Output[Val2111])"
   ],
   "metadata": {
    "collapsed": false,
    "ExecuteTime": {
     "end_time": "2023-06-07T09:17:41.827971500Z",
     "start_time": "2023-06-07T09:17:41.818453100Z"
    }
   }
  },
  {
   "cell_type": "code",
   "execution_count": 59,
   "outputs": [
    {
     "name": "stdout",
     "output_type": "stream",
     "text": [
      " Res-Net50Model Original:jglowl But Predicted is: cmnmyn \n",
      " VGG16 Original:jglowl But Predicted is: himbul  \n",
      " Xception Original:jglowl But Predicted is: mgprob \n",
      "Inceptino_V3Model Original:jglowl But Predicted is: gretit\n"
     ]
    }
   ],
   "source": [
    "print(\" Res-Net50Model Original:jglowl But Predicted is:\",Output[Val3],\"\\n VGG16 Original:jglowl But Predicted is:\",Output[Val31],\" \\n Xception Original:jglowl But Predicted is:\",Output[Val311],\"\\nInceptino_V3Model Original:jglowl But Predicted is:\",Output[Val3111])"
   ],
   "metadata": {
    "collapsed": false,
    "ExecuteTime": {
     "end_time": "2023-06-07T09:18:56.340003100Z",
     "start_time": "2023-06-07T09:18:56.339337300Z"
    }
   }
  },
  {
   "cell_type": "markdown",
   "source": [
    "## Accuracy Wise Both on Validation and Original Accuracy XCeption Model Performs Well Than Other Models in Transfer Learning"
   ],
   "metadata": {
    "collapsed": false
   }
  }
 ],
 "metadata": {
  "kernelspec": {
   "display_name": "Python 3 (ipykernel)",
   "language": "python",
   "name": "python3"
  },
  "language_info": {
   "codemirror_mode": {
    "name": "ipython",
    "version": 3
   },
   "file_extension": ".py",
   "mimetype": "text/x-python",
   "name": "python",
   "nbconvert_exporter": "python",
   "pygments_lexer": "ipython3",
   "version": "3.11.3"
  }
 },
 "nbformat": 4,
 "nbformat_minor": 1
}
